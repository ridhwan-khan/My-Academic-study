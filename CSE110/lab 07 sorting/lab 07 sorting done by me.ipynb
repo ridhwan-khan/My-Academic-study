{
 "cells": [
  {
   "cell_type": "code",
   "execution_count": null,
   "metadata": {},
   "outputs": [],
   "source": [
    "# Python program for implementation of Bubble Sort\n",
    " \n",
    " \n",
    "def bubbleSort(arr):\n",
    "    n = len(arr)\n",
    " \n",
    "    # Traverse through all array elements\n",
    "    for i in range(n):  #0   1 2 3 4 5 \n",
    "                        #len 6\n",
    "        # Last i elements are already in place\n",
    "        for j in range(0, n-i-1): #0,1,2   - 5-i \n",
    " \n",
    "            # traverse the array from 0 to n-i-1\n",
    "            # Swap if the element found is greater\n",
    "            # than the next element\n",
    "            if arr[j] > arr[j+1]: #0 and 1 # 1 and 2  \n",
    "                arr[j], arr[j+1] = arr[j+1], arr[j]\n",
    " \n",
    " \n",
    "# Driver code to test above\n",
    "arr = [64, 34, 25, 12, 22, 11, 90]\n",
    " \n",
    "bubbleSort(arr)\n",
    " \n",
    "print(\"Sorted array is:\")\n",
    "for i in range(len(arr)):\n",
    "    print(\"%d\" % arr[i], end=\" \")"
   ]
  },
  {
   "cell_type": "code",
   "execution_count": null,
   "metadata": {},
   "outputs": [],
   "source": [
    "a=[1,2,3,4]\n",
    "for i in range (0,0):\n",
    "    print(i)"
   ]
  },
  {
   "cell_type": "code",
   "execution_count": null,
   "metadata": {},
   "outputs": [],
   "source": [
    "#task01\n",
    "my_list = [10, 1, 20, 3, 6, 2, 5, 11, 15, 2, 12, 14, 17, 18, 29]\n",
    "\n",
    "for num in range(len(my_list)-1):\n",
    "    for v in range(num):\n",
    "        if my_list[v]>my_list[v+1]:\n",
    "            my_list[v],my_list[v+1]=my_list[v+1],my_list[v]\n",
    "print(my_list)"
   ]
  },
  {
   "cell_type": "code",
   "execution_count": null,
   "metadata": {},
   "outputs": [],
   "source": [
    "\n",
    "# Selection sort in Python\n",
    "# time complexity O(n*n)\n",
    "#sorting by finding min_index\n",
    "def selectionSort(array, size):\n",
    "    \n",
    "    for ind in range(size):  #0 1 2 3\n",
    "        min_index = ind\n",
    " \n",
    "        for j in range(ind + 1, size): #1 2\n",
    "            # select the minimum element in every iteration\n",
    "            if array[j] < array[min_index]: #arr[1/2/3/4/5]<arr[0]\n",
    "                min_index = j               #min ind = 1/2/3/4/5\n",
    "         # swapping the elements to sort the array\n",
    "        (array[ind], array[min_index]) = (array[min_index], array[ind])\n",
    " \n",
    "arr = [-2, 45, 0, 11, -9,88,-97,-202,747]\n",
    "size = len(arr)\n",
    "selectionSort(arr, size)\n",
    "print('The array after sorting in Ascending Order by selection sort is:')\n",
    "print(arr)"
   ]
  },
  {
   "cell_type": "code",
   "execution_count": 22,
   "metadata": {},
   "outputs": [
    {
     "name": "stdout",
     "output_type": "stream",
     "text": [
      "[10, 1, 20, 3, 6, 2, 5, 11, 15, 2, 12, 14, 17, 29, 18]\n",
      "[1, 10, 20, 3, 6, 2, 5, 11, 15, 2, 12, 14, 17, 29, 18] i:  0 j:  14\n",
      "[1, 2, 20, 3, 6, 10, 5, 11, 15, 2, 12, 14, 17, 29, 18] i:  1 j:  14\n",
      "[1, 2, 2, 3, 6, 10, 5, 11, 15, 20, 12, 14, 17, 29, 18] i:  2 j:  14\n",
      "[1, 2, 2, 3, 6, 10, 5, 11, 15, 20, 12, 14, 17, 29, 18] i:  3 j:  14\n",
      "[1, 2, 2, 3, 5, 10, 6, 11, 15, 20, 12, 14, 17, 29, 18] i:  4 j:  14\n",
      "[1, 2, 2, 3, 5, 6, 10, 11, 15, 20, 12, 14, 17, 29, 18] i:  5 j:  14\n",
      "[1, 2, 2, 3, 5, 6, 10, 11, 15, 20, 12, 14, 17, 29, 18] i:  6 j:  14\n",
      "[1, 2, 2, 3, 5, 6, 10, 11, 15, 20, 12, 14, 17, 29, 18] i:  7 j:  14\n",
      "[1, 2, 2, 3, 5, 6, 10, 11, 12, 20, 15, 14, 17, 29, 18] i:  8 j:  14\n",
      "[1, 2, 2, 3, 5, 6, 10, 11, 12, 14, 15, 20, 17, 29, 18] i:  9 j:  14\n",
      "[1, 2, 2, 3, 5, 6, 10, 11, 12, 14, 15, 20, 17, 29, 18] i:  10 j:  14\n",
      "[1, 2, 2, 3, 5, 6, 10, 11, 12, 14, 15, 17, 20, 29, 18] i:  11 j:  14\n",
      "[1, 2, 2, 3, 5, 6, 10, 11, 12, 14, 15, 17, 18, 29, 20] i:  12 j:  14\n",
      "[1, 2, 2, 3, 5, 6, 10, 11, 12, 14, 15, 17, 18, 20, 29] i:  13 j:  14\n",
      "[1, 2, 2, 3, 5, 6, 10, 11, 12, 14, 15, 17, 18, 20, 29]\n"
     ]
    }
   ],
   "source": [
    "#task 02\n",
    "my_list1= [10, 1, 20, 3, 6, 2, 5, 11, 15, 2, 12, 14, 17, 29, 18]\n",
    "print(my_list1)\n",
    "for i in range (len(my_list1)-1): #0 14\n",
    "    minpos=i\n",
    "    for j in range(i+1,len(my_list1)): #1 14,15\n",
    "        if my_list1[j]<my_list1[minpos]: #15\n",
    "            minpos=j\n",
    "    (my_list1[i],my_list1[minpos])=(my_list1[minpos],my_list1[i])\n",
    "    print(my_list1,'i: ',i,'j: ',j)\n",
    "print(my_list1)\n",
    "        "
   ]
  },
  {
   "cell_type": "code",
   "execution_count": 25,
   "metadata": {},
   "outputs": [
    {
     "name": "stdout",
     "output_type": "stream",
     "text": [
      "[29, 20, 18, 17, 15, 14, 12, 11, 10, 6, 5, 3, 2, 2, 1]\n"
     ]
    }
   ],
   "source": [
    "my_list= [10, 1, 20, 3, 6, 2, 5, 11, 15, 2, 12, 14, 17, 18, 29]\n",
    "for i in range (len(my_list)):\n",
    "    minind=i\n",
    "    for k in range(i+1,len(my_list)):\n",
    "        if my_list[k]> my_list[minind]:\n",
    "            minind=k\n",
    "    my_list[i], my_list[minind]=my_list[minind],my_list[i]\n",
    "print(my_list)"
   ]
  },
  {
   "cell_type": "code",
   "execution_count": 30,
   "metadata": {},
   "outputs": [
    {
     "name": "stdout",
     "output_type": "stream",
     "text": [
      "[10, 100, 11, 80, 12, 70, 20, 56, 22, 30, 58, 16, 70, 15]\n"
     ]
    }
   ],
   "source": [
    "#task 04 \n",
    "sitting_list = [10,30,20,70,11,15,22,16,58,100,12,56,70,80]\n",
    "\n",
    "for i in range(len(sitting_list)):\n",
    "    if i%2==0:\n",
    "        minind=i\n",
    "        for min in range(i+1,len(sitting_list)):\n",
    "            if min%2==0:\n",
    "                if sitting_list[min]<sitting_list[minind]:\n",
    "                    minind=min\n",
    "        sitting_list[i],sitting_list[minind]=sitting_list[minind],sitting_list[i]\n",
    "    else:\n",
    "        minind=i\n",
    "        for oddin in range(i+1,len(sitting_list)):\n",
    "                if oddin%2!=0:\n",
    "                    if sitting_list[oddin]>sitting_list[minind]:\n",
    "                        minind=oddin\n",
    "        sitting_list[i],sitting_list[minind]=sitting_list[minind],sitting_list[i]\n",
    "    \n",
    "print(sitting_list)\n"
   ]
  },
  {
   "cell_type": "code",
   "execution_count": 33,
   "metadata": {},
   "outputs": [
    {
     "name": "stdout",
     "output_type": "stream",
     "text": [
      "[10, 100, 11, 80, 12, 70, 20, 56, 22, 30, 58, 16, 70, 15]\n"
     ]
    }
   ],
   "source": [
    "#task 04 \n",
    "sitting_list = [10,30,20,70,11,15,22,16,58,100,12,56,70,80]\n",
    "\n",
    "for i in range(len(sitting_list)):\n",
    "    if i%2==0:\n",
    "        minind=i\n",
    "        for even in range(i+2,len(sitting_list),2):\n",
    "            # if min%2==0:\n",
    "            if sitting_list[even]<sitting_list[minind]:\n",
    "                minind=even\n",
    "        sitting_list[i],sitting_list[minind]=sitting_list[minind],sitting_list[i]\n",
    "    else:\n",
    "        minind=i\n",
    "        for oddin in range(i+2,len(sitting_list),2):\n",
    "                # if oddin%2!=0:\n",
    "                if sitting_list[oddin]>sitting_list[minind]:\n",
    "                    minind=oddin\n",
    "        sitting_list[i],sitting_list[minind]=sitting_list[minind],sitting_list[i]\n",
    "    \n",
    "print(sitting_list)\n"
   ]
  },
  {
   "cell_type": "code",
   "execution_count": 43,
   "metadata": {},
   "outputs": [
    {
     "name": "stdout",
     "output_type": "stream",
     "text": [
      "{91: 'Alan', 83: 'Turing', 80: 'Elon', 90: 'Musk'}\n",
      "Alan\n",
      "Musk\n",
      "Turing\n",
      "Elon\n"
     ]
    }
   ],
   "source": [
    "#task 05\n",
    "lst = [ [\"Alan\", 95, 87, 91], [\"Turing\", 92, 90, 83], [\"Elon\", 87, 92, 80], [\"Musk\", 85, 94, 90] ]\n",
    "user_in=input('input course name: ')\n",
    "dic = {}\n",
    "for i in (lst):\n",
    "    if user_in== 'CSE110':\n",
    "        dic[i[1]]=i[0]\n",
    "    elif user_in=='PHY111':\n",
    "        dic[i[2]]=i[0]\n",
    "    elif user_in== 'MAT110':\n",
    "        dic[i[3]]=i[0]\n",
    "print(dic)\n",
    "li=[]\n",
    "for keys in dic:\n",
    "    li.append(keys)\n",
    "r=sorted(li,reverse=True)\n",
    "for i in r:\n",
    "    print(dic[i])\n",
    "\n",
    "    "
   ]
  },
  {
   "cell_type": "code",
   "execution_count": 53,
   "metadata": {},
   "outputs": [
    {
     "name": "stdout",
     "output_type": "stream",
     "text": [
      "4\n"
     ]
    }
   ],
   "source": [
    "#task 06 \n",
    "my_list = [4, 2, 3, 1, 6, 5]\n",
    "li06=my_list[:]\n",
    "# print(li06)\n",
    "count=0\n",
    "\n",
    "for i in range(len(my_list)-1):\n",
    "    minindex=i\n",
    "    for k in range (i+1,len(my_list)):\n",
    "        if my_list[k]<my_list[minindex] :\n",
    "            minindex=k\n",
    "    my_list[i],my_list[minindex]=my_list[minindex],my_list[i]\n",
    "for i in range(len(my_list)):\n",
    "    if my_list[i]!=li06[i]:\n",
    "        count+=1\n",
    "print(count)\n",
    "    "
   ]
  },
  {
   "cell_type": "code",
   "execution_count": 58,
   "metadata": {},
   "outputs": [
    {
     "ename": "AttributeError",
     "evalue": "'str' object has no attribute 'int'",
     "output_type": "error",
     "traceback": [
      "\u001b[1;31m---------------------------------------------------------------------------\u001b[0m",
      "\u001b[1;31mAttributeError\u001b[0m                            Traceback (most recent call last)",
      "\u001b[1;32mUntitled-1.ipynb Cell 11\u001b[0m in \u001b[0;36m<cell line: 4>\u001b[1;34m()\u001b[0m\n\u001b[0;32m      <a href='vscode-notebook-cell:Untitled-1.ipynb?jupyter-notebook#X13sdW50aXRsZWQ%3D?line=1'>2</a>\u001b[0m li1\u001b[39m=\u001b[39m\u001b[39minput\u001b[39m(\u001b[39m'\u001b[39m\u001b[39minpuut list1:\u001b[39m\u001b[39m'\u001b[39m)\n\u001b[0;32m      <a href='vscode-notebook-cell:Untitled-1.ipynb?jupyter-notebook#X13sdW50aXRsZWQ%3D?line=2'>3</a>\u001b[0m \u001b[39m# li2=input('list-2: ')\u001b[39;00m\n\u001b[1;32m----> <a href='vscode-notebook-cell:Untitled-1.ipynb?jupyter-notebook#X13sdW50aXRsZWQ%3D?line=3'>4</a>\u001b[0m c\u001b[39m=\u001b[39mli1\u001b[39m.\u001b[39;49mstrip(\u001b[39m'\u001b[39;49m\u001b[39m[]\u001b[39;49m\u001b[39m'\u001b[39;49m)\u001b[39m.\u001b[39;49mint(split(\u001b[39m'\u001b[39m\u001b[39m,\u001b[39m\u001b[39m'\u001b[39m))\n\u001b[0;32m      <a href='vscode-notebook-cell:Untitled-1.ipynb?jupyter-notebook#X13sdW50aXRsZWQ%3D?line=4'>5</a>\u001b[0m \u001b[39mprint\u001b[39m(c)\n\u001b[0;32m      <a href='vscode-notebook-cell:Untitled-1.ipynb?jupyter-notebook#X13sdW50aXRsZWQ%3D?line=5'>6</a>\u001b[0m \u001b[39mprint\u001b[39m(\u001b[39mtype\u001b[39m(c))\n",
      "\u001b[1;31mAttributeError\u001b[0m: 'str' object has no attribute 'int'"
     ]
    }
   ],
   "source": [
    "#task 07\n",
    "li1=input('inpuut list1:')\n",
    "# li2=input('list-2: ')\n",
    "c=li1.strip('[]').split(',')\n",
    "print(c)\n",
    "print(type(c))"
   ]
  },
  {
   "cell_type": "code",
   "execution_count": 4,
   "metadata": {},
   "outputs": [
    {
     "name": "stdout",
     "output_type": "stream",
     "text": [
      "invalid\n",
      "None\n"
     ]
    }
   ],
   "source": [
    "def x(x,y):\n",
    "    if y<2:\n",
    "        print('invalid')\n",
    "    return\n",
    "\n",
    "c=x(2,1)\n",
    "print(c)"
   ]
  },
  {
   "cell_type": "code",
   "execution_count": 3,
   "metadata": {},
   "outputs": [
    {
     "name": "stdout",
     "output_type": "stream",
     "text": [
      "{'dia': 10}\n",
      "{'dia': 30}\n"
     ]
    }
   ],
   "source": [
    "ridhwan={}\n",
    "ridhwan['dia']=10\n",
    "print(ridhwan)\n",
    "ridhwan['dia']=20\n",
    "print(ridhwan)"
   ]
  },
  {
   "cell_type": "code",
   "execution_count": 7,
   "metadata": {},
   "outputs": [
    {
     "name": "stdout",
     "output_type": "stream",
     "text": [
      "{'p': 3, 'y': 2, 't': 2, 'h': 2, 'o': 3, 'n': 4, 'r': 3, 'g': 3, 'a': 2, 'm': 3, 'i': 3, 's': 2, 'f': 2, 'u': 2}\n"
     ]
    }
   ],
   "source": [
    "s='python programming is fun'\n",
    "dic={}\n",
    "for i in s:\n",
    "    if i !=' ':\n",
    "        dic[i]=dic.get(i,1)+1\n",
    "print(dic)"
   ]
  },
  {
   "cell_type": "code",
   "execution_count": 9,
   "metadata": {},
   "outputs": [
    {
     "name": "stdout",
     "output_type": "stream",
     "text": [
      "{'a': [1, 3, 2], 'b': [2, 1], 'c': [1]}\n"
     ]
    }
   ],
   "source": [
    "x=[('a',1),('b',2),('a',3),('b',1),('a',2),('c',1)]\n",
    "d={}\n",
    "for i in x:\n",
    "    if i[0] not in d:\n",
    "        d[i[0]]=[i[1]]\n",
    "    else:\n",
    "        # d[i[0]].append(i[1])\n",
    "        d[i[0]]+=[i[1]]\n",
    "        \n",
    "print(d)"
   ]
  },
  {
   "cell_type": "code",
   "execution_count": 2,
   "metadata": {},
   "outputs": [
    {
     "name": "stdout",
     "output_type": "stream",
     "text": [
      "using merge: {'red': 1, 'orange': 2, 'yellow': 3, 'green': 4, 'blue': 5, 'indigo': 6, 'violet': 7}\n",
      "using update: {'red': 1, 'orange': 2, 'yellow': 3, 'green': 4, 'blue': 5, 'indigo': 6, 'violet': 7}\n"
     ]
    }
   ],
   "source": [
    "colors_set1 = {'red': 1, 'orange': 2, 'yellow': 3}\n",
    "colors_set2 = {'green': 4, 'blue': 5, 'indigo': 6, 'violet': 7}\n",
    "\n",
    "# Merge operator\n",
    "rainbow = colors_set1 | colors_set2\n",
    "print(\"using merge:\", rainbow)\n",
    "\n",
    "# Update operator\n",
    "colors_set1 |= colors_set2\n",
    "print(\"using update:\", colors_set1)"
   ]
  },
  {
   "cell_type": "code",
   "execution_count": 3,
   "metadata": {},
   "outputs": [
    {
     "ename": "TypeError",
     "evalue": "update expected at most 1 argument, got 2",
     "output_type": "error",
     "traceback": [
      "\u001b[1;31m---------------------------------------------------------------------------\u001b[0m",
      "\u001b[1;31mTypeError\u001b[0m                                 Traceback (most recent call last)",
      "\u001b[1;32md:\\WORK ASSIGNMENTS etc\\lab 07 sorting\\lab 07 sorting done by me.ipynb Cell 16\u001b[0m in \u001b[0;36m<cell line: 4>\u001b[1;34m()\u001b[0m\n\u001b[0;32m      <a href='vscode-notebook-cell:/d%3A/WORK%20ASSIGNMENTS%20etc/lab%2007%20sorting/lab%2007%20sorting%20done%20by%20me.ipynb#X21sZmlsZQ%3D%3D?line=1'>2</a>\u001b[0m r\u001b[39m=\u001b[39m{\u001b[39m'\u001b[39m\u001b[39mdia\u001b[39m\u001b[39m'\u001b[39m:\u001b[39m'\u001b[39m\u001b[39mboka\u001b[39m\u001b[39m'\u001b[39m}\n\u001b[0;32m      <a href='vscode-notebook-cell:/d%3A/WORK%20ASSIGNMENTS%20etc/lab%2007%20sorting/lab%2007%20sorting%20done%20by%20me.ipynb#X21sZmlsZQ%3D%3D?line=2'>3</a>\u001b[0m k\u001b[39m=\u001b[39m{}\n\u001b[1;32m----> <a href='vscode-notebook-cell:/d%3A/WORK%20ASSIGNMENTS%20etc/lab%2007%20sorting/lab%2007%20sorting%20done%20by%20me.ipynb#X21sZmlsZQ%3D%3D?line=3'>4</a>\u001b[0m k\u001b[39m.\u001b[39;49mupdate((d),(r))\n\u001b[0;32m      <a href='vscode-notebook-cell:/d%3A/WORK%20ASSIGNMENTS%20etc/lab%2007%20sorting/lab%2007%20sorting%20done%20by%20me.ipynb#X21sZmlsZQ%3D%3D?line=4'>5</a>\u001b[0m \u001b[39mprint\u001b[39m(k)\n",
      "\u001b[1;31mTypeError\u001b[0m: update expected at most 1 argument, got 2"
     ]
    }
   ],
   "source": [
    "d={'ridhwan':'joss',}\n",
    "r={'dia':'boka'}\n",
    "k={}\n",
    "k.update((d),(r))\n",
    "print(k)"
   ]
  },
  {
   "cell_type": "code",
   "execution_count": 1,
   "metadata": {},
   "outputs": [
    {
     "name": "stdout",
     "output_type": "stream",
     "text": [
      "before li :  [1, 2, [3], 4]\n",
      "l3:  [1, 2, [1234], 4]\n",
      "l2: [1, 2, [1234], 4]\n",
      "li:  [1, 2, [1234], 4]\n",
      "l4: [1, 2, [3], 4]\n"
     ]
    }
   ],
   "source": [
    "import copy\n",
    "li=[1,2,[3],4]\n",
    "print('before li : ',li)\n",
    "l3=li[:]\n",
    "l2=copy.copy(li)\n",
    "l4=copy.deepcopy(li)\n",
    "l2[2][0]=1234\n",
    "print('l3: ',l3)\n",
    "print('l2:' ,l2)\n",
    "print('li: ', li)\n",
    "print('l4:' , l4)"
   ]
  },
  {
   "cell_type": "code",
   "execution_count": 3,
   "metadata": {},
   "outputs": [
    {
     "name": "stdout",
     "output_type": "stream",
     "text": [
      "The original elements before shallow copying\n",
      "1 2 [3, 5] 4 \n",
      "[1, 2, [7, 5], 4]\n",
      "[1, 2, [7, 5], 4]\n",
      "The original elements after shallow copying\n",
      "1 2 [7, 5] 4 \n"
     ]
    }
   ],
   "source": [
    "import copy\n",
    "  \n",
    "# initializing list 1\n",
    "li1 = [1, 2, [3,5], 4]\n",
    "  \n",
    "# using copy to shallow copy \n",
    "li2 = copy.copy(li1)\n",
    "  \n",
    "# original elements of list\n",
    "print (\"The original elements before shallow copying\")\n",
    "for i in range(0,len(li1)):\n",
    "    print (li1[i],end=\" \")\n",
    "  \n",
    "print('\\r')\n",
    "  \n",
    "# adding and element to new list\n",
    "li2[2][0] = 7\n",
    "print(li1)\n",
    "print(li2)\n",
    "\n",
    "# checking if change is reflected\n",
    "print (\"The original elements after shallow copying\")\n",
    "for i in range(0,len( li1)):\n",
    "    print (li1[i],end=\" \")\n",
    "print('\\r')\n"
   ]
  },
  {
   "cell_type": "code",
   "execution_count": 4,
   "metadata": {},
   "outputs": [
    {
     "name": "stdout",
     "output_type": "stream",
     "text": [
      "Original List: [4, 8, 2, 10, 15, 18]\n",
      "After Cloning: [4, 8, 2, 10, 15, 18]\n"
     ]
    }
   ],
   "source": [
    "\n",
    "# Python code to clone or copy a list\n",
    "# Using append()\n",
    "def Cloning(li1):\n",
    "    li_copy =[]\n",
    "    for item in li1: li_copy.append(item)\n",
    "    return li_copy\n",
    "   \n",
    "# Driver Code\n",
    "li1 = [4, 8, 2, 10, 15, 18]\n",
    "li2 = Cloning(li1)\n",
    "print(\"Original List:\", li1)\n",
    "print(\"After Cloning:\", li2)"
   ]
  },
  {
   "cell_type": "code",
   "execution_count": 7,
   "metadata": {},
   "outputs": [
    {
     "name": "stdout",
     "output_type": "stream",
     "text": [
      "4\n",
      "8\n",
      "2\n",
      "10\n",
      "15\n",
      "18\n"
     ]
    }
   ],
   "source": [
    "li1 = [4, 8, 2, 10, 15, 18]\n",
    "for i in li1: print(i)"
   ]
  },
  {
   "cell_type": "code",
   "execution_count": 3,
   "metadata": {},
   "outputs": [
    {
     "name": "stdout",
     "output_type": "stream",
     "text": [
      "a\n"
     ]
    }
   ],
   "source": [
    "s='I am baymax'\n",
    "print(s[len(s)-2])"
   ]
  },
  {
   "cell_type": "code",
   "execution_count": 2,
   "metadata": {},
   "outputs": [
    {
     "name": "stdout",
     "output_type": "stream",
     "text": [
      "I \\love \"BANGLADESH\"\n"
     ]
    }
   ],
   "source": [
    "k='I \\\\love \"BANGLADESH\"' \n",
    "print(k)"
   ]
  }
 ],
 "metadata": {
  "kernelspec": {
   "display_name": "Python 3.10.4 64-bit",
   "language": "python",
   "name": "python3"
  },
  "language_info": {
   "codemirror_mode": {
    "name": "ipython",
    "version": 3
   },
   "file_extension": ".py",
   "mimetype": "text/x-python",
   "name": "python",
   "nbconvert_exporter": "python",
   "pygments_lexer": "ipython3",
   "version": "3.10.4"
  },
  "orig_nbformat": 4,
  "vscode": {
   "interpreter": {
    "hash": "b7299c1dbb38e985e3d1bc79bcd0468964fdcf53abee7d787a89c910fa60a91c"
   }
  }
 },
 "nbformat": 4,
 "nbformat_minor": 2
}
