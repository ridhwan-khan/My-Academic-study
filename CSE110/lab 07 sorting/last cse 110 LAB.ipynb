{
 "cells": [
  {
   "cell_type": "code",
   "execution_count": 4,
   "metadata": {},
   "outputs": [
    {
     "name": "stdout",
     "output_type": "stream",
     "text": [
      "[1, 2, 2, 3, 5, 6, 10, 11, 12, 14, 15, 17, 18, 20, 29]\n"
     ]
    }
   ],
   "source": [
    "#task 01\n",
    "\n",
    "# Python program for implementation of Bubble Sort\n",
    " \n",
    "def bubbleSort(my_list1):\n",
    "    n = len(my_list1)\n",
    "    swapped = False\n",
    "    for i in range(n-1):\n",
    "        for j in range(0, n-i-1):\n",
    "            if my_list1[j] > my_list1[j + 1]:\n",
    "                swapped = True\n",
    "                my_list1[j], my_list1[j + 1] = my_list1[j + 1], my_list1[j]\n",
    "         \n",
    "        if not swapped:\n",
    "           \n",
    "            return\n",
    " \n",
    " \n",
    "\n",
    "my_list1 = [10, 1, 20, 3, 6, 2, 5, 11, 15, 2, 12, 14, 17, 18, 29]\n",
    " \n",
    "bubbleSort(my_list1) #sorted the list and updated \n",
    "print(my_list1) #ekhane updatedta print hocche\n"
   ]
  },
  {
   "cell_type": "code",
   "execution_count": null,
   "metadata": {},
   "outputs": [],
   "source": [
    "#task 02\n",
    "my_list2= [10, 1, 20, 3, 6, 2, 5, 11, 15, 2, 12, 14, 17, 18, 29]\n"
   ]
  }
 ],
 "metadata": {
  "kernelspec": {
   "display_name": "Python 3.9.7 ('base')",
   "language": "python",
   "name": "python3"
  },
  "language_info": {
   "codemirror_mode": {
    "name": "ipython",
    "version": 3
   },
   "file_extension": ".py",
   "mimetype": "text/x-python",
   "name": "python",
   "nbconvert_exporter": "python",
   "pygments_lexer": "ipython3",
   "version": "3.9.7"
  },
  "orig_nbformat": 4,
  "vscode": {
   "interpreter": {
    "hash": "ad2bdc8ecc057115af97d19610ffacc2b4e99fae6737bb82f5d7fb13d2f2c186"
   }
  }
 },
 "nbformat": 4,
 "nbformat_minor": 2
}
