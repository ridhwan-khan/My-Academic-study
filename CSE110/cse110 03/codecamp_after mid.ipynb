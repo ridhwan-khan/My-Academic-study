{
 "cells": [
  {
   "cell_type": "code",
   "execution_count": 10,
   "metadata": {},
   "outputs": [
    {
     "name": "stdout",
     "output_type": "stream",
     "text": [
      "{'ridhwan': 3, 'rafi': 1, 'amira': 2}\n"
     ]
    }
   ],
   "source": [
    "count= dict()\n",
    "names= ['ridhwan','rafi','amira','ridhwan','ridhwan','amira']\n",
    "for name in names:\n",
    "    count[name]= count.get(name,0)+1\n",
    "#get(keyname,value) but \n",
    "#if i use get (ridhwan) and the ridhwan is not in the dictionary \n",
    "#then it will be an error oviously cause theres nothing like ridhwan \n",
    "#so i can use dictonary_name.get(ridhwan,0) which will give the value 0 for ridhwan \n",
    "#though theres no ridhwan so i can just add ridhwan for my use so \n",
    "#we are adding ridhwan in the dictionairy for our best use here \n",
    "#and the process is like assigning the dictionary key and value and how\n",
    "#to do it ??mm let's just get dictionary[iterable /name]=dictionary.get(key,value)\n",
    "print(count)\n"
   ]
  },
  {
   "cell_type": "code",
   "execution_count": 4,
   "metadata": {},
   "outputs": [
    {
     "name": "stdout",
     "output_type": "stream",
     "text": [
      "{'ridhwan': 3, 'rafi': 1, 'amira': 2}\n"
     ]
    }
   ],
   "source": [
    "value_count=dict()\n",
    "names= ['ridhwan','rafi','amira','ridhwan','ridhwan','amira']\n",
    "for name in names:\n",
    "    if name not in value_count:\n",
    "        value_count[name]=1\n",
    "    else:\n",
    "        value_count[name]+=1\n",
    "print(value_count)"
   ]
  },
  {
   "cell_type": "code",
   "execution_count": 18,
   "metadata": {},
   "outputs": [
    {
     "name": "stdout",
     "output_type": "stream",
     "text": [
      "0\n",
      "3\n"
     ]
    }
   ],
   "source": [
    "dict_test={'ridhwan': 3, 'rafi': 1, 'amira': 2}\n",
    "print(dict_test.get('hamti damti',0))\n",
    "print(dict_test.get('ridhwan',5))\n",
    "#as theres a ridhwan inside so it does not matter whatever i initialize\n"
   ]
  },
  {
   "cell_type": "code",
   "execution_count": 34,
   "metadata": {},
   "outputs": [
    {
     "name": "stdout",
     "output_type": "stream",
     "text": [
      "ridhwan =3 rafi =1 amira =2 without  concate lets use comma\n",
      "ridhwan = 3\n",
      "rafi = 1\n",
      "amira = 2\n"
     ]
    }
   ],
   "source": [
    "dict_test={'ridhwan': 3, 'rafi': 1, 'amira': 2}\n",
    "for key in dict_test:\n",
    "    print(key+' ='+str(dict_test[key]),end=' ')\n",
    "print('without  concate lets use comma')\n",
    "for key in dict_test:\n",
    "    print(key+' =',dict_test[key])"
   ]
  },
  {
   "cell_type": "code",
   "execution_count": 44,
   "metadata": {},
   "outputs": [
    {
     "name": "stdout",
     "output_type": "stream",
     "text": [
      "['ridhwan', 'rafi', 'amira']\n",
      "<class 'dict_keys'>\n",
      "dict_keys(['ridhwan', 'rafi', 'amira'])\n",
      "dict_values([3, 1, 2])\n",
      "dict_items([('ridhwan', 3), ('rafi', 1), ('amira', 2)])\n",
      "<class 'dict_items'>\n"
     ]
    }
   ],
   "source": [
    "dict_test={'ridhwan': 3, 'rafi': 1, 'amira': 2}\n",
    "print(list(dict_test))\n",
    "print(type(dict_test.keys()))\n",
    "print(dict_test.keys())\n",
    "print(dict_test.values())\n",
    "print(dict_test.items())\n",
    "print(type(dict_test.items()))\n"
   ]
  },
  {
   "cell_type": "code",
   "execution_count": 2,
   "metadata": {},
   "outputs": [
    {
     "name": "stdout",
     "output_type": "stream",
     "text": [
      "ridhwan = 3\n",
      "rafi = 1\n",
      "amira = 2\n"
     ]
    }
   ],
   "source": [
    "#only python feature\n",
    "dict_test={'ridhwan': 3, 'rafi': 1, 'amira': 2}\n",
    "for var1,var2 in dict_test.items():\n",
    "    print(var1,'=',var2)"
   ]
  },
  {
   "cell_type": "code",
   "execution_count": 49,
   "metadata": {},
   "outputs": [
    {
     "ename": "PermissionError",
     "evalue": "[Errno 13] Permission denied: 'D:\\\\BRAC university\\\\BOOKS'",
     "output_type": "error",
     "traceback": [
      "\u001b[1;31m---------------------------------------------------------------------------\u001b[0m",
      "\u001b[1;31mPermissionError\u001b[0m                           Traceback (most recent call last)",
      "\u001b[1;32mUntitled-1.ipynb Cell 7\u001b[0m in \u001b[0;36m<cell line: 2>\u001b[1;34m()\u001b[0m\n\u001b[0;32m      <a href='vscode-notebook-cell:Untitled-1.ipynb?jupyter-notebook#ch0000007untitled?line=0'>1</a>\u001b[0m name\u001b[39m=\u001b[39m\u001b[39minput\u001b[39m()\n\u001b[1;32m----> <a href='vscode-notebook-cell:Untitled-1.ipynb?jupyter-notebook#ch0000007untitled?line=1'>2</a>\u001b[0m handle\u001b[39m=\u001b[39m\u001b[39mopen\u001b[39;49m(name)\n\u001b[0;32m      <a href='vscode-notebook-cell:Untitled-1.ipynb?jupyter-notebook#ch0000007untitled?line=2'>3</a>\u001b[0m \u001b[39mprint\u001b[39m(handle)\n",
      "\u001b[1;31mPermissionError\u001b[0m: [Errno 13] Permission denied: 'D:\\\\BRAC university\\\\BOOKS'"
     ]
    }
   ],
   "source": [
    "name=input()\n",
    "handle=open(name)\n",
    "print(handle)"
   ]
  },
  {
   "cell_type": "code",
   "execution_count": 5,
   "metadata": {},
   "outputs": [
    {
     "name": "stdout",
     "output_type": "stream",
     "text": [
      "False\n",
      "97\n",
      "65\n"
     ]
    }
   ],
   "source": [
    "print(('a',)<('A',))\n",
    "print(ord('a'))\n",
    "print(ord('A'))"
   ]
  },
  {
   "cell_type": "code",
   "execution_count": 14,
   "metadata": {},
   "outputs": [
    {
     "name": "stdout",
     "output_type": "stream",
     "text": [
      "csev 2\n",
      "cwen 4\n",
      "{'csev': 2, 'cwen': 4}\n",
      "dict_items([('csev', 2), ('cwen', 4)])\n",
      "<class 'dict_items'>\n",
      "{'csev': 2, 'cwen': 4, 'abc': 'xyz'}\n",
      "dict_items([('csev', 2), ('cwen', 4), ('abc', 'xyz')])\n"
     ]
    }
   ],
   "source": [
    "#codecamp  \n",
    "# from typing import TYPE_CHECKING\n",
    "\n",
    "\n",
    "d= dict()\n",
    "d['csev']=2\n",
    "d['cwen']=4\n",
    "for (k,v) in d.items():\n",
    "    print(k,v)\n",
    "print(d)\n",
    "# print()\n",
    "\n",
    "\n",
    "\n",
    "# tups= d.items()\n",
    "print(tups)\n",
    "print(type(tups))\n",
    "d[\"abc\"]=\"xyz\"\n",
    "print(d)\n",
    "tups = d.items()\n",
    "print(tups)\n",
    "# tups=str(tups)\n",
    "# print(tups)\n",
    "# print(type(tus))\n",
    "# # print(tups[])\n",
    "\n",
    "# for key in tups:\n",
    "#      print(key, '->', tups[key])"
   ]
  },
  {
   "cell_type": "code",
   "execution_count": 21,
   "metadata": {},
   "outputs": [
    {
     "name": "stdout",
     "output_type": "stream",
     "text": [
      "[['a', 4], ['b', 2], ['c', 3], ['d', 0]]\n",
      "[['a', 2], ['b', 4], ['c', 3], ['d', 0]] store 1 k j= 0\n",
      "[['a', 2], ['b', 4], ['c', 3], ['d', 0]] store 2 k j= 0\n",
      "[['a', 0], ['b', 4], ['c', 3], ['d', 2]] store 3 k j= 0\n",
      "[['a', 0], ['b', 3], ['c', 4], ['d', 2]] store 2 k j= 1\n",
      "[['a', 0], ['b', 2], ['c', 4], ['d', 3]] store 3 k j= 1\n",
      "[['a', 0], ['b', 2], ['c', 3], ['d', 4]] store 3 k j= 2\n",
      "[('a', 0), ['b', 2], ['c', 3], ['d', 4]] r= 0\n",
      "[('a', 0), ('b', 2), ['c', 3], ['d', 4]] r= 1\n",
      "[('a', 0), ('b', 2), ('c', 3), ['d', 4]] r= 2\n",
      "[('a', 0), ('b', 2), ('c', 3), ('d', 4)] r= 3\n",
      "RESULT= (('a', 0), ('b', 2), ('c', 3), ('d', 4))\n"
     ]
    }
   ],
   "source": [
    "##my bad i made this one more complicated (ztb problem )(cse110)\n",
    "tups=(('a',4),('b',2),('c',3),('d',0)) \n",
    "store=[]\n",
    "for i in range(0,len(tups) ):\n",
    "# # len(tups)\n",
    "#     if tups[i][1]> tups[i+1][1] :  #tups[i]\n",
    "#         (tups[i][1],tups[i+1][1])=(tups[i+1][1],tups[i][1])\n",
    "# print(list(tups))\n",
    "\n",
    "    store.append(list(tups[i]))\n",
    "print(store)\n",
    "for j in range (0,len(store)-1):\n",
    "    #duita loop chalaabo \n",
    "    #first 2nd element sathe baki shb gular compare korbo \n",
    "    #jodi boro hoy borotar value save korbo then swap krbo shbcheye chototar sathe \n",
    "    for k in range(j+1,len(store)):\n",
    "        if store[j][1]>store[k][1]:\n",
    "            store[j][1],store[k][1]= store[k][1],store[j][1]  #\n",
    "        print(store,'store',k,'k','j=',j)\n",
    "for r in range(len(store)):\n",
    "    store[r]=tuple(store[r])\n",
    "    print(store,'r=',r)    \n",
    "tups=(tuple(store))\n",
    "print('RESULT=',tups)"
   ]
  },
  {
   "cell_type": "code",
   "execution_count": 16,
   "metadata": {},
   "outputs": [
    {
     "name": "stdout",
     "output_type": "stream",
     "text": [
      "RESULT (('d', 0), ('b', 2), ('c', 3), ('a', 4))\n"
     ]
    }
   ],
   "source": [
    "##zarin tasniya mam's problem \n",
    "tups2=(('a',4),('b',2),('c',3),('d',0))\n",
    "store2=[] \n",
    "for i in range(len(tups2)):\n",
    "    store2.append(tups2[i])\n",
    "    \n",
    "# print(store2)\n",
    "len(store2)\n",
    "for j in range (len(store2) - 1): #4-1=3 \n",
    "    # print(j)\n",
    "    for k in range(j,len(store2)):\n",
    "        if store2[j][1]>store2[k][1]:\n",
    "            store2[j],store2[k]=store2[k],store2[j]\n",
    "            # print(store2)\n",
    "# print(store2)\n",
    "tups2=tuple(store2)\n",
    "print('RESULT',tups2)"
   ]
  },
  {
   "cell_type": "code",
   "execution_count": null,
   "metadata": {},
   "outputs": [],
   "source": []
  }
 ],
 "metadata": {
  "kernelspec": {
   "display_name": "Python 3.10.4 64-bit",
   "language": "python",
   "name": "python3"
  },
  "language_info": {
   "codemirror_mode": {
    "name": "ipython",
    "version": 3
   },
   "file_extension": ".py",
   "mimetype": "text/x-python",
   "name": "python",
   "nbconvert_exporter": "python",
   "pygments_lexer": "ipython3",
   "version": "3.10.4"
  },
  "orig_nbformat": 4,
  "vscode": {
   "interpreter": {
    "hash": "b7299c1dbb38e985e3d1bc79bcd0468964fdcf53abee7d787a89c910fa60a91c"
   }
  }
 },
 "nbformat": 4,
 "nbformat_minor": 2
}
