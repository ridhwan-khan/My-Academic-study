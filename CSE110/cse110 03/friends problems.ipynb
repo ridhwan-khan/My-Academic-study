{
 "cells": [
  {
   "cell_type": "code",
   "execution_count": 5,
   "metadata": {},
   "outputs": [
    {
     "name": "stdout",
     "output_type": "stream",
     "text": [
      "24\n",
      "18\n",
      "12\n",
      "6\n",
      "0\n",
      "-6\n"
     ]
    }
   ],
   "source": [
    "#01\n",
    "for i in range(24,-7,-6):\n",
    "    print(i)\n",
    "    "
   ]
  },
  {
   "cell_type": "code",
   "execution_count": 7,
   "metadata": {},
   "outputs": [
    {
     "name": "stdout",
     "output_type": "stream",
     "text": [
      "May Allah bless you with mercy. Happy Eid!\n"
     ]
    }
   ],
   "source": [
    "s1 = \"CWo\u00167bbW^\u0016Xb[ii\u0016oek\u0016m_j^\u0016c[hYo$\u0016>Wffo\u0016;_Z\u0017\"\n",
    "s2 = \"\"\n",
    "for i in s1:\n",
    "  s2 += chr(ord(i)+10)\n",
    "print(s2)"
   ]
  },
  {
   "cell_type": "code",
   "execution_count": 3,
   "metadata": {},
   "outputs": [
    {
     "name": "stdout",
     "output_type": "stream",
     "text": [
      "Z:  [3, 5, 6]\n",
      "test largest 3\n",
      "test largest 5\n",
      "test largest 6\n",
      "LARGEST distance 6\n"
     ]
    }
   ],
   "source": [
    "#RAIYANA DISHA quiz problem\n",
    "from math import sqrt\n",
    "x=[2,3,4]\n",
    "y=[3,4,5]  #RIDHWAN \n",
    "\n",
    "z=[]\n",
    "formula=0\n",
    "for i in range(3):\n",
    "    formula=(sqrt((x[i]**2)+(y[i]**2)))\n",
    "    z.append(int(formula))\n",
    "print('Z: ',z)\n",
    "cnt=0\n",
    "largest=0\n",
    "for j in z:\n",
    "    if j>largest:\n",
    "        largest= j \n",
    "        print('test largest',largest)\n",
    "print('LARGEST distance',largest)\n"
   ]
  },
  {
   "cell_type": "code",
   "execution_count": 5,
   "metadata": {},
   "outputs": [
    {
     "name": "stdout",
     "output_type": "stream",
     "text": [
      "    * \n",
      "   # # \n",
      "  * * * \n",
      " # # # # \n",
      "* * * * * \n",
      " # # # # \n",
      "  * * * \n",
      "   # # \n",
      "    * \n"
     ]
    }
   ],
   "source": [
    "n = int(input(\"Enter the number: \"))\n",
    "for i in range(n):\n",
    "    for j in range(n,i+1,-1):  ##ayeshar code thik krlam\n",
    "        print(\" \",end=\"\")\n",
    "    for k in range(0,i+1):\n",
    "        if i%2 == 0:\n",
    "            print(\"*\", end=\" \")\n",
    "        else:\n",
    "            print(\"#\", end=\" \")\n",
    "    print()\n",
    "\n",
    "for i in range(n-1):\n",
    "    for k in range(0,i+1):\n",
    "        print(\" \", end=\"\")\n",
    "    for j in range(n,i+1,-1):\n",
    "        if i % 2 == 0:\n",
    "            print(\"#\", end=\" \")\n",
    "        else:\n",
    "            print(\"*\", end=\" \")\n",
    "    print()"
   ]
  },
  {
   "cell_type": "code",
   "execution_count": 9,
   "metadata": {},
   "outputs": [
    {
     "name": "stdout",
     "output_type": "stream",
     "text": [
      "    * \n",
      "   # # \n",
      "  * * * \n",
      " # # # # \n",
      "* * * * * \n"
     ]
    }
   ],
   "source": [
    "n = int(input(\"Enter the number: \"))\n",
    "for i in range(n):\n",
    "    for j in range(n,i+1,-1):\n",
    "        print(\" \",end=\"\")\n",
    "    for k in range(0,i+1):\n",
    "        if i%2 == 0:\n",
    "            print(\"* \",end='')\n",
    "        else:\n",
    "            print(\"#\", end=\" \")\n",
    "    print()\n"
   ]
  },
  {
   "cell_type": "code",
   "execution_count": 4,
   "metadata": {},
   "outputs": [
    {
     "name": "stdout",
     "output_type": "stream",
     "text": [
      "ROW NO = 5\n",
      "    * \n",
      "   # # \n",
      "  * * * \n",
      " # # # # \n",
      "* * * * * \n",
      " # # # # \n",
      "  * * * \n",
      "   # # \n",
      "    * \n"
     ]
    }
   ],
   "source": [
    "rows=int(input('rows'))#RIDHWAN KHAN \n",
    "print('ROW NO =',rows)\n",
    "for i in range (rows):  #soja pyramid banalam #rows= 0,1,2,3,4  (5 rows ) \n",
    "    if i%2==0:\n",
    "        print((' '*(rows-1-i))+('* '*(i+1)))\n",
    "    else:\n",
    "        print((' '*(rows-1-i))+('# '*(i+1)))\n",
    "\n",
    "for j in range (rows-1,0,-1):           #inverse pyramid\n",
    "    if j %2!=0:                         #cause i am not taking the 5 rows again \n",
    "                                    #starting from 4 and ending at 1 so logic changed\n",
    "        print(\" \"*(rows-j)+'* '*(j))   #4,3,2,1 (4 rows)\n",
    "    else:\n",
    "        print(\" \"*(rows-j)+'# '*(j))"
   ]
  },
  {
   "cell_type": "code",
   "execution_count": 4,
   "metadata": {},
   "outputs": [
    {
     "name": "stdout",
     "output_type": "stream",
     "text": [
      "[5, 6, -2, 7, 2]\n",
      "PRODUCT -840\n"
     ]
    }
   ],
   "source": [
    "#bux maiumuna prblm\n",
    "l1=[]       #RIDHWAN ninja hatori :) \n",
    "l2=1\n",
    "while True:\n",
    "    n=input('dhummachale number till stop')\n",
    "    \n",
    "    if n=='STOP':\n",
    "        break\n",
    "    else:\n",
    "        l1.append(int(n))\n",
    "        l2*=int(n)\n",
    "print(l1)\n",
    "print('PRODUCT',l2)"
   ]
  },
  {
   "cell_type": "code",
   "execution_count": 24,
   "metadata": {},
   "outputs": [
    {
     "name": "stdout",
     "output_type": "stream",
     "text": [
      "IFMMP"
     ]
    }
   ],
   "source": [
    "#amira jilpii prblm \n",
    "word=str(input())\n",
    "num=int(input())\n",
    "for i in range (len(word)):  #RIDHWAN NINJA hatori\n",
    "    if num%2==0:\n",
    "        wordd=word[0::2]\n",
    "        print(chr(ord(word[i])-31),end=\"\")\n",
    "    else:\n",
    "        wordd=word[1::2]\n",
    "        print(chr(ord(word[i])-31),end=\"\")\n"
   ]
  },
  {
   "cell_type": "code",
   "execution_count": 23,
   "metadata": {},
   "outputs": [
    {
     "name": "stdout",
     "output_type": "stream",
     "text": [
      "input 1 \n",
      "input 2 \n",
      "input 3 \n",
      "input 4 \n",
      "input 0 \n",
      "[1, 2, 3, 4]\n",
      "4\n",
      "3\n",
      "2\n",
      "1\n"
     ]
    }
   ],
   "source": [
    "#surovi T1\n",
    "s1=[]\n",
    "while True:\n",
    "    s=int(input('boom'))\n",
    "    print('input',s,end=' ')\n",
    "    print()\n",
    "    if s==0:\n",
    "\n",
    "        break\n",
    "    else:\n",
    "        s1.append(s)\n",
    "print(s1)\n",
    "\n",
    "for suru in range(len(s1)-1,-1,-1):\n",
    "    \n",
    "    print(s1[suru])"
   ]
  },
  {
   "cell_type": "code",
   "execution_count": null,
   "metadata": {},
   "outputs": [],
   "source": []
  },
  {
   "cell_type": "code",
   "execution_count": 2,
   "metadata": {},
   "outputs": [
    {
     "name": "stdout",
     "output_type": "stream",
     "text": [
      "inputridhwan\n"
     ]
    }
   ],
   "source": [
    "#suru 2\n",
    "kechal=[]\n",
    "santi=[]\n",
    "n=input('string')\n",
    "print('input',end='')\n",
    "while n!=\"\":\n",
    "    if n not in kechal:\n",
    "        kechal.append(n)\n",
    "    n=input('string')\n",
    "    # else:\n",
    "    #     pass\n",
    "    #     n=input('string')\n",
    "for k in range(1,len(kechal)+1):\n",
    "    print( kechal[-k])        "
   ]
  },
  {
   "cell_type": "code",
   "execution_count": 1,
   "metadata": {},
   "outputs": [
    {
     "name": "stdout",
     "output_type": "stream",
     "text": [
      "input['ridhwan', 'ridhwan', 'khay', 'khan', 'khan', 'love ', 'muri', 'love'] len=  8\n",
      "\n",
      "santi ['ridhwan', 'khay', 'khan', 'love ', 'muri', 'love']\n",
      "output love\n",
      "output muri\n",
      "output love \n",
      "output khan\n",
      "output khay\n",
      "output ridhwan\n"
     ]
    }
   ],
   "source": [
    "#suru 2\n",
    "kechal=[]\n",
    "santi=[]\n",
    "n=input('string')\n",
    "print('input',end='')\n",
    "while n!=\"\":\n",
    "    kechal.append(n)\n",
    "    n=input('string')\n",
    "    \n",
    "print(kechal,'len= ',len(kechal))\n",
    "print()\n",
    "\n",
    "for i in range(len(kechal)):\n",
    "    \n",
    "    if kechal[i] not in santi:\n",
    "        santi.append(kechal[i])\n",
    "print('santi',santi)\n",
    "for k in range(1,len(santi)+1):\n",
    "    print( 'output',santi[-k])"
   ]
  },
  {
   "cell_type": "code",
   "execution_count": 5,
   "metadata": {},
   "outputs": [
    {
     "name": "stdout",
     "output_type": "stream",
     "text": [
      "['Amira', 'loves', 'Ridhwan', 'in', 'multiverse']\n",
      "\n",
      "esrevitlum ni nawhdiR sevol arimA\n"
     ]
    }
   ],
   "source": [
    "#amira chowdhury\n",
    "rid=input('string') \n",
    "sentence=rid.split( )\n",
    "print(sentence)\n",
    "print()\n",
    "print(rid[::-1])"
   ]
  },
  {
   "cell_type": "code",
   "execution_count": 6,
   "metadata": {},
   "outputs": [
    {
     "name": "stdout",
     "output_type": "stream",
     "text": [
      "dir\n"
     ]
    }
   ],
   "source": [
    "n= input()\n",
    "\n",
    "print(n[::-1])"
   ]
  },
  {
   "cell_type": "code",
   "execution_count": 9,
   "metadata": {},
   "outputs": [
    {
     "name": "stdout",
     "output_type": "stream",
     "text": [
      "ir\n"
     ]
    }
   ],
   "source": [
    "a='ridhwan khan'\n",
    "print(a[-::-1])"
   ]
  },
  {
   "cell_type": "code",
   "execution_count": 23,
   "metadata": {},
   "outputs": [
    {
     "name": "stdout",
     "output_type": "stream",
     "text": [
      "22\n",
      "yruhdwohc mujnat arimA"
     ]
    }
   ],
   "source": [
    "#amira \n",
    "n='Amira tanjum chowdhury'\n",
    "print(len(n))\n",
    "for i in range(len(n)-1,-1,-1): #ridhwan messed up\n",
    "    print(n[i],end='')\n",
    "# for i in range (len(n)):  #ridhwan ice cream :) \n",
    "#     print(n[i][::-1],end=' ') #amira gadha"
   ]
  },
  {
   "cell_type": "code",
   "execution_count": 20,
   "metadata": {},
   "outputs": [
    {
     "name": "stdout",
     "output_type": "stream",
     "text": [
      "['amira', 'loves', 'ridhwan', 'in', 'multiverse']\n",
      "5\n",
      "arima sevol nawhdir ni esrevitlum "
     ]
    }
   ],
   "source": [
    "n=input().split( )                              \n",
    "print(n)                                                             \n",
    "print(len(n))                          \n",
    "\n",
    "for i in range (len(n)):                \n",
    "    print(n[i][::-1],end=' ')               "
   ]
  },
  {
   "cell_type": "code",
   "execution_count": 27,
   "metadata": {},
   "outputs": [
    {
     "name": "stdout",
     "output_type": "stream",
     "text": [
      "I AM RIDHWAN RKHAN\n"
     ]
    }
   ],
   "source": [
    "#gc prblm\n",
    "k='i am ridhwan rkhan'\n",
    "print(k.upper())"
   ]
  },
  {
   "cell_type": "code",
   "execution_count": 18,
   "metadata": {},
   "outputs": [
    {
     "name": "stdout",
     "output_type": "stream",
     "text": [
      "['my', 'name', 'is', 'khan']\n",
      "My Name Is Khan "
     ]
    }
   ],
   "source": [
    "#gc problem\n",
    "# k=input('write a sentence')\n",
    "k='my name is khan'  #ridhwan's solution\n",
    "l1=k.split( )  #lsit banaisi subidhar jonno\n",
    "print(l1)       #just to check everythings fine\n",
    "result=[]       #notun list e append korbo pore output diye dibo \n",
    "# dif=ord('a')-ord('A')\n",
    "# print(dif)\n",
    "for i in l1:\n",
    "    # print(i)\n",
    "    # print(i[0])\n",
    "    boro=(ord(i[0])-32)\n",
    "    # print(boro,i[0],end=' ')\n",
    "    # print()\n",
    "    cap=chr(boro)\n",
    "    print(cap+i[1:],end=' ')\n",
    "    # result.append(cap+i[1:])\n",
    "# print(result)\n",
    "\n",
    "\n"
   ]
  },
  {
   "cell_type": "code",
   "execution_count": 23,
   "metadata": {},
   "outputs": [
    {
     "name": "stdout",
     "output_type": "stream",
     "text": [
      "My Name Is Khan "
     ]
    }
   ],
   "source": [
    "#gc problem\n",
    "# k=input('write a sentence')\n",
    "k='My name is khan'  #ridhwan's solution\n",
    "l1=k.split( )  #lsit banaisi subidhar jonno\n",
    "for i in l1:\n",
    "    if ord('a')<=ord(i[0])<=ord('z'):\n",
    "        boro=(ord(i[0])-32) #boro hater korte just ei kaj korlam ek line ew kora jay \n",
    "                            #code jate readable hoy tai evabe kora jay\n",
    "        cap=chr(boro)\n",
    "        print(cap+i[1:],end=' ')    \n",
    "    else:\n",
    "        print(i,end=' ')\n"
   ]
  },
  {
   "cell_type": "code",
   "execution_count": 13,
   "metadata": {},
   "outputs": [
    {
     "data": {
      "text/plain": [
       "109"
      ]
     },
     "execution_count": 13,
     "metadata": {},
     "output_type": "execute_result"
    }
   ],
   "source": [
    "ord('m')"
   ]
  },
  {
   "cell_type": "code",
   "execution_count": 7,
   "metadata": {},
   "outputs": [
    {
     "name": "stdout",
     "output_type": "stream",
     "text": [
      "outer \n",
      "[2, 4, 3, -1, -2, 0, 1]\n",
      "condition mane nai\n",
      "[-1, 4, 3, 2, -2, 0, 1]\n",
      "[-2, 4, 3, 2, -1, 0, 1]\n",
      "condition mane nai\n",
      "condition mane nai\n",
      "outer \n",
      "[-2, 3, 4, 2, -1, 0, 1]\n",
      "[-2, 2, 4, 3, -1, 0, 1]\n",
      "[-2, -1, 4, 3, 2, 0, 1]\n",
      "condition mane nai\n",
      "condition mane nai\n",
      "outer \n",
      "[-2, -1, 3, 4, 2, 0, 1]\n",
      "[-2, -1, 2, 4, 3, 0, 1]\n",
      "[-2, -1, 0, 4, 3, 2, 1]\n",
      "condition mane nai\n",
      "outer \n",
      "[-2, -1, 0, 3, 4, 2, 1]\n",
      "[-2, -1, 0, 2, 4, 3, 1]\n",
      "[-2, -1, 0, 1, 4, 3, 2]\n",
      "outer \n",
      "[-2, -1, 0, 1, 3, 4, 2]\n",
      "[-2, -1, 0, 1, 2, 4, 3]\n",
      "outer \n",
      "[-2, -1, 0, 1, 2, 3, 4]\n",
      "outer \n",
      "[-2, -1, 0, 1, 2, 3, 4] result\n"
     ]
    }
   ],
   "source": [
    "##sobar choto tapabo inner iteration total ses hole \n",
    "my_list = [4, 2, 3, -1, -2, 0, 1]\n",
    "\n",
    "for i in range(len(my_list)):\n",
    "    print('outer ')\n",
    "    for j in range(i + 1, len(my_list)):\n",
    "\n",
    "        if my_list[i] > my_list[j]:\n",
    "            my_list[i], my_list[j] = my_list[j], my_list[i]\n",
    "            print(my_list)\n",
    "        else:\n",
    "            print('condition mane nai')\n",
    "\n",
    "print(my_list,'result')\n"
   ]
  },
  {
   "cell_type": "code",
   "execution_count": 7,
   "metadata": {},
   "outputs": [
    {
     "name": "stdout",
     "output_type": "stream",
     "text": [
      "[1, 2, 3, 4, 1, 2, 4]\n",
      "-1\n",
      "-1\n",
      "3\n",
      "-1\n",
      "-1\n",
      "-1\n",
      "-1\n",
      "-1\n"
     ]
    }
   ],
   "source": [
    "#imposter\n",
    "l1=[]\n",
    "x=input()\n",
    "while x!='':\n",
    "    l1.append(int(x))\n",
    "    x=input()\n",
    "print(l1)\n",
    "for i in range (len(l1)): #0\n",
    "    j=0\n",
    "    while j<len(l1) :     #0\n",
    "        if i!= j and l1[i]==l1[j]: \n",
    "            break\n",
    "        j += 1\n",
    "        elif\n",
    "\n",
    "     \n",
    "    print('-1') \n",
    "    \n",
    "    \n",
    "    "
   ]
  },
  {
   "cell_type": "code",
   "execution_count": 3,
   "metadata": {},
   "outputs": [
    {
     "name": "stdout",
     "output_type": "stream",
     "text": [
      "2.2222222222222223\n"
     ]
    }
   ],
   "source": [
    "q=2+1-(0+7/3)/3.0#%2\n",
    "print(q)"
   ]
  },
  {
   "cell_type": "code",
   "execution_count": 4,
   "metadata": {},
   "outputs": [
    {
     "name": "stdout",
     "output_type": "stream",
     "text": [
      "0.99\n"
     ]
    }
   ],
   "source": [
    "a=.99%2\n",
    "print(a)"
   ]
  },
  {
   "cell_type": "code",
   "execution_count": 2,
   "metadata": {},
   "outputs": [
    {
     "name": "stdout",
     "output_type": "stream",
     "text": [
      "[1, 3, 5, 7]\n"
     ]
    }
   ],
   "source": [
    "#BARISAILLA's :p problem\n",
    "alena=input('string with spaces')\n",
    "list1=[]\n",
    "while alena!='':\n",
    "    if int(alena)%2!=0:\n",
    "        list1.append(int(alena))\n",
    "    alena=input('string')\n",
    "    # else: \n",
    "    #     pass\n",
    "\n",
    "print(list1)\n",
    "\n"
   ]
  },
  {
   "cell_type": "code",
   "execution_count": 3,
   "metadata": {},
   "outputs": [
    {
     "name": "stdout",
     "output_type": "stream",
     "text": [
      "0.3332999999999995\n"
     ]
    }
   ],
   "source": [
    "a=12.3333%2\n",
    "print(a)"
   ]
  },
  {
   "cell_type": "code",
   "execution_count": 33,
   "metadata": {},
   "outputs": [
    {
     "name": "stdout",
     "output_type": "stream",
     "text": [
      "[1, 2, 3, 4, 5, 6]\n",
      "246\n",
      "modified [2, 4, 6]\n"
     ]
    }
   ],
   "source": [
    "#BARISAILLA's :p problem\n",
    "alena=input('string with spaces') #1 2 3 4 5\n",
    "list1=[         ]\n",
    "for i in alena:\n",
    "    if i !=' ':\n",
    "        list1.append(int(i))\n",
    "print(list1)\n",
    "temp=''\n",
    "for j in list1[:]:\n",
    "    if j%2==0:\n",
    "        temp+=str(j)\n",
    "        # list1=list1.append(temp)      \n",
    "        list1=[int(k) for k in temp ]\n",
    "print(temp)\n",
    "print('modified',list1)\n"
   ]
  },
  {
   "cell_type": "code",
   "execution_count": 36,
   "metadata": {},
   "outputs": [
    {
     "name": "stdout",
     "output_type": "stream",
     "text": [
      "[1, 2, 3, 4, 5, 6]\n",
      "246\n",
      "modified [2, 4, 6]\n"
     ]
    }
   ],
   "source": [
    "#REMOVE without function or new list  :p problem\n",
    "RIDHWAN=input('string with spaces') #1 2 3 4 5\n",
    "list1=[         ]\n",
    "for i in RIDHWAN:\n",
    "    if i !=' ':\n",
    "        list1.append(int(i))\n",
    "print(list1)\n",
    "temp=''\n",
    "for j in list1[:]:\n",
    "    if j%2==0:\n",
    "        temp+=str(j)\n",
    "        # list1=list1.append(temp)      \n",
    "        list1=[int(k) for k in temp ]\n",
    "print(temp)\n",
    "print('modified',list1)"
   ]
  },
  {
   "cell_type": "code",
   "execution_count": 1,
   "metadata": {},
   "outputs": [
    {
     "name": "stdout",
     "output_type": "stream",
     "text": [
      "0.1111111111111116\n"
     ]
    }
   ],
   "source": [
    "c=(10+7/3)/3.0%2\n",
    "print(c)"
   ]
  },
  {
   "cell_type": "code",
   "execution_count": 1,
   "metadata": {},
   "outputs": [
    {
     "name": "stdout",
     "output_type": "stream",
     "text": [
      "34\n",
      "14\n"
     ]
    }
   ],
   "source": [
    "for j in range (34,-1,-20):\n",
    "    print(j)"
   ]
  },
  {
   "cell_type": "code",
   "execution_count": 3,
   "metadata": {},
   "outputs": [
    {
     "name": "stdout",
     "output_type": "stream",
     "text": [
      "34 -57.0 -149\n",
      "14 -67.0 -149\n",
      "-127.0\n",
      "-157.0\n",
      "34 -27.0 -89\n",
      "14 -37.0 -89\n",
      "-37.0\n",
      "-67.0\n",
      "34 3.0 -29\n",
      "14 -7.0 -29\n"
     ]
    }
   ],
   "source": [
    "i=-149\n",
    "while i<0:\n",
    "    for j in range(34, -1, -20):\n",
    "        k = float(j//2)+int(i/2)\n",
    "        if k%2==0:\n",
    "            print(j+k+i)\n",
    "        else:\n",
    "            print(j,k,i)\n",
    "    i+=30"
   ]
  },
  {
   "cell_type": "code",
   "execution_count": 8,
   "metadata": {},
   "outputs": [
    {
     "name": "stdout",
     "output_type": "stream",
     "text": [
      "min -900 index = 4\n",
      "max 700 index= 2\n",
      "[-1, 45, 700, 34, -900]\n"
     ]
    }
   ],
   "source": [
    "#amira ungraded \n",
    "l1=[]\n",
    "i=0\n",
    "max=0\n",
    "x=int(input())  #ridhwan \n",
    "min=x\n",
    "indMin=0\n",
    "indMax=0\n",
    "while i<5:\n",
    "    l1.append(x)\n",
    "    x=int(input())\n",
    "    if x<min:\n",
    "        min=x\n",
    "        indMin=i+1\n",
    "    if x>max:\n",
    "        max=x\n",
    "        indMax=i+1\n",
    "    i+=1\n",
    "print('min',min,'index =',indMin)\n",
    "print('max',max,'index=',indMax)\n",
    "print(l1) "
   ]
  },
  {
   "cell_type": "code",
   "execution_count": 9,
   "metadata": {},
   "outputs": [
    {
     "name": "stdout",
     "output_type": "stream",
     "text": [
      "min -40 index = 1\n",
      "max 500 index= 2\n",
      "[1, 2, -40, 500, 3]\n"
     ]
    }
   ],
   "source": [
    "#amira ungraded \n",
    "l1=[]\n",
    "max=0\n",
    "x=int(input())  #ridhwan \n",
    "min=x\n",
    "indMin=0\n",
    "indMax=0\n",
    "for i in range(5):\n",
    "    l1.append(x)\n",
    "    x=int(input())\n",
    "    if x<min:\n",
    "        min=x\n",
    "        indMin=i+1   \n",
    "    if x>max:\n",
    "        max=x\n",
    "        indMax=i+1\n",
    "print('min',min,'index =',indMin)\n",
    "print('max',max,'index=',indMax)\n",
    "print(l1) "
   ]
  },
  {
   "cell_type": "code",
   "execution_count": null,
   "metadata": {},
   "outputs": [],
   "source": [
    "l1=input().split()\n",
    "l2=input().split(int(( ))"
   ]
  },
  {
   "cell_type": "code",
   "execution_count": 10,
   "metadata": {},
   "outputs": [
    {
     "name": "stdout",
     "output_type": "stream",
     "text": [
      "[1, 3, 5]\n"
     ]
    }
   ],
   "source": [
    "l1=[1,2,3,4,5]\n",
    "for i in l1:\n",
    "    if i%2==0:\n",
    "        l1.remove(i)\n",
    "print(l1)"
   ]
  },
  {
   "cell_type": "code",
   "execution_count": 3,
   "metadata": {},
   "outputs": [
    {
     "name": "stdout",
     "output_type": "stream",
     "text": [
      "ef\n",
      "abcd\n",
      "abcd , ef\n"
     ]
    }
   ],
   "source": [
    "#tanveer akerman (RIDHWAN KHAN :v) \n",
    "sum1='abcdef'\n",
    "sum2='efabcd'\n",
    "#sum1=w1+w2     #GOJAMIL \n",
    "#sum2=w2+w1 result= w1,w2\n",
    "for i in range(len(sum1)):\n",
    "\n",
    "    j=sum2[0]\n",
    "    if j ==sum1[i] and (sum1[0] in sum2[:i:1]): #index 4  when we get the e \n",
    "        \n",
    "        w2=sum1[i:] #index4 sum1[4:] ef\n",
    "        print(w2)\n",
    "        w1=sum1[:i] #sum1[:3]\n",
    "        print(w1)\n",
    "        break\n",
    "    \n",
    "print(w1,',',w2)\n",
    "#this code can only run this problem its not a generalized method code\n"
   ]
  },
  {
   "cell_type": "code",
   "execution_count": null,
   "metadata": {},
   "outputs": [],
   "source": []
  },
  {
   "cell_type": "code",
   "execution_count": 25,
   "metadata": {},
   "outputs": [
    {
     "data": {
      "text/plain": [
       "'e'"
      ]
     },
     "execution_count": 25,
     "metadata": {},
     "output_type": "execute_result"
    }
   ],
   "source": [
    "sum1='abcdef'\n",
    "# for i in list(sum1):\n",
    "#     print(type(i))\n",
    "# print(type(sum1))\n",
    "sum1[4]\n"
   ]
  },
  {
   "cell_type": "code",
   "execution_count": 11,
   "metadata": {},
   "outputs": [
    {
     "name": "stdout",
     "output_type": "stream",
     "text": [
      "12\n",
      "ab, cd, ridhwan 1234\n"
     ]
    }
   ],
   "source": [
    "#works only for single letter input \n",
    "s1=input()  #abcdef  #abcedef   #\n",
    "s2=input()  #efabcd  #efabced\n",
    "w1=''\n",
    "w2=''\n",
    "for i in range(len(s1)):\n",
    "    if s1[i]!=s2[0]:    #abcdef  #efabcd w1=abcd w2=ef \n",
    "        w1+=s1[i]\n",
    "        \n",
    "    else:\n",
    "        w2+=s1[i:]\n",
    "        break\n",
    "# w3='ridhwan'\n",
    "        \n",
    "print('12')\n",
    "print(w1,w2,sep=', ',end=' ')\n",
    "print('1234')\n",
    "    "
   ]
  },
  {
   "cell_type": "code",
   "execution_count": 2,
   "metadata": {},
   "outputs": [
    {
     "name": "stdout",
     "output_type": "stream",
     "text": [
      "aebcd, ef\n"
     ]
    }
   ],
   "source": [
    "s1=input()    #aebcd ef\n",
    "s2=input()    #ef aebcd\n",
    "for i in range(len (s1)):\n",
    "    a,b=s1[:i],s1[i:]\n",
    "    if b+a==s2:\n",
    "        print(a,b,sep=', ')\n",
    "        break\n",
    "else:\n",
    "    print('NOT found.')"
   ]
  },
  {
   "cell_type": "code",
   "execution_count": 15,
   "metadata": {},
   "outputs": [
    {
     "name": "stdout",
     "output_type": "stream",
     "text": [
      "22\n",
      "tanveertanveer\n"
     ]
    }
   ],
   "source": [
    "l1=['1','2',]\n",
    "l2=l1[1]*2\n",
    "print(l2)\n",
    "li=['ridhwan','tanveer']\n",
    "li2=li[1]*2\n",
    "print(li2)"
   ]
  },
  {
   "cell_type": "markdown",
   "metadata": {},
   "source": [
    "comparing and sorting tuples \n",
    "confusion in tuples modificatin \n",
    "need to  clearify the tuple and dictionary relation and how to compare them and sort \n",
    "them in any order \n",
    "how to work with keys and values at the same time  and nested tuples modification \n"
   ]
  },
  {
   "cell_type": "code",
   "execution_count": 3,
   "metadata": {},
   "outputs": [
    {
     "name": "stdout",
     "output_type": "stream",
     "text": [
      "[(2, 'b'), (5, 'c'), (10, 'a')]\n"
     ]
    }
   ],
   "source": [
    "#own problem sorting dictionary list code camp  problem \n",
    "c1={'a':34,'b':40,'c':30,'d':65}\n",
    "print(sorted([(v,k) for  k,v in c.items()]))"
   ]
  },
  {
   "cell_type": "code",
   "execution_count": 16,
   "metadata": {},
   "outputs": [
    {
     "name": "stdout",
     "output_type": "stream",
     "text": [
      "GLOBAL DECLARATION  written outside the function by me   CHECK\n",
      "Inside Function: I love Geeksforgeeks\n"
     ]
    }
   ],
   "source": [
    "\n",
    "def f():\n",
    "    global s\n",
    "    print(s) #we need to clarify that it's gonna take the global variable so we can add\n",
    "    #global before the print statement\n",
    "    # local variable\n",
    "    s = \"I love Geeksforgeeks\"\n",
    "    print(\"Inside Function:\", s)\n",
    "    # global s \n",
    "    # print(s)  #it gives an error #CONFUSION ARISE\n",
    "  \n",
    "# Driver code\n",
    "f()\n",
    "s='GLOBAL DECLARATION  written outside the function by me   CHECK'\n"
   ]
  },
  {
   "cell_type": "code",
   "execution_count": 3,
   "metadata": {},
   "outputs": [
    {
     "name": "stdout",
     "output_type": "stream",
     "text": [
      "#a##le"
     ]
    }
   ],
   "source": [
    "var=input()\n",
    "for i in var: #p a \n",
    "    count=0\n",
    "    for j in var: # p a p p l e\n",
    "        if i ==j:\n",
    "            count+=1\n",
    "    if count>1:\n",
    "        print('#',end='')\n",
    "    else:\n",
    "        print(i,end='')"
   ]
  },
  {
   "cell_type": "code",
   "execution_count": null,
   "metadata": {},
   "outputs": [],
   "source": [
    "w1='abkjsfkjs'\n",
    "w2=''"
   ]
  },
  {
   "cell_type": "code",
   "execution_count": 9,
   "metadata": {},
   "outputs": [
    {
     "name": "stdout",
     "output_type": "stream",
     "text": [
      "GHOST\n"
     ]
    }
   ],
   "source": [
    "#Ridhwan khan -- 16.08  22 -- SRBD contest or something er problem BRACU GC\n",
    "encrypted_message=input(' ')  #sun mud goat net apple\n",
    "encrypted ='Samsung'\n",
    "message=''\n",
    "count=0\n",
    "for i in encrypted_message.lower():\n",
    "    if 97<=ord(i)<=122:\n",
    "        if i in encrypted.lower():\n",
    "            message+=i\n",
    "            count+=1\n",
    "            if message!=encrypted[0:count].lower():\n",
    "                break\n",
    "# encrypted: #s a m s u n g\n",
    "# message: #a u m s a m s u n g\n",
    "if encrypted.lower() in message:\n",
    "    print('SRBD')   \n",
    "else:\n",
    "    print('GHOST')     \n",
    "# print(message)        \n",
    "     "
   ]
  }
 ],
 "metadata": {
  "kernelspec": {
   "display_name": "Python 3.10.4 64-bit",
   "language": "python",
   "name": "python3"
  },
  "language_info": {
   "codemirror_mode": {
    "name": "ipython",
    "version": 3
   },
   "file_extension": ".py",
   "mimetype": "text/x-python",
   "name": "python",
   "nbconvert_exporter": "python",
   "pygments_lexer": "ipython3",
   "version": "3.10.4"
  },
  "orig_nbformat": 4,
  "vscode": {
   "interpreter": {
    "hash": "b7299c1dbb38e985e3d1bc79bcd0468964fdcf53abee7d787a89c910fa60a91c"
   }
  }
 },
 "nbformat": 4,
 "nbformat_minor": 2
}
