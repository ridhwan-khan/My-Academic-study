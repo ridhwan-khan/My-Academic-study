{
 "cells": [
  {
   "cell_type": "code",
   "execution_count": 11,
   "metadata": {},
   "outputs": [
    {
     "name": "stdout",
     "output_type": "stream",
     "text": [
      "jsahfjnn\n"
     ]
    }
   ],
   "source": [
    "#01\n",
    "str=input()\n",
    "print(str[-1::-1])\n"
   ]
  },
  {
   "cell_type": "code",
   "execution_count": 10,
   "metadata": {},
   "outputs": [
    {
     "ename": "TypeError",
     "evalue": "slice indices must be integers or None or have an __index__ method",
     "output_type": "error",
     "traceback": [
      "\u001b[1;31m---------------------------------------------------------------------------\u001b[0m",
      "\u001b[1;31mTypeError\u001b[0m                                 Traceback (most recent call last)",
      "\u001b[1;32md:\\WORK ASSIGNMENTS etc\\cse110 03\\lab 03 string.ipynb Cell 2\u001b[0m in \u001b[0;36m<cell line: 4>\u001b[1;34m()\u001b[0m\n\u001b[0;32m      <a href='vscode-notebook-cell:/d%3A/WORK%20ASSIGNMENTS%20etc/cse110%2003/lab%2003%20string.ipynb#ch0000001?line=1'>2</a>\u001b[0m x\u001b[39m=\u001b[39m\u001b[39minput\u001b[39m(\u001b[39m'\u001b[39m\u001b[39minput\u001b[39m\u001b[39m'\u001b[39m)\n\u001b[0;32m      <a href='vscode-notebook-cell:/d%3A/WORK%20ASSIGNMENTS%20etc/cse110%2003/lab%2003%20string.ipynb#ch0000001?line=2'>3</a>\u001b[0m n\u001b[39m=\u001b[39m\u001b[39minput\u001b[39m(\u001b[39mint\u001b[39m())\n\u001b[1;32m----> <a href='vscode-notebook-cell:/d%3A/WORK%20ASSIGNMENTS%20etc/cse110%2003/lab%2003%20string.ipynb#ch0000001?line=3'>4</a>\u001b[0m \u001b[39mprint\u001b[39m(x[n::\u001b[39m-\u001b[39;49m\u001b[39m1\u001b[39;49m]\u001b[39m+\u001b[39mx[n\u001b[39m+\u001b[39m\u001b[39m1\u001b[39m:])\n",
      "\u001b[1;31mTypeError\u001b[0m: slice indices must be integers or None or have an __index__ method"
     ]
    }
   ],
   "source": [
    "#02\n",
    "x=input('input')\n",
    "n=int(input())\n",
    "print(x[n::-1]+x[n+1:])"
   ]
  },
  {
   "cell_type": "code",
   "execution_count": 12,
   "metadata": {},
   "outputs": [
    {
     "name": "stdout",
     "output_type": "stream",
     "text": [
      "3\n",
      "<class 'str'>\n",
      "3\n"
     ]
    }
   ],
   "source": [
    "a=input(int())\n",
    "b=int(input())\n",
    "print(b)\n",
    "print(type(a))\n",
    "print(a)"
   ]
  },
  {
   "cell_type": "code",
   "execution_count": null,
   "metadata": {},
   "outputs": [
    {
     "name": "stdout",
     "output_type": "stream",
     "text": [
      "binary\n"
     ]
    }
   ],
   "source": [
    "#03\n",
    "x=input()\n",
    "for i in x:\n",
    "    if i!='0' and i!='1': \n",
    "        print('not a binary ')\n",
    "        break \n",
    "     \n",
    "    else:\n",
    "        print('binary')\n",
    "        break"
   ]
  },
  {
   "cell_type": "code",
   "execution_count": 14,
   "metadata": {},
   "outputs": [
    {
     "name": "stdout",
     "output_type": "stream",
     "text": [
      "strongest\n"
     ]
    }
   ],
   "source": [
    "#task 04  (including function)\n",
    "x=input('input')\n",
    "\n",
    "\n",
    "if  x.endswith('er')==True:\n",
    "    print(x.replace('er','est'))\n",
    "elif x.endswith('est')==True:\n",
    "    print(x)\n",
    "elif len(x)<4 :\n",
    "    print(x)    \n",
    "\n",
    "elif len(x)>=4: #and x.endswith('er')==False and x.endswith('est')==False:\n",
    "    print(x+'er')\n"
   ]
  },
  {
   "cell_type": "code",
   "execution_count": 3,
   "metadata": {},
   "outputs": [
    {
     "name": "stdout",
     "output_type": "stream",
     "text": [
      "strongest\n"
     ]
    }
   ],
   "source": [
    "#task04 (without functions)\n",
    "x=input('input')\n",
    "\n",
    "if x[-1:-3:-1]=='re':\n",
    "    print(x[:-2]+'est')\n",
    "elif x[-1:-4:-1]=='tse':\n",
    "    print(x)\n",
    "elif len(x)<4: \n",
    "    print(x)\n",
    "elif len(x)>=4: # and x[-1:-3:-1]!='re' and x[:-3:-1]!='est':\n",
    "    print(x+'er')\n"
   ]
  },
  {
   "cell_type": "code",
   "execution_count": 9,
   "metadata": {},
   "outputs": [
    {
     "name": "stdout",
     "output_type": "stream",
     "text": [
      "strongest\n"
     ]
    }
   ],
   "source": [
    "#task 04\n",
    "x=input()\n",
    "if x[-1:-3:-1]=='re':  #stronger\n",
    "    print(x[:-2]+'est')\n",
    "elif x[-1:-4:-1]=='tse':\n",
    "    print(x)\n",
    "elif len(x)<4: \n",
    "    print(x)\n",
    "elif len(x)>=4: #and x[-1:-3:-1]!='re' and x[-1:-4:-1]!='tse':\n",
    "    print(x+'er')\n",
    "\n",
    "\n"
   ]
  },
  {
   "cell_type": "code",
   "execution_count": 12,
   "metadata": {},
   "outputs": [
    {
     "name": "stdout",
     "output_type": "stream",
     "text": [
      "strong\n"
     ]
    }
   ],
   "source": [
    "n='stronger'\n",
    "print(n[:-2:1])"
   ]
  },
  {
   "cell_type": "code",
   "execution_count": null,
   "metadata": {},
   "outputs": [
    {
     "name": "stdout",
     "output_type": "stream",
     "text": [
      "b\n",
      "ba\n",
      "ban\n",
      "bang\n",
      "bangl\n",
      "bangla\n"
     ]
    }
   ],
   "source": [
    "#05\n",
    "n= input('one word')\n",
    "for i in range(1,len(n)+1):\n",
    "    # for j in range(1,i+1):\n",
    "    #  \n",
    "    print(n[:i:1],end='')\n",
    "    print()\n"
   ]
  },
  {
   "cell_type": "code",
   "execution_count": null,
   "metadata": {},
   "outputs": [
    {
     "name": "stdout",
     "output_type": "stream",
     "text": [
      "b : 98\n",
      "a : 97\n",
      "n : 110\n",
      "g : 103\n",
      "l : 108\n",
      "a : 97\n"
     ]
    }
   ],
   "source": [
    "#06\n",
    "n= input()\n",
    "for i in n:\n",
    "    # print(ord(n[i]))\n",
    "    print(i,':',ord(i))"
   ]
  },
  {
   "cell_type": "code",
   "execution_count": null,
   "metadata": {},
   "outputs": [
    {
     "name": "stdout",
     "output_type": "stream",
     "text": [
      "tg<ltb"
     ]
    }
   ],
   "source": [
    "##task07\n",
    "word=input('word')\n",
    "new=''\n",
    "for i in word:\n",
    "    if i =='z':\n",
    "        new+='a'\n",
    "        # print(new,end='')\n",
    "    else:\n",
    "        j=ord(i)\n",
    "        new+=chr(j+1)\n",
    "print(new,end='')\n"
   ]
  },
  {
   "cell_type": "code",
   "execution_count": 18,
   "metadata": {},
   "outputs": [
    {
     "name": "stdout",
     "output_type": "stream",
     "text": [
      "TIG\n"
     ]
    }
   ],
   "source": [
    "#task 08\n",
    "word=input()\n",
    "new=''\n",
    "space=ord('a')-ord('A')\n",
    "n=1\n",
    "for i in word:\n",
    "    if n%2==0:\n",
    "        capital=chr(ord(i)-space)\n",
    "        new+=capital\n",
    "    n+=1\n",
    "print(new)"
   ]
  },
  {
   "cell_type": "code",
   "execution_count": 26,
   "metadata": {},
   "outputs": [
    {
     "name": "stdout",
     "output_type": "stream",
     "text": [
      "65 97\n"
     ]
    }
   ],
   "source": [
    "print(ord('A'),ord('a'))"
   ]
  },
  {
   "cell_type": "code",
   "execution_count": 1,
   "metadata": {},
   "outputs": [
    {
     "name": "stdout",
     "output_type": "stream",
     "text": [
      "1,2,3,4\n"
     ]
    },
    {
     "ename": "ValueError",
     "evalue": "invalid literal for int() with base 10: ','",
     "output_type": "error",
     "traceback": [
      "\u001b[1;31m---------------------------------------------------------------------------\u001b[0m",
      "\u001b[1;31mValueError\u001b[0m                                Traceback (most recent call last)",
      "\u001b[1;32md:\\WORK ASSIGNMENTS etc\\cse110 03\\lab 03 string.ipynb Cell 13'\u001b[0m in \u001b[0;36m<cell line: 7>\u001b[1;34m()\u001b[0m\n\u001b[0;32m      <a href='vscode-notebook-cell:/d%3A/WORK%20ASSIGNMENTS%20etc/cse110%2003/lab%2003%20string.ipynb#ch0000012?line=3'>4</a>\u001b[0m num\u001b[39m=\u001b[39m(text\u001b[39m.\u001b[39msplit(\u001b[39m\"\u001b[39m\u001b[39m,\u001b[39m\u001b[39m\"\u001b[39m)) \n\u001b[0;32m      <a href='vscode-notebook-cell:/d%3A/WORK%20ASSIGNMENTS%20etc/cse110%2003/lab%2003%20string.ipynb#ch0000012?line=4'>5</a>\u001b[0m \u001b[39m# newlist.append(int(num))\u001b[39;00m\n\u001b[0;32m      <a href='vscode-notebook-cell:/d%3A/WORK%20ASSIGNMENTS%20etc/cse110%2003/lab%2003%20string.ipynb#ch0000012?line=5'>6</a>\u001b[0m \u001b[39m# print(num)\u001b[39;00m\n\u001b[1;32m----> <a href='vscode-notebook-cell:/d%3A/WORK%20ASSIGNMENTS%20etc/cse110%2003/lab%2003%20string.ipynb#ch0000012?line=6'>7</a>\u001b[0m newlist\u001b[39m=\u001b[39m[\u001b[39mint\u001b[39m(x) \u001b[39mfor\u001b[39;00m x \u001b[39min\u001b[39;00m text]\n\u001b[0;32m      <a href='vscode-notebook-cell:/d%3A/WORK%20ASSIGNMENTS%20etc/cse110%2003/lab%2003%20string.ipynb#ch0000012?line=7'>8</a>\u001b[0m \u001b[39mprint\u001b[39m(newlist)\n",
      "\u001b[1;32md:\\WORK ASSIGNMENTS etc\\cse110 03\\lab 03 string.ipynb Cell 13'\u001b[0m in \u001b[0;36m<listcomp>\u001b[1;34m(.0)\u001b[0m\n\u001b[0;32m      <a href='vscode-notebook-cell:/d%3A/WORK%20ASSIGNMENTS%20etc/cse110%2003/lab%2003%20string.ipynb#ch0000012?line=3'>4</a>\u001b[0m num\u001b[39m=\u001b[39m(text\u001b[39m.\u001b[39msplit(\u001b[39m\"\u001b[39m\u001b[39m,\u001b[39m\u001b[39m\"\u001b[39m)) \n\u001b[0;32m      <a href='vscode-notebook-cell:/d%3A/WORK%20ASSIGNMENTS%20etc/cse110%2003/lab%2003%20string.ipynb#ch0000012?line=4'>5</a>\u001b[0m \u001b[39m# newlist.append(int(num))\u001b[39;00m\n\u001b[0;32m      <a href='vscode-notebook-cell:/d%3A/WORK%20ASSIGNMENTS%20etc/cse110%2003/lab%2003%20string.ipynb#ch0000012?line=5'>6</a>\u001b[0m \u001b[39m# print(num)\u001b[39;00m\n\u001b[1;32m----> <a href='vscode-notebook-cell:/d%3A/WORK%20ASSIGNMENTS%20etc/cse110%2003/lab%2003%20string.ipynb#ch0000012?line=6'>7</a>\u001b[0m newlist\u001b[39m=\u001b[39m[\u001b[39mint\u001b[39;49m(x) \u001b[39mfor\u001b[39;00m x \u001b[39min\u001b[39;00m text]\n\u001b[0;32m      <a href='vscode-notebook-cell:/d%3A/WORK%20ASSIGNMENTS%20etc/cse110%2003/lab%2003%20string.ipynb#ch0000012?line=7'>8</a>\u001b[0m \u001b[39mprint\u001b[39m(newlist)\n",
      "\u001b[1;31mValueError\u001b[0m: invalid literal for int() with base 10: ','"
     ]
    }
   ],
   "source": [
    "text = input(\"enter: \")\n",
    "newlist=[]\n",
    "print(text)\n",
    "num=(text.split(\",\")) \n",
    "newlist.append(int(num))\n",
    "print(num)\n",
    "# newlist=[int(x) for x in text]\n",
    "# print(newlist)"
   ]
  },
  {
   "cell_type": "code",
   "execution_count": 16,
   "metadata": {},
   "outputs": [
    {
     "name": "stdout",
     "output_type": "stream",
     "text": [
      "32\n"
     ]
    }
   ],
   "source": [
    "print(abs(ord(\"A\")-ord('a')))"
   ]
  },
  {
   "cell_type": "code",
   "execution_count": 2,
   "metadata": {},
   "outputs": [
    {
     "name": "stdout",
     "output_type": "stream",
     "text": [
      "a b\n"
     ]
    }
   ],
   "source": [
    "#task09\n",
    "word=input() #AAABbbb 0\n",
    "new=''       #''  # A len(new)=1\n",
    "for i in word:  #A A\n",
    "    if new =='' or i != new[len(new)-1]: #new'' true ..\n",
    "                    #i!= new(0)==A FALSE condition bad \n",
    "        new+=i #A nothing  \n",
    "print(new)\n"
   ]
  },
  {
   "cell_type": "code",
   "execution_count": 5,
   "metadata": {},
   "outputs": [
    {
     "name": "stdout",
     "output_type": "stream",
     "text": [
      "0\n"
     ]
    }
   ],
   "source": [
    "n=''\n",
    "print(len(n))"
   ]
  },
  {
   "cell_type": "code",
   "execution_count": 6,
   "metadata": {},
   "outputs": [
    {
     "name": "stdout",
     "output_type": "stream",
     "text": [
      "rKiHdAhNan\n"
     ]
    }
   ],
   "source": [
    "#task10\n",
    "word=input('word')      #RIDHWAN,khan\n",
    "c=int(word.find(','))\n",
    "w1=word[:c]\n",
    "w2=word[c+1:]\n",
    "# print(w1)\n",
    "# print(w2)\n",
    "if len(w1)<len(w2):\n",
    "    choto= len(w1)\n",
    "else:\n",
    "    choto=len(w2)\n",
    "new=''\n",
    "for i in range(choto):\n",
    "    new+= w1[i]+w2[i]\n",
    "if len(w1)> len (w2):\n",
    "    new+= w1[choto+1:]\n",
    "elif len(w1)<len(w2):\n",
    "    new+=w2[choto+1:]\n",
    "print(new)\n",
    "\n"
   ]
  },
  {
   "cell_type": "code",
   "execution_count": 10,
   "metadata": {},
   "outputs": [
    {
     "name": "stdout",
     "output_type": "stream",
     "text": [
      "tnjiro kmdo\n"
     ]
    }
   ],
   "source": [
    "#UNGRADED\n",
    "\n",
    "#16\n",
    "new4=''\n",
    "w1 = input('string')\n",
    "w2=input('letter')\n",
    "#eliminate all w2 from the w1\n",
    "for i in w1:\n",
    "    if i!=w2:\n",
    "        new4+=i\n",
    "print(new4)"
   ]
  },
  {
   "cell_type": "code",
   "execution_count": 3,
   "metadata": {},
   "outputs": [
    {
     "name": "stdout",
     "output_type": "stream",
     "text": [
      "4321 5\n"
     ]
    }
   ],
   "source": [
    "w=input()\n",
    "n=int(input())\n",
    "print(w[n:          :-1],w[n+1::])"
   ]
  },
  {
   "cell_type": "code",
   "execution_count": 3,
   "metadata": {},
   "outputs": [
    {
     "ename": "IndentationError",
     "evalue": "unexpected indent (2063853321.py, line 5)",
     "output_type": "error",
     "traceback": [
      "\u001b[1;36m  Input \u001b[1;32mIn [3]\u001b[1;36m\u001b[0m\n\u001b[1;33m    print([len(n)::-1])\u001b[0m\n\u001b[1;37m    ^\u001b[0m\n\u001b[1;31mIndentationError\u001b[0m\u001b[1;31m:\u001b[0m unexpected indent\n"
     ]
    }
   ],
   "source": [
    "n=input()\n",
    "print(n)\n",
    "print(len(n))\n",
    "\n",
    "    print([len(n)::-1])"
   ]
  },
  {
   "cell_type": "code",
   "execution_count": 5,
   "metadata": {},
   "outputs": [
    {
     "name": "stdout",
     "output_type": "stream",
     "text": [
      "6\n"
     ]
    }
   ],
   "source": [
    "x=input()\n",
    "print(len(x))"
   ]
  },
  {
   "cell_type": "code",
   "execution_count": 5,
   "metadata": {},
   "outputs": [
    {
     "name": "stdout",
     "output_type": "stream",
     "text": [
      "ridhwa\n",
      "\n",
      "n\n"
     ]
    }
   ],
   "source": [
    "a='ridhwan'\n",
    "b= a[:-1]\n",
    "c=a[-1:]\n",
    "print(b)\n",
    "print()\n",
    "print(c)"
   ]
  }
 ],
 "metadata": {
  "kernelspec": {
   "display_name": "Python 3.10.4 64-bit",
   "language": "python",
   "name": "python3"
  },
  "language_info": {
   "codemirror_mode": {
    "name": "ipython",
    "version": 3
   },
   "file_extension": ".py",
   "mimetype": "text/x-python",
   "name": "python",
   "nbconvert_exporter": "python",
   "pygments_lexer": "ipython3",
   "version": "3.10.4"
  },
  "orig_nbformat": 4,
  "vscode": {
   "interpreter": {
    "hash": "b7299c1dbb38e985e3d1bc79bcd0468964fdcf53abee7d787a89c910fa60a91c"
   }
  }
 },
 "nbformat": 4,
 "nbformat_minor": 2
}
