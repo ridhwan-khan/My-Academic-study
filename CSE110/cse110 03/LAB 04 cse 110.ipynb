{
 "cells": [
  {
   "cell_type": "code",
   "execution_count": 4,
   "metadata": {},
   "outputs": [
    {
     "name": "stdout",
     "output_type": "stream",
     "text": [
      "Numbers in the list: [list]Numbers in the list: [list]Numbers in the list: [list]Numbers in the list: [list]Numbers in the list: [list]"
     ]
    }
   ],
   "source": [
    "#task01\n",
    "# print('Numbers in the list:',end='')\n",
    "for i in range(5): \n",
    "    List=int(input('enter number'))\n",
    "    print('Numbers in the list:',str(\"[list]\"),end='')"
   ]
  },
  {
   "cell_type": "code",
   "execution_count": 1,
   "metadata": {},
   "outputs": [
    {
     "name": "stdout",
     "output_type": "stream",
     "text": [
      "[4.02, 'ridhwan', 400, 300, 200, 100]\n"
     ]
    }
   ],
   "source": [
    "list1 = [100, 200, 300, 400,'ridhwan',4.02]\n",
    "print(list1[::-1])\n"
   ]
  },
  {
   "cell_type": "code",
   "execution_count": 2,
   "metadata": {},
   "outputs": [
    {
     "name": "stdout",
     "output_type": "stream",
     "text": [
      "0\n",
      "1\n",
      "2\n",
      "3\n",
      "4\n",
      "5\n",
      "6\n"
     ]
    }
   ],
   "source": [
    "word='RIDHWAN'\n",
    "for i in range(len(word)):\n",
    "    print(i)"
   ]
  },
  {
   "cell_type": "code",
   "execution_count": 4,
   "metadata": {},
   "outputs": [
    {
     "name": "stdout",
     "output_type": "stream",
     "text": [
      "[2, 4, 6, 8, 10, 12]\n"
     ]
    }
   ],
   "source": [
    "#Turn every item of a list into its square\n",
    "list=[1,2,3,4,5,6]\n",
    "res=[]\n",
    "for i in list:\n",
    "    res.append(i*2)\n",
    "print(res)\n"
   ]
  },
  {
   "cell_type": "code",
   "execution_count": 8,
   "metadata": {},
   "outputs": [
    {
     "name": "stdout",
     "output_type": "stream",
     "text": [
      "[1, 4, 9, 16, 25, 36]\n"
     ]
    }
   ],
   "source": [
    "numbers=[1,2,3,4,5,6]\n",
    "res=[x*x for x in numbers]\n",
    "print(res)"
   ]
  },
  {
   "cell_type": "code",
   "execution_count": 21,
   "metadata": {},
   "outputs": [
    {
     "name": "stdout",
     "output_type": "stream",
     "text": [
      "['hello', 'My name', 'world', 'is khan']\n"
     ]
    }
   ],
   "source": [
    "#Concatenate two lists \n",
    "list1=['hello','My name']\n",
    "list2=['world','is khan']\n",
    "res=[]\n",
    "for i in list1:\n",
    "    # for j in range(i):\n",
    "    res.append(i)\n",
    "    \n",
    "for y in list2:\n",
    "    res.append(y)\n",
    "# res=[i+y]\n",
    "print(res)\n",
    "   "
   ]
  }
 ],
 "metadata": {
  "kernelspec": {
   "display_name": "Python 3.10.4 64-bit",
   "language": "python",
   "name": "python3"
  },
  "language_info": {
   "codemirror_mode": {
    "name": "ipython",
    "version": 3
   },
   "file_extension": ".py",
   "mimetype": "text/x-python",
   "name": "python",
   "nbconvert_exporter": "python",
   "pygments_lexer": "ipython3",
   "version": "3.10.4"
  },
  "orig_nbformat": 4,
  "vscode": {
   "interpreter": {
    "hash": "b7299c1dbb38e985e3d1bc79bcd0468964fdcf53abee7d787a89c910fa60a91c"
   }
  }
 },
 "nbformat": 4,
 "nbformat_minor": 2
}
