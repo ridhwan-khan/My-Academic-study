{
 "cells": [
  {
   "cell_type": "code",
   "execution_count": 1,
   "metadata": {},
   "outputs": [
    {
     "name": "stdout",
     "output_type": "stream",
     "text": [
      "123ridMIN@#!\n",
      "Lower-case rid\n",
      "Upper-case MIN\n",
      "Special-character @#!\n",
      "digits 123\n",
      "New Mr1@Ii2#Nd3!\n"
     ]
    }
   ],
   "source": [
    "string1=input('input')\n",
    "low=''\n",
    "up=''\n",
    "dig=''\n",
    "sChr=''\n",
    "new=''\n",
    "mod=''\n",
    "for i in string1:\n",
    "    if i!=' ':\n",
    "        mod+=i\n",
    "print(mod)\n",
    "for i in mod:\n",
    "    if 67<=ord(i)<=97:\n",
    "        up+=i\n",
    "    elif 97<=ord(i)<=122:\n",
    "        low+=i\n",
    "    elif ord('1')<=ord(i)<=ord('9'):\n",
    "        dig+=i\n",
    "    else:\n",
    "        sChr+=i\n",
    "# print('Lower-case',low)\n",
    "# print(\"Upper-case\",up)\n",
    "# print('Special-character',sChr)\n",
    "# print('digits',dig)\n",
    "for i in range(len(low)):\n",
    "    new+=up[i]+low[i]+dig[i]+sChr[i]\n",
    "print('Lower-case',low)\n",
    "print(\"Upper-case\",up)\n",
    "print('Special-character',sChr)\n",
    "print('digits',dig)\n",
    "print('New',new)    "
   ]
  }
 ],
 "metadata": {
  "kernelspec": {
   "display_name": "Python 3.10.4 64-bit",
   "language": "python",
   "name": "python3"
  },
  "language_info": {
   "codemirror_mode": {
    "name": "ipython",
    "version": 3
   },
   "file_extension": ".py",
   "mimetype": "text/x-python",
   "name": "python",
   "nbconvert_exporter": "python",
   "pygments_lexer": "ipython3",
   "version": "3.10.4"
  },
  "orig_nbformat": 4,
  "vscode": {
   "interpreter": {
    "hash": "b7299c1dbb38e985e3d1bc79bcd0468964fdcf53abee7d787a89c910fa60a91c"
   }
  }
 },
 "nbformat": 4,
 "nbformat_minor": 2
}
