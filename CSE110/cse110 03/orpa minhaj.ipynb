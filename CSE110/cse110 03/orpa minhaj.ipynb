{
 "cells": [
  {
   "cell_type": "code",
   "execution_count": null,
   "metadata": {},
   "outputs": [],
   "source": [
    "#conmdition\n"
   ]
  },
  {
   "cell_type": "code",
   "execution_count": 15,
   "metadata": {},
   "outputs": [],
   "source": [
    "minhaj=int(input()) #-1\n",
    "ridhwan=input()\n",
    "orpa=input()\n",
    "\n",
    "if minhaj>10: \n",
    "    print('RIDHWAN morbe')\n",
    "\n",
    "elif minhaj>0:        \n",
    "    print('minhaj manus')\n",
    "\n",
    "\n",
    "elif minhaj <-1:\n",
    "    print('ilish mach')\n"
   ]
  },
  {
   "cell_type": "code",
   "execution_count": 23,
   "metadata": {},
   "outputs": [
    {
     "name": "stdout",
     "output_type": "stream",
     "text": [
      "goru\n"
     ]
    }
   ],
   "source": [
    "ridhwan=int(input())\n",
    "#10 er cheye choto #2 er cheye boro \n",
    "#print goru\n",
    "if ridhwan<10 and ridhwan>2:\n",
    "    print('goru')\n",
    "else:\n",
    "    print('invalid')"
   ]
  },
  {
   "cell_type": "code",
   "execution_count": 26,
   "metadata": {},
   "outputs": [
    {
     "name": "stdout",
     "output_type": "stream",
     "text": [
      "75.39822368615503\n",
      "AREA : 452.3893421169302\n"
     ]
    }
   ],
   "source": [
    "import math \n",
    "r=int(input('radius'))\n",
    "cir= 2*math.pi*r\n",
    "print(cir)\n",
    "A= math.pi*(r**2)\n",
    "print('AREA :', A)\n",
    "#AREA: 1312.1313"
   ]
  },
  {
   "cell_type": "code",
   "execution_count": 28,
   "metadata": {},
   "outputs": [
    {
     "name": "stdout",
     "output_type": "stream",
     "text": [
      "True\n"
     ]
    }
   ],
   "source": [
    "v=False or True\n",
    "print(v)\n"
   ]
  },
  {
   "cell_type": "code",
   "execution_count": 30,
   "metadata": {},
   "outputs": [
    {
     "name": "stdout",
     "output_type": "stream",
     "text": [
      "minhaj\n",
      "minhaj\n",
      "minhaj\n",
      "minhaj\n",
      "minhaj\n"
     ]
    }
   ],
   "source": [
    "#for #while #'RIDHWAN'\n",
    "for minhaj in range(0,10,2):\n",
    "    print('minhaj') "
   ]
  },
  {
   "cell_type": "code",
   "execution_count": 36,
   "metadata": {},
   "outputs": [
    {
     "name": "stdout",
     "output_type": "stream",
     "text": [
      "hello world\n",
      "5\n",
      "hello world\n",
      "4\n",
      "hello world\n",
      "3\n"
     ]
    }
   ],
   "source": [
    "for i in range(5,2,-1): #5,4,3,\n",
    "    print( 'hello world' )\n",
    "    print(i)"
   ]
  },
  {
   "cell_type": "code",
   "execution_count": 9,
   "metadata": {},
   "outputs": [
    {
     "name": "stdout",
     "output_type": "stream",
     "text": [
      "M,I,N,H,A   J              "
     ]
    }
   ],
   "source": [
    "orpa='MINHAJ'\n",
    "# print(len(orpa))\n",
    "for jam in orpa:\n",
    "    if jam=='J':\n",
    "        print(jam,end='              ')\n",
    "    elif jam=='A':\n",
    "        print(jam,end='   ')\n",
    "    else:\n",
    "\n",
    "    \n",
    "        print(jam,end=',')  #print('',end='\\n')\n"
   ]
  },
  {
   "cell_type": "code",
   "execution_count": 46,
   "metadata": {},
   "outputs": [
    {
     "name": "stdout",
     "output_type": "stream",
     "text": [
      "0\n",
      "1\n",
      "2\n",
      "3\n",
      "4\n",
      "5\n"
     ]
    }
   ],
   "source": [
    "for j in range(6):  #start 0 step 1\n",
    "    print(j)"
   ]
  }
 ],
 "metadata": {
  "kernelspec": {
   "display_name": "Python 3.10.4 64-bit",
   "language": "python",
   "name": "python3"
  },
  "language_info": {
   "codemirror_mode": {
    "name": "ipython",
    "version": 3
   },
   "file_extension": ".py",
   "mimetype": "text/x-python",
   "name": "python",
   "nbconvert_exporter": "python",
   "pygments_lexer": "ipython3",
   "version": "3.10.4"
  },
  "orig_nbformat": 4,
  "vscode": {
   "interpreter": {
    "hash": "b7299c1dbb38e985e3d1bc79bcd0468964fdcf53abee7d787a89c910fa60a91c"
   }
  }
 },
 "nbformat": 4,
 "nbformat_minor": 2
}
