{
 "cells": [
  {
   "cell_type": "code",
   "execution_count": 1,
   "metadata": {},
   "outputs": [],
   "source": [
    "#lab 4\n"
   ]
  },
  {
   "cell_type": "code",
   "execution_count": 3,
   "metadata": {},
   "outputs": [
    {
     "name": "stdout",
     "output_type": "stream",
     "text": [
      "The number in the list:  [1]\n",
      "The number in the list:  [1, 2]\n",
      "The number in the list:  [1, 2, 3]\n",
      "The number in the list:  [1, 2, 3, 4]\n",
      "The number in the list:  [1, 2, 3, 4, 5]\n"
     ]
    }
   ],
   "source": [
    "#task 01\n",
    "list1=[]\n",
    "for i in range(5):\n",
    "    n=(input('num'))\n",
    "    list1.append(int(n))\n",
    "    print('The number in the list: ',list1)"
   ]
  },
  {
   "cell_type": "code",
   "execution_count": 17,
   "metadata": {},
   "outputs": [
    {
     "name": "stdout",
     "output_type": "stream",
     "text": [
      "[3]\n"
     ]
    }
   ],
   "source": [
    "#task02\n",
    "value=input('enter numbers spacing with comma').split(\",\")\n",
    "list1 = []\n",
    "# print(value)\n",
    "\n",
    "\n",
    "for i in range (len(value)) :\n",
    "    \n",
    "        x= int(value[i])\n",
    "        list1.append(x)\n",
    "if (len(value)>4):\n",
    "    \n",
    "    print(list1[2:-2])\n",
    "else:\n",
    "    print('invalid')\n"
   ]
  },
  {
   "cell_type": "code",
   "execution_count": 6,
   "metadata": {},
   "outputs": [
    {
     "name": "stdout",
     "output_type": "stream",
     "text": [
      "1,2,3,4,5\n",
      "[1, 2, 3, 4, 5]\n"
     ]
    }
   ],
   "source": [
    "#02\n",
    "#task02\n",
    "value=input('enter numbers spacing with comma') #.split(',')\n",
    "list1 = []\n",
    "print(value)\n",
    "list2=[]\n",
    "\n",
    "for i in range (len(value)) :\n",
    "        # print(type (value[i]))\n",
    "        if value[i]!=',':\n",
    "        \n",
    "                x=[int(value[i])]\n",
    "        \n",
    "                # list2=int(x)\n",
    "                # print(list2)\n",
    "                list1.extend(x)\n",
    "                # print(x)\n",
    "print(list1)      \n",
    "        \n",
    "# list1.extend(list2)\n",
    "# print(list1)\n",
    "# if (len(value)>4):\n",
    "    \n",
    "#     print(list1[2:-2])\n",
    "# else:\n",
    "#     print('invalid')\n"
   ]
  },
  {
   "cell_type": "code",
   "execution_count": 4,
   "metadata": {},
   "outputs": [
    {
     "name": "stdout",
     "output_type": "stream",
     "text": [
      "['1', '2', '3', '4', '5', '6']\n",
      "[['1', '2', '3', '4', '5', '6']]\n"
     ]
    }
   ],
   "source": [
    "#02\n",
    "#task02\n",
    "# value=input('enter numbers spacing with comma') .split(',')\n",
    "# list1 = []\n",
    "# print(value)\n",
    "list2=[]\n",
    "list1=input('enter numbers spacing with comma') .split(',')\n",
    "# for i in range (len(value)) :\n",
    "#         # print(type (value[i]))\n",
    "#         if value[i]!=',':\n",
    "        \n",
    "#                 x=[int(value[i])]\n",
    "        \n",
    "#                 # list2=int(x)\n",
    "#                 # print(list2)\n",
    "#                 list1.extend(x)\n",
    "#                 # print(x)\n",
    "print(list1)      \n",
    "        \n",
    "list2.append(list1)\n",
    "print(list2)\n",
    "# if (len(value)>4):\n",
    "    \n",
    "#     print(list1[2:-2])\n",
    "# else:\n",
    "#     print('invalid')\n"
   ]
  },
  {
   "cell_type": "code",
   "execution_count": 36,
   "metadata": {},
   "outputs": [
    {
     "name": "stdout",
     "output_type": "stream",
     "text": [
      "5\n"
     ]
    }
   ],
   "source": [
    "\n",
    "value=input()\n",
    "for i in range (len(value)) :\n",
    "        # print(type (value[i]))\n",
    "        x=int(value[i])\n",
    "        y=\n",
    "print(x)"
   ]
  },
  {
   "cell_type": "code",
   "execution_count": 27,
   "metadata": {},
   "outputs": [
    {
     "name": "stdout",
     "output_type": "stream",
     "text": [
      "[1, 2, 3]\n"
     ]
    }
   ],
   "source": [
    "x=[]\n",
    "y=[1,2,3]\n",
    "x.extend(y)\n",
    "print(x)"
   ]
  },
  {
   "cell_type": "code",
   "execution_count": 14,
   "metadata": {},
   "outputs": [
    {
     "name": "stdout",
     "output_type": "stream",
     "text": [
      "input data [10, 11, 12, 13, 14]\n",
      "14\n",
      "13\n",
      "12\n",
      "11\n",
      "10\n"
     ]
    }
   ],
   "source": [
    "#task3\n",
    "front=[]\n",
    "for i in range (5):\n",
    "    element=int(input())\n",
    "    front.append(element)\n",
    "print('input data',front)\n",
    "for j in reversed(front):\n",
    "    print(j) \n",
    "    "
   ]
  },
  {
   "cell_type": "code",
   "execution_count": 15,
   "metadata": {},
   "outputs": [
    {
     "name": "stdout",
     "output_type": "stream",
     "text": [
      "input data [12, 14, 15, 12, 14]\n",
      "14\n",
      "12\n",
      "15\n",
      "14\n",
      "12\n"
     ]
    }
   ],
   "source": [
    "#task3\n",
    "front=[]\n",
    "for i in range (5):\n",
    "    element=int(input())\n",
    "    front.append(element)\n",
    "print('input data',front)\n",
    "for j in front[::-1]:\n",
    "    print(j)"
   ]
  },
  {
   "cell_type": "code",
   "execution_count": 32,
   "metadata": {},
   "outputs": [
    {
     "name": "stdout",
     "output_type": "stream",
     "text": [
      "input data [1, 2, 3, 4, 5]\n",
      "5\n",
      "4\n",
      "3\n",
      "2\n",
      "1\n"
     ]
    }
   ],
   "source": [
    "\n",
    "front=[]\n",
    "for i in range (5):\n",
    "    element=int(input())\n",
    "    front.append(element)\n",
    "print('input data',front)\n",
    "h= [j for j in front[::-1]]\n",
    "for k in range(len(h)):\n",
    "    print(h[k])"
   ]
  },
  {
   "cell_type": "code",
   "execution_count": 1,
   "metadata": {},
   "outputs": [
    {
     "name": "stdout",
     "output_type": "stream",
     "text": [
      "input data [0, 1, 2, 3, 4]\n"
     ]
    }
   ],
   "source": [
    "\n",
    "front=[i for i in range (5)]\n",
    "\n",
    "    \n",
    "print('input data',front)\n"
   ]
  },
  {
   "cell_type": "code",
   "execution_count": 5,
   "metadata": {},
   "outputs": [
    {
     "name": "stdout",
     "output_type": "stream",
     "text": [
      "The reversed numbers are : 6 5 4 3 2 1 0 -1 -2 -3 -4 "
     ]
    }
   ],
   "source": [
    "\n",
    "# Python3 code to demonstrate\n",
    "# backward iteration\n",
    "# using range(N, -1, -1)\n",
    " \n",
    "# Initializing number from which\n",
    "# iteration begins\n",
    "N = 6\n",
    " \n",
    "# using reversed() to perform the back iteration\n",
    "print (\"The reversed numbers are : \", end = \"\")\n",
    "for num in range(N, -5, -1) :\n",
    "    print(num, end = \" \")"
   ]
  },
  {
   "cell_type": "code",
   "execution_count": 39,
   "metadata": {},
   "outputs": [
    {
     "name": "stdout",
     "output_type": "stream",
     "text": [
      "1\n",
      "2\n",
      "3\n",
      "4\n",
      "5\n",
      "6\n",
      "[1, 4, 9, 16, 25, 36]\n"
     ]
    }
   ],
   "source": [
    "#task 4\n",
    "value=input('enter numbers spacing with comma').split(\",\")\n",
    "lst1 = []\n",
    "for i in range (len(value)) :\n",
    "    \n",
    "        x= int(value[i])\n",
    "        print( x)\n",
    "        lst1.append(x**2)\n",
    "\n",
    "print(lst1)\n"
   ]
  },
  {
   "cell_type": "code",
   "execution_count": 40,
   "metadata": {},
   "outputs": [
    {
     "name": "stdout",
     "output_type": "stream",
     "text": [
      "['ridhwan', 'khan', 'rahman']\n"
     ]
    }
   ],
   "source": [
    "inp=['ridhwan','','khan','','rahman']\n",
    "lst2=[]\n",
    "for i in inp:\n",
    "    if i=='':\n",
    "        pass\n",
    "    else:\n",
    "        lst2.append(i) \n",
    "print(lst2)"
   ]
  },
  {
   "cell_type": "code",
   "execution_count": 49,
   "metadata": {},
   "outputs": [
    {
     "name": "stdout",
     "output_type": "stream",
     "text": [
      "My list:  [1, 2323, 232, 3423, 4324, 234, 3432]\n",
      "largest number:  4324 index:  4\n"
     ]
    }
   ],
   "source": [
    "#task06\n",
    "lst6=[]\n",
    "k=0\n",
    "\n",
    "for i in range(7):\n",
    "    l= int(input())\n",
    "    lst6.append(l)\n",
    "    if lst6[i]>k:\n",
    "        k= lst6[i]\n",
    "\n",
    "print('My list: ',lst6)\n",
    "ind= lst6.index(k)\n",
    "print('largest number: ', k, 'index: ',ind)\n"
   ]
  },
  {
   "cell_type": "code",
   "execution_count": 57,
   "metadata": {},
   "outputs": [
    {
     "name": "stdout",
     "output_type": "stream",
     "text": [
      "[1, 2, 3]\n",
      "[1, 2, 3, 5, 6, 7, 8]\n"
     ]
    }
   ],
   "source": [
    "#07\n",
    "lst7=[1,2,3,4]\n",
    "lst7=lst7[:-1]\n",
    "print(lst7)\n",
    "lst8=[5,6,7,8]\n",
    "lst7.extend(lst8)\n",
    "print(lst7)"
   ]
  },
  {
   "cell_type": "code",
   "execution_count": 64,
   "metadata": {},
   "outputs": [
    {
     "name": "stdout",
     "output_type": "stream",
     "text": [
      "[2, 4, 6, 8, 10]\n"
     ]
    }
   ],
   "source": [
    "#task08\n",
    "lst9=[1,2,3,4,5]\n",
    "lst10=[6,7,8,9,10]\n",
    "meaw=[]\n",
    "for i in lst9 :\n",
    "    if i %2==0 :\n",
    "        meaw.append(i)\n",
    "for j in lst10:\n",
    "    if j%2==0:\n",
    "        meaw.append(j)\n",
    "print(meaw)\n"
   ]
  },
  {
   "cell_type": "code",
   "execution_count": 2,
   "metadata": {},
   "outputs": [
    {
     "name": "stdout",
     "output_type": "stream",
     "text": [
      "input  1 2 3 4 5 56 6 7 8 33 \n",
      "[1, 3, 5, 5, 7, 3, 3]\n"
     ]
    }
   ],
   "source": [
    "#task9 \n",
    "n=input('separate with spaces')\n",
    "new=[]\n",
    "print('input ',n)\n",
    "for i in range(len(n)):\n",
    "    if n[i]!=' ' and  int(n[i])%2!=0:\n",
    "        new.append(int(n[i]))\n",
    "print(new)\n"
   ]
  },
  {
   "cell_type": "code",
   "execution_count": null,
   "metadata": {},
   "outputs": [],
   "source": [
    "#BARISAILLA's ALENA :p problem ##task 9 \n",
    "\n",
    "alena=input('string with spaces') #1 2 3 4 5\n",
    "list1=[         ]\n",
    "for i in alena:\n",
    "    if i !=' ':\n",
    "        list1.append(int(i))\n",
    "print(list1)\n",
    "for j in list1:\n",
    "    if j%2==0:\n",
    "        list1.remove(j)\n",
    "print('modified',list1)"
   ]
  },
  {
   "cell_type": "code",
   "execution_count": 3,
   "metadata": {},
   "outputs": [
    {
     "name": "stdout",
     "output_type": "stream",
     "text": [
      "[1, 2, 3, 54, 2, 4, 54, 1, 1, 1, 1]\n",
      "[1, 2, 3, 54, 4]\n"
     ]
    }
   ],
   "source": [
    "#task10\n",
    "first=input('sesparate with comma')\n",
    "newL=[int(x) for x in first.split(',')]  #Allah malum kmne korlam 3 ta error khaya mila gese :) \n",
    "modified=[]\n",
    "for i in range(len(newL)):\n",
    "    if  newL[i] in modified:\n",
    "        pass\n",
    "    else:\n",
    "        modified.append(newL[i]) \n",
    "print(newL)\n",
    "print(modified)"
   ]
  },
  {
   "cell_type": "code",
   "execution_count": 4,
   "metadata": {},
   "outputs": [
    {
     "name": "stdout",
     "output_type": "stream",
     "text": [
      "h\n"
     ]
    }
   ],
   "source": [
    "n1='Ridhwan'\n",
    "n2='khejur'\n",
    "n3=''\n",
    "for i in n1:\n",
    "    if i in n2:\n",
    "        n3=i\n",
    "print(n3 )\n",
    "    \n"
   ]
  },
  {
   "cell_type": "code",
   "execution_count": 8,
   "metadata": {},
   "outputs": [
    {
     "name": "stdout",
     "output_type": "stream",
     "text": [
      "[1, 4, 7]\n",
      "[2, 5, 8]\n",
      "[3, 6, 9]\n"
     ]
    }
   ],
   "source": [
    "n=int(input())\n",
    "l1=[]\n",
    "l2=[]\n",
    "l3=[]\n",
    "for i in range(3):\n",
    "    l1.append(int(input())) \n",
    "    l2.append(int(input()))\n",
    "    l3.append(int(input()))\n",
    "    print(l1)\n",
    "    print(l2)\n",
    "    print(l3)\n",
    "    \n"
   ]
  },
  {
   "cell_type": "code",
   "execution_count": 8,
   "metadata": {},
   "outputs": [
    {
     "name": "stdout",
     "output_type": "stream",
     "text": [
      "[[1, 1, 1], [1, 0, 1], [0, 0, 1]]\n",
      "2\n"
     ]
    }
   ],
   "source": [
    "list = []\n",
    "n=int(input())\n",
    "\n",
    "# Create List of list\n",
    "for i in range(n):    \n",
    "    list.append([])     #ridhwan -_-  \n",
    "    for j in range(3): \n",
    "        list[i].append(int(input()))\n",
    "#111 101 001 \n",
    "# print(list)\n",
    "y=0 \n",
    "for k in range(len(list)):\n",
    "    cnt=list[k].count(1)\n",
    "    if cnt>=2:\n",
    "        y+=1\n",
    "print(y)"
   ]
  },
  {
   "cell_type": "code",
   "execution_count": 1,
   "metadata": {},
   "outputs": [
    {
     "name": "stdout",
     "output_type": "stream",
     "text": [
      "0\n"
     ]
    }
   ],
   "source": [
    "list1=[]\n",
    "print(len(list1))"
   ]
  },
  {
   "cell_type": "code",
   "execution_count": 16,
   "metadata": {},
   "outputs": [
    {
     "name": "stdout",
     "output_type": "stream",
     "text": [
      "3\n"
     ]
    }
   ],
   "source": [
    "str1 = input()\n",
    "str1 = str1[1:-1]\n",
    "list1 = str1.split(\", \")\n",
    "list1.sort()\n",
    " \n",
    "list2 = []\n",
    " \n",
    "\n",
    " \n",
    "for i in list1:\n",
    "  if i not in list2:\n",
    "    list2.append(i)\n",
    " \n",
    "if list2[0] == \"\":\n",
    "  print(0)\n",
    "else:\n",
    "  print(len(list2))"
   ]
  },
  {
   "cell_type": "code",
   "execution_count": 4,
   "metadata": {},
   "outputs": [
    {
     "name": "stdout",
     "output_type": "stream",
     "text": [
      "3\n",
      "abc\n"
     ]
    }
   ],
   "source": []
  },
  {
   "cell_type": "code",
   "execution_count": 4,
   "metadata": {},
   "outputs": [
    {
     "name": "stdout",
     "output_type": "stream",
     "text": [
      "count 1\n",
      "1\n"
     ]
    }
   ],
   "source": []
  },
  {
   "cell_type": "code",
   "execution_count": 25,
   "metadata": {},
   "outputs": [
    {
     "name": "stdout",
     "output_type": "stream",
     "text": [
      "5\n"
     ]
    }
   ],
   "source": []
  },
  {
   "cell_type": "code",
   "execution_count": 5,
   "metadata": {},
   "outputs": [
    {
     "name": "stdout",
     "output_type": "stream",
     "text": [
      "[1, 2, 4, 5, 7, 99, 200, 303, 70, 3, 500, -5]\n"
     ]
    }
   ],
   "source": []
  },
  {
   "cell_type": "code",
   "execution_count": 7,
   "metadata": {},
   "outputs": [
    {
     "name": "stdout",
     "output_type": "stream",
     "text": [
      "Sorted array :\n",
      "64 34 25 12 22 11 90 "
     ]
    }
   ],
   "source": [
    "arr = [64, 34, 25, 12, 22, 11, 90]\n",
    "  \n",
    "# bubbleSort(arr)\n",
    "  \n",
    "print (\"Sorted array :\")\n",
    "for i in range(len(arr)):\n",
    "    print (\"%d\" %arr[i],end=\" \")"
   ]
  },
  {
   "cell_type": "code",
   "execution_count": 8,
   "metadata": {},
   "outputs": [
    {
     "name": "stdout",
     "output_type": "stream",
     "text": [
      "<class 'float'>\n"
     ]
    }
   ],
   "source": [
    "a=2.2\n",
    "print(type(a))"
   ]
  },
  {
   "cell_type": "code",
   "execution_count": 9,
   "metadata": {},
   "outputs": [
    {
     "name": "stdout",
     "output_type": "stream",
     "text": [
      "<class 'int'>\n"
     ]
    }
   ],
   "source": [
    "b=4//2\n",
    "print(type(b))"
   ]
  },
  {
   "cell_type": "code",
   "execution_count": 16,
   "metadata": {},
   "outputs": [
    {
     "ename": "SyntaxError",
     "evalue": "cannot assign to literal here. Maybe you meant '==' instead of '='? (3223963637.py, line 2)",
     "output_type": "error",
     "traceback": [
      "\u001b[1;36m  Input \u001b[1;32mIn [16]\u001b[1;36m\u001b[0m\n\u001b[1;33m    dict1= {'p1'=[],'p2'=[],'p3'=[]}\u001b[0m\n\u001b[1;37m            ^\u001b[0m\n\u001b[1;31mSyntaxError\u001b[0m\u001b[1;31m:\u001b[0m cannot assign to literal here. Maybe you meant '==' instead of '='?\n"
     ]
    }
   ],
   "source": [
    "list1=['ridhwan','ifaz','joy','mahir','sun','moon']\n",
    "dict1= {'p1'=[],'p2'=[],'p3'=[]}\n",
    "for name in range(list1):\n",
    "    if len(dict['p1']==2):\n",
    "        dict1['p1'].append(name)\n",
    "    elif len(dict['p2'])==4:\n",
    "        dict1['p2'].append(name)\n",
    "    else:\n",
    "        dict['p3'].append(name)\n",
    "print(dict1)    "
   ]
  },
  {
   "cell_type": "code",
   "execution_count": 7,
   "metadata": {},
   "outputs": [
    {
     "name": "stdout",
     "output_type": "stream",
     "text": [
      "r\n"
     ]
    }
   ],
   "source": [
    "ridhwan='murgi'\n",
    "print(ridhwan[2])"
   ]
  },
  {
   "cell_type": "code",
   "execution_count": 13,
   "metadata": {},
   "outputs": [
    {
     "name": "stdout",
     "output_type": "stream",
     "text": [
      "z\n"
     ]
    }
   ],
   "source": [
    "ifaz=['i','f','a','z']\n",
    "ifaz=ifaz[3]\n",
    "print(ifaz)"
   ]
  }
 ],
 "metadata": {
  "kernelspec": {
   "display_name": "Python 3.10.4 64-bit",
   "language": "python",
   "name": "python3"
  },
  "language_info": {
   "codemirror_mode": {
    "name": "ipython",
    "version": 3
   },
   "file_extension": ".py",
   "mimetype": "text/x-python",
   "name": "python",
   "nbconvert_exporter": "python",
   "pygments_lexer": "ipython3",
   "version": "3.10.4"
  },
  "orig_nbformat": 4,
  "vscode": {
   "interpreter": {
    "hash": "b7299c1dbb38e985e3d1bc79bcd0468964fdcf53abee7d787a89c910fa60a91c"
   }
  }
 },
 "nbformat": 4,
 "nbformat_minor": 2
}
