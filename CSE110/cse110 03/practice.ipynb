{
 "cells": [
  {
   "cell_type": "code",
   "execution_count": 10,
   "metadata": {},
   "outputs": [
    {
     "name": "stdout",
     "output_type": "stream",
     "text": [
      "[1, 2, 'ronaldo', 4]\n"
     ]
    }
   ],
   "source": [
    "new=[1,2,3,'ronaldo',4]\n",
    "new.pop(2)\n",
    "print(new)"
   ]
  },
  {
   "cell_type": "code",
   "execution_count": 6,
   "metadata": {},
   "outputs": [
    {
     "name": "stdout",
     "output_type": "stream",
     "text": [
      "[1, 2, 3, 4]\n"
     ]
    }
   ],
   "source": [
    "new=[1,2,3,'ronaldo',4]\n",
    "new.remove('ronaldo')\n",
    "print(new)"
   ]
  },
  {
   "cell_type": "code",
   "execution_count": 13,
   "metadata": {},
   "outputs": [
    {
     "name": "stdout",
     "output_type": "stream",
     "text": [
      "[]\n"
     ]
    }
   ],
   "source": [
    "new=[1,2,3,'ronaldo',4]\n",
    "new.clear()\n",
    "print(new)"
   ]
  },
  {
   "cell_type": "code",
   "execution_count": 16,
   "metadata": {},
   "outputs": [
    {
     "name": "stdout",
     "output_type": "stream",
     "text": [
      "[1, 2, 3, 4]\n"
     ]
    }
   ],
   "source": [
    "new=[1,2,3,'ronaldo',4]\n",
    "del new[3]\n",
    "print(new)"
   ]
  },
  {
   "cell_type": "code",
   "execution_count": 17,
   "metadata": {},
   "outputs": [
    {
     "ename": "NameError",
     "evalue": "name 'new' is not defined",
     "output_type": "error",
     "traceback": [
      "\u001b[1;31m---------------------------------------------------------------------------\u001b[0m",
      "\u001b[1;31mNameError\u001b[0m                                 Traceback (most recent call last)",
      "\u001b[1;32mUntitled-1.ipynb Cell 5'\u001b[0m in \u001b[0;36m<cell line: 3>\u001b[1;34m()\u001b[0m\n\u001b[0;32m      <a href='vscode-notebook-cell:Untitled-1.ipynb?jupyter-notebook#ch0000004untitled?line=0'>1</a>\u001b[0m new\u001b[39m=\u001b[39m[\u001b[39m1\u001b[39m,\u001b[39m2\u001b[39m,\u001b[39m3\u001b[39m,\u001b[39m'\u001b[39m\u001b[39mronaldo\u001b[39m\u001b[39m'\u001b[39m,\u001b[39m4\u001b[39m]\n\u001b[0;32m      <a href='vscode-notebook-cell:Untitled-1.ipynb?jupyter-notebook#ch0000004untitled?line=1'>2</a>\u001b[0m \u001b[39mdel\u001b[39;00m new\n\u001b[1;32m----> <a href='vscode-notebook-cell:Untitled-1.ipynb?jupyter-notebook#ch0000004untitled?line=2'>3</a>\u001b[0m \u001b[39mprint\u001b[39m(new)\n",
      "\u001b[1;31mNameError\u001b[0m: name 'new' is not defined"
     ]
    }
   ],
   "source": [
    "new=[1,2,3,'ronaldo',4]\n",
    "del new\n",
    "print(new)"
   ]
  },
  {
   "cell_type": "code",
   "execution_count": 22,
   "metadata": {},
   "outputs": [
    {
     "name": "stdout",
     "output_type": "stream",
     "text": [
      "[1, 2, 3, 4, 5, 5, 6, 6, 7, 8]\n"
     ]
    }
   ],
   "source": [
    "new=[1,2,5,8,6,5,6,7,3,4]\n",
    "new.sort()\n",
    "print(new)"
   ]
  },
  {
   "cell_type": "code",
   "execution_count": 27,
   "metadata": {},
   "outputs": [
    {
     "name": "stdout",
     "output_type": "stream",
     "text": [
      "[4, 3, 7, 6, 5, 6, 8, 5, 2, 1]\n"
     ]
    }
   ],
   "source": [
    "new=[1,2,5,8,6,5,6,7,3,4]\n",
    "new.reverse()\n",
    "print(new)"
   ]
  },
  {
   "cell_type": "code",
   "execution_count": 28,
   "metadata": {},
   "outputs": [
    {
     "data": {
      "text/plain": [
       "['__add__',\n",
       " '__class__',\n",
       " '__class_getitem__',\n",
       " '__contains__',\n",
       " '__delattr__',\n",
       " '__delitem__',\n",
       " '__dir__',\n",
       " '__doc__',\n",
       " '__eq__',\n",
       " '__format__',\n",
       " '__ge__',\n",
       " '__getattribute__',\n",
       " '__getitem__',\n",
       " '__gt__',\n",
       " '__hash__',\n",
       " '__iadd__',\n",
       " '__imul__',\n",
       " '__init__',\n",
       " '__init_subclass__',\n",
       " '__iter__',\n",
       " '__le__',\n",
       " '__len__',\n",
       " '__lt__',\n",
       " '__mul__',\n",
       " '__ne__',\n",
       " '__new__',\n",
       " '__reduce__',\n",
       " '__reduce_ex__',\n",
       " '__repr__',\n",
       " '__reversed__',\n",
       " '__rmul__',\n",
       " '__setattr__',\n",
       " '__setitem__',\n",
       " '__sizeof__',\n",
       " '__str__',\n",
       " '__subclasshook__',\n",
       " 'append',\n",
       " 'clear',\n",
       " 'copy',\n",
       " 'count',\n",
       " 'extend',\n",
       " 'index',\n",
       " 'insert',\n",
       " 'pop',\n",
       " 'remove',\n",
       " 'reverse',\n",
       " 'sort']"
      ]
     },
     "execution_count": 28,
     "metadata": {},
     "output_type": "execute_result"
    }
   ],
   "source": [
    "dir(list)"
   ]
  },
  {
   "cell_type": "code",
   "execution_count": 36,
   "metadata": {},
   "outputs": [
    {
     "name": "stdout",
     "output_type": "stream",
     "text": [
      "['C', 'D', ['A', 'B'], 'a', 'b']\n"
     ]
    }
   ],
   "source": [
    "a=['C','D',['A','B']]\n",
    "a.extend(['a','b'])\n",
    "print(a)"
   ]
  },
  {
   "cell_type": "code",
   "execution_count": 40,
   "metadata": {},
   "outputs": [
    {
     "data": {
      "text/plain": [
       "[3, 4, 5]"
      ]
     },
     "execution_count": 40,
     "metadata": {},
     "output_type": "execute_result"
    }
   ],
   "source": [
    "a=[[1,2,3,4,5],[12,13,12,3,2,4,5,7,8]]\n",
    "a[0][2:5]"
   ]
  },
  {
   "cell_type": "code",
   "execution_count": 41,
   "metadata": {},
   "outputs": [
    {
     "name": "stdout",
     "output_type": "stream",
     "text": [
      "[1, 2, 3, 4, 5]\n",
      "[12, 13, 12, 3, 2, 4, 5, 7, 8]\n"
     ]
    }
   ],
   "source": [
    "a=[[1,2,3,4,5],[12,13,12,3,2,4,5,7,8]]\n",
    "for i in a:\n",
    "    print(i)"
   ]
  },
  {
   "cell_type": "code",
   "execution_count": 42,
   "metadata": {},
   "outputs": [
    {
     "name": "stdout",
     "output_type": "stream",
     "text": [
      "1\n",
      "2\n",
      "3\n",
      "4\n",
      "5\n"
     ]
    }
   ],
   "source": [
    "a=[1,2,3,4,5]\n",
    "for i in a:\n",
    "    print(i)"
   ]
  },
  {
   "cell_type": "code",
   "execution_count": 48,
   "metadata": {},
   "outputs": [
    {
     "name": "stdout",
     "output_type": "stream",
     "text": [
      "Index 0 in sup is pen\n",
      "Index 1 in sup is sts\n",
      "Index 2 in sup is sfsf\n"
     ]
    }
   ],
   "source": [
    "sup=['pen','sts','sfsf']\n",
    "for i in range(len(sup)):\n",
    "    print('Index '+str(i)+' in sup is ' + sup[i])"
   ]
  },
  {
   "cell_type": "code",
   "execution_count": 51,
   "metadata": {},
   "outputs": [
    {
     "name": "stdout",
     "output_type": "stream",
     "text": [
      "None\n"
     ]
    }
   ],
   "source": [
    "sup=['pen','sts','sfsf']\n",
    "sup= sup.append('ball')\n",
    "print(sup)"
   ]
  },
  {
   "cell_type": "code",
   "execution_count": 52,
   "metadata": {},
   "outputs": [
    {
     "ename": "TypeError",
     "evalue": "'<' not supported between instances of 'str' and 'list'",
     "output_type": "error",
     "traceback": [
      "\u001b[1;31m---------------------------------------------------------------------------\u001b[0m",
      "\u001b[1;31mTypeError\u001b[0m                                 Traceback (most recent call last)",
      "\u001b[1;32mUntitled-1.ipynb Cell 15'\u001b[0m in \u001b[0;36m<cell line: 2>\u001b[1;34m()\u001b[0m\n\u001b[0;32m      <a href='vscode-notebook-cell:Untitled-1.ipynb?jupyter-notebook#ch0000015untitled?line=0'>1</a>\u001b[0m a\u001b[39m=\u001b[39m[\u001b[39m'\u001b[39m\u001b[39mC\u001b[39m\u001b[39m'\u001b[39m,\u001b[39m'\u001b[39m\u001b[39mD\u001b[39m\u001b[39m'\u001b[39m,[\u001b[39m'\u001b[39m\u001b[39mA\u001b[39m\u001b[39m'\u001b[39m,\u001b[39m'\u001b[39m\u001b[39mB\u001b[39m\u001b[39m'\u001b[39m]]\n\u001b[1;32m----> <a href='vscode-notebook-cell:Untitled-1.ipynb?jupyter-notebook#ch0000015untitled?line=1'>2</a>\u001b[0m a\u001b[39m.\u001b[39;49msort(reverse\u001b[39m=\u001b[39;49m\u001b[39mTrue\u001b[39;49;00m)\n",
      "\u001b[1;31mTypeError\u001b[0m: '<' not supported between instances of 'str' and 'list'"
     ]
    }
   ],
   "source": [
    "a=['C','D',['A','B']]\n",
    "a.sort(reverse=True)"
   ]
  },
  {
   "cell_type": "code",
   "execution_count": 56,
   "metadata": {},
   "outputs": [
    {
     "name": "stdout",
     "output_type": "stream",
     "text": [
      "[8, 7, 6, 6, 5, 5, 4, 3, 2, 1]\n"
     ]
    }
   ],
   "source": [
    "new=[1,2,5,8,6,5,6,7,3,4]\n",
    "new.sort(reverse=True)\n",
    "print(new)"
   ]
  },
  {
   "cell_type": "code",
   "execution_count": 57,
   "metadata": {},
   "outputs": [
    {
     "name": "stdout",
     "output_type": "stream",
     "text": [
      "['A', 'B', 'C', 'a', 'b']\n"
     ]
    }
   ],
   "source": [
    "str=['a','B','C','b','A']\n",
    "str.sort()\n",
    "print(str)"
   ]
  },
  {
   "cell_type": "code",
   "execution_count": 1,
   "metadata": {},
   "outputs": [
    {
     "data": {
      "text/plain": [
       "['a', 'A', 'B', 'benten', 'C']"
      ]
     },
     "execution_count": 1,
     "metadata": {},
     "output_type": "execute_result"
    }
   ],
   "source": [
    "a=['a','B','C','benten','A']\n",
    "a.sort(key=str.lower)\n",
    "a"
   ]
  },
  {
   "cell_type": "code",
   "execution_count": 6,
   "metadata": {},
   "outputs": [
    {
     "name": "stdout",
     "output_type": "stream",
     "text": [
      "hau mau khau years ago ...\n"
     ]
    }
   ],
   "source": [
    "print('hau mau khau'+ \\\n",
    "    ' years ago ...')"
   ]
  },
  {
   "cell_type": "code",
   "execution_count": 3,
   "metadata": {},
   "outputs": [
    {
     "name": "stdout",
     "output_type": "stream",
     "text": [
      "['ridhwan', 'ridhwan', 'kelly']\n"
     ]
    }
   ],
   "source": [
    "rk=['ridhwan','','','ridhwan','kelly']\n",
    "res= list(filter(None,rk))\n",
    "print(res)\n",
    "#filter can be used to to remove the none\n",
    "#data type\n"
   ]
  },
  {
   "cell_type": "code",
   "execution_count": 8,
   "metadata": {},
   "outputs": [
    {
     "name": "stdout",
     "output_type": "stream",
     "text": [
      "[10, 2, [3, [4, [50, 60, [1, 2, 3, 3]], 55], 56], 78]\n"
     ]
    }
   ],
   "source": [
    "##add new item in a list \n",
    "list3=[10,2,[3,[4,[50,60],55],56],78]\n",
    "#solution\n",
    "# print(list3 [2][1][1])\n",
    "list3 [2][1][1].append([1,2,3,3])\n",
    "print (list3)\n"
   ]
  },
  {
   "cell_type": "code",
   "execution_count": 9,
   "metadata": {},
   "outputs": [
    {
     "name": "stdout",
     "output_type": "stream",
     "text": [
      "['helloridhwan', 'hellosir', 'takeridhwan', 'takesir']\n"
     ]
    }
   ],
   "source": [
    "L1=['hello','take']\n",
    "L2=['ridhwan','sir']\n",
    "new=[]\n",
    "for i in L1:\n",
    "    for j in L2:\n",
    "        a=i+j \n",
    "        new.append(a)\n",
    "print(new)"
   ]
  },
  {
   "cell_type": "code",
   "execution_count": 10,
   "metadata": {},
   "outputs": [
    {
     "name": "stdout",
     "output_type": "stream",
     "text": [
      "['1', '2', '3', '4']\n"
     ]
    }
   ],
   "source": [
    "n=input()\n",
    "#list1=[]\n",
    "list1 = n.split(', ')\n",
    "print(list1)"
   ]
  },
  {
   "cell_type": "code",
   "execution_count": 4,
   "metadata": {},
   "outputs": [
    {
     "name": "stdout",
     "output_type": "stream",
     "text": [
      "[1, 2, 3, 4]\n",
      "[1, 2, 3, 4]\n"
     ]
    }
   ],
   "source": [
    "n=0\n",
    "list2=[]\n",
    "# list3=[]\n",
    "while True:\n",
    "    n = input()\n",
    "\n",
    "    if n== '':\n",
    "    \n",
    "        break\n",
    "    list2.append(int(n))\n",
    "    \n",
    "print(list2)\n",
    "\n",
    "list3=[int(x) for x in list2]\n",
    "print(list3)\n"
   ]
  },
  {
   "cell_type": "code",
   "execution_count": 1,
   "metadata": {},
   "outputs": [
    {
     "name": "stdout",
     "output_type": "stream",
     "text": [
      "['apple', 'banana', 'cherry', 'orange']\n",
      "['apple', 'banana', 'cherry#orange']\n",
      "['apple', 'banana', 'cherry', 'orange']\n"
     ]
    }
   ],
   "source": [
    "txt = \"apple#banana#cherry#orange\"\n",
    "\n",
    "# setting the maxsplit parameter to 1, will return a list with 2 elements!\n",
    "x = txt.split(\"#\", -1)\n",
    "print(x)\n",
    "x = txt.split(\"#\", 2)\n",
    "print(x)\n",
    "x = txt.split(\"#\", 100)\n",
    "\n",
    "print(x)\n"
   ]
  },
  {
   "cell_type": "code",
   "execution_count": 19,
   "metadata": {},
   "outputs": [
    {
     "name": "stdout",
     "output_type": "stream",
     "text": [
      "['apple', 'banana', 'cherry#orange']\n"
     ]
    }
   ],
   "source": [
    "txt = \"apple#banana#cherry#orange\"\n",
    "\n",
    "# setting the maxsplit parameter to 1, will return a list with 2 elements!\n",
    "x = txt.split(\"#\",2)\n",
    "print(x)"
   ]
  },
  {
   "cell_type": "code",
   "execution_count": 1,
   "metadata": {},
   "outputs": [
    {
     "name": "stdout",
     "output_type": "stream",
     "text": [
      "\"A\",\"B\",\"C\",1\n",
      "<class 'str'>\n",
      "List before removing the double inverted comma ['\"A\"', '\"B\"', '\"C\"', '1']\n",
      "['A', 'B', 'C', 1]\n"
     ]
    }
   ],
   "source": [
    "#sample input = [\"A\",\"B\",\"C\",1]\n",
    "\n",
    "s=input(\"please enter your desired list\")\n",
    "s= s[1:-1] #Brackets remove\n",
    "print(s)\n",
    "print(type(s))\n",
    "list1 = s.split(\",\") #'\"A\",\"B\",\"C\", 1' ---> ['\"A\"','\"B\"','\"C\"', '1']\n",
    "print(\"List before removing the double inverted comma\",list1)\n",
    "\n",
    "\n",
    "for i in range(len(list1)):  \n",
    "  if list1[i].isdigit():\n",
    "      list1[i] = int(list1[i])  #Here the integer (eg: 1) is converted to integer. \n",
    "  else:\n",
    "      list1[i] = list1[i][1:-1] #This slicing is to remove the double inverted comma from each element which is part of the string \n",
    "\n",
    "print(list1)\n"
   ]
  },
  {
   "cell_type": "code",
   "execution_count": 3,
   "metadata": {},
   "outputs": [
    {
     "name": "stdout",
     "output_type": "stream",
     "text": [
      "['A', 'B', 'IJK']\n",
      "['A', 'B', 'I', 'J', 'K']\n"
     ]
    }
   ],
   "source": [
    "list1 = [\"A\",\"B\"]\n",
    "list1.append(\"IJK\")      #IJK is added as a  <whole>\n",
    "print(list1)\n",
    "\n",
    "\n",
    "list1 = [\"A\",\"B\"]\n",
    "list1.extend(\"IJK\")     #IJK is added <individually> as a character into the list\n",
    "print(list1)"
   ]
  },
  {
   "cell_type": "code",
   "execution_count": 1,
   "metadata": {},
   "outputs": [
    {
     "name": "stdout",
     "output_type": "stream",
     "text": [
      "0 1 1 2 3 5 8 "
     ]
    }
   ],
   "source": [
    "#fibonacchi\n",
    "#i feel osthir lvl er talented ungraded solve krlam :p \n",
    "n1=0\n",
    "n2=1\n",
    "print(n1,n2, end=' ')\n",
    "fibo=0\n",
    "n=0\n",
    "ran=int(input())\n",
    "while n<ran: \n",
    "    if (n2+n1)<=ran:  #ei condition check korte 5 min ses  \n",
    "\n",
    "        fibo=n2+n1\n",
    "        # print(new)\n",
    "        print(fibo,end=' ')\n",
    "        n1=n2\n",
    "        n2=fibo\n",
    "        n+=1\n",
    "        \n",
    "    else:\n",
    "        break\n",
    "\n"
   ]
  },
  {
   "cell_type": "code",
   "execution_count": 4,
   "metadata": {},
   "outputs": [
    {
     "name": "stdout",
     "output_type": "stream",
     "text": [
      "0\n"
     ]
    }
   ],
   "source": [
    "#decimal to binary \n",
    "start=int(input('input'))\n",
    "store=start\n",
    "x=0\n",
    "bin=[ ]\n",
    "while store%2>=0:\n",
    "    bin=store%2\n",
    "    store=store//2\n",
    "    print(store)\n",
    "print(bin)\n",
    "print(bin[-1::-1])\n",
    "    \n",
    "\n",
    "\n",
    "\n",
    "\n",
    "\n"
   ]
  },
  {
   "cell_type": "code",
   "execution_count": 5,
   "metadata": {},
   "outputs": [
    {
     "name": "stdout",
     "output_type": "stream",
     "text": [
      "largest1 220\n",
      "[2, 4, 10, 220, 100, 1]\n",
      "largest2 100 INDEX is  0\n"
     ]
    }
   ],
   "source": [
    "#lab 04\n",
    "#UNGRADED 16\n",
    "n=(input())\n",
    "l1=[]\n",
    "largest1=0\n",
    "l2=0\n",
    "ind=0\n",
    "while n!='':\n",
    "    l1.append(int(n))\n",
    "    if int(n)>largest1:\n",
    "        largest1=int(n)\n",
    "    n=(input())\n",
    "print('largest1',largest1)\n",
    "print(l1)\n",
    "for i in range(len(l1)):\n",
    "    if l1[i]!= largest1:\n",
    "        if l1[i]>l2:\n",
    "            l2=l1[i]\n",
    "for j in range(len(l1)):\n",
    "    if l1[j]==l2:\n",
    "        j=ind\n",
    "\n",
    "print('largest2',l2,'INDEX is ',ind)"
   ]
  },
  {
   "cell_type": "code",
   "execution_count": 3,
   "metadata": {},
   "outputs": [],
   "source": [
    "lis1=[1,2,3,]\n",
    "tup1=(1,2,3,)"
   ]
  },
  {
   "cell_type": "code",
   "execution_count": 5,
   "metadata": {},
   "outputs": [
    {
     "name": "stdout",
     "output_type": "stream",
     "text": [
      "<class 'list'>\n"
     ]
    }
   ],
   "source": [
    "lis2=[1]\n",
    "print(type(lis2))"
   ]
  },
  {
   "cell_type": "code",
   "execution_count": 8,
   "metadata": {},
   "outputs": [
    {
     "name": "stdout",
     "output_type": "stream",
     "text": [
      "<class 'int'>\n"
     ]
    }
   ],
   "source": [
    "tup=(1)\n",
    "print(type(tup))"
   ]
  },
  {
   "cell_type": "code",
   "execution_count": 9,
   "metadata": {},
   "outputs": [
    {
     "data": {
      "text/plain": [
       "tuple"
      ]
     },
     "execution_count": 9,
     "metadata": {},
     "output_type": "execute_result"
    }
   ],
   "source": [
    "tup=(21,)\n",
    "type(tup)"
   ]
  },
  {
   "cell_type": "code",
   "execution_count": 10,
   "metadata": {},
   "outputs": [
    {
     "data": {
      "text/plain": [
       "[1, 2, 'hello']"
      ]
     },
     "execution_count": 10,
     "metadata": {},
     "output_type": "execute_result"
    }
   ],
   "source": [
    "list((1,2,'hello'))\n"
   ]
  },
  {
   "cell_type": "code",
   "execution_count": 11,
   "metadata": {},
   "outputs": [
    {
     "data": {
      "text/plain": [
       "(1, 2, 3, 4, 5, 6)"
      ]
     },
     "execution_count": 11,
     "metadata": {},
     "output_type": "execute_result"
    }
   ],
   "source": [
    "lis11=[1,2,3,4,5,6,]\n",
    "tuple(lis11)"
   ]
  },
  {
   "cell_type": "code",
   "execution_count": 12,
   "metadata": {},
   "outputs": [
    {
     "data": {
      "text/plain": [
       "[1, 2, 3, 4]"
      ]
     },
     "execution_count": 12,
     "metadata": {},
     "output_type": "execute_result"
    }
   ],
   "source": [
    "tup11=(1,2,3,4,)\n",
    "list((tup11))"
   ]
  },
  {
   "cell_type": "code",
   "execution_count": 17,
   "metadata": {},
   "outputs": [
    {
     "data": {
      "text/plain": [
       "['H', 'E', 'L', 'L', 'O', 'O', 'O']"
      ]
     },
     "execution_count": 17,
     "metadata": {},
     "output_type": "execute_result"
    }
   ],
   "source": [
    "list('HELLOOO')"
   ]
  },
  {
   "cell_type": "code",
   "execution_count": 20,
   "metadata": {},
   "outputs": [
    {
     "name": "stdout",
     "output_type": "stream",
     "text": [
      "69\n",
      "42\n"
     ]
    }
   ],
   "source": [
    "a=69\n",
    "c=a   #just copied the reference not the variable itself \n",
    "a=42  #integers are immutable so 42 is assigned to a ....as it is immutable it doesn't effect C \n",
    "print(c)\n",
    "print(a)  \n"
   ]
  },
  {
   "cell_type": "code",
   "execution_count": 23,
   "metadata": {},
   "outputs": [
    {
     "name": "stdout",
     "output_type": "stream",
     "text": [
      "[1, 'murgi ,[morga]', 3, 4] =rid\n",
      "[1, 'murgi ,[morga]', 3, 4] =hit\n"
     ]
    }
   ],
   "source": [
    "rid=[1,2,3,4,]\n",
    "hit=rid         #the reference is being copied not the list \n",
    "hit[1]='murgi ,[morga]' #AS list is mutable so this changes the list \n",
    "print(rid ,'=rid')  #the list itself was never being copied when we modify any of them we are actually modifying both cause the memory \n",
    "#location was  a reference of the other ist\n",
    "\n",
    "print(hit,'=hit')"
   ]
  },
  {
   "cell_type": "code",
   "execution_count": 28,
   "metadata": {},
   "outputs": [
    {
     "data": {
      "text/plain": [
       "2208640630320"
      ]
     },
     "execution_count": 28,
     "metadata": {},
     "output_type": "execute_result"
    }
   ],
   "source": [
    "id('ridhwan') #everytime i run its different cause it shows the memory free memory byte address "
   ]
  },
  {
   "cell_type": "code",
   "execution_count": 8,
   "metadata": {},
   "outputs": [
    {
     "name": "stdout",
     "output_type": "stream",
     "text": [
      "     \n",
      "    *\n",
      "   **\n",
      "  ***\n",
      " ****\n",
      "*****\n"
     ]
    }
   ],
   "source": [
    "row=int(input())\n",
    "for i in range(0,row+1):\n",
    "    print(' '*(row-i)+'*'*i)"
   ]
  },
  {
   "cell_type": "code",
   "execution_count": 14,
   "metadata": {},
   "outputs": [
    {
     "name": "stdout",
     "output_type": "stream",
     "text": [
      "      *\n",
      "     **\n",
      "    * *\n",
      "   *  *\n",
      "  *   *\n",
      " *    *\n",
      "*******\n"
     ]
    }
   ],
   "source": [
    "r1=int(input())\n",
    "for i in range (1,r1+1):\n",
    "                #RIDHWAN KHAN SEC 04 ;) \n",
    "    if  i==1  or  i==2 or i==r1:\n",
    "       \n",
    "        print(' '*(r1-i)+'*'*i)\n",
    "    else:\n",
    "                                     \n",
    "        print(' '*(r1-i)+'*'+' '*(i-2)+'*')\n",
    "    "
   ]
  },
  {
   "cell_type": "code",
   "execution_count": 15,
   "metadata": {},
   "outputs": [
    {
     "name": "stdout",
     "output_type": "stream",
     "text": [
      "[1, 2, 3, 3, 4, 5]\n"
     ]
    }
   ],
   "source": [
    "l3=[1,2,3]+[3,4,5]\n",
    "print(l3)"
   ]
  },
  {
   "cell_type": "code",
   "execution_count": 11,
   "metadata": {},
   "outputs": [
    {
     "name": "stdout",
     "output_type": "stream",
     "text": [
      "0 check  \n",
      " \n",
      "1 check  \n",
      " \n",
      "2 check  \n",
      " \n",
      "3 check  \n",
      " \n",
      "4 check  \n",
      " \n",
      "5 check  \n",
      "*\n"
     ]
    }
   ],
   "source": [
    "r1=int(input())\n",
    "for i in range (0,r1+1):\n",
    "    print(i,'check',end=' ')\n",
    "    print(' ')\n",
    "    if i!=0  or  i!=1 or i!=r1:\n",
    "        if i==r1:\n",
    "            print('*')\n",
    "        elif i ==r1+1:\n",
    "            print('*')\n",
    "        else:\n",
    "            print(' ')\n",
    "    elif  i==0  or  i==1 or i==r1:\n",
    "        print('check2')\n",
    "        print(' '*(r1-i)+'*'*i)"
   ]
  },
  {
   "cell_type": "code",
   "execution_count": null,
   "metadata": {},
   "outputs": [],
   "source": [
    "zczczxcxczxcxzcczczxcxc      cccvvxvxzzvxfsdf ffes  f f sfsdf sd fsdfsad fsfsd sfsd sfs"
   ]
  }
 ],
 "metadata": {
  "kernelspec": {
   "display_name": "Python 3.10.4 64-bit",
   "language": "python",
   "name": "python3"
  },
  "language_info": {
   "codemirror_mode": {
    "name": "ipython",
    "version": 3
   },
   "file_extension": ".py",
   "mimetype": "text/x-python",
   "name": "python",
   "nbconvert_exporter": "python",
   "pygments_lexer": "ipython3",
   "version": "3.10.4"
  },
  "orig_nbformat": 4,
  "vscode": {
   "interpreter": {
    "hash": "b7299c1dbb38e985e3d1bc79bcd0468964fdcf53abee7d787a89c910fa60a91c"
   }
  }
 },
 "nbformat": 4,
 "nbformat_minor": 2
}
