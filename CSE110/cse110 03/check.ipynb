{
 "cells": [
  {
   "cell_type": "code",
   "execution_count": 8,
   "metadata": {},
   "outputs": [
    {
     "data": {
      "text/plain": [
       "-1"
      ]
     },
     "execution_count": 8,
     "metadata": {},
     "output_type": "execute_result"
    }
   ],
   "source": [
    "string1='jasonjava'\n",
    "string1.find(\"sn\")"
   ]
  },
  {
   "cell_type": "code",
   "execution_count": 15,
   "metadata": {},
   "outputs": [
    {
     "name": "stdout",
     "output_type": "stream",
     "text": [
      "[[1], [1, 1], [1, 2, 1], [1, 3, 3, 1], [1, 4, 6, 4, 1], [1, 5, 10, 10, 5, 1]]\n",
      "1 \n",
      "1 1 \n",
      "1 2 1 \n",
      "1 3 3 1 \n",
      "1 4 6 4 1 \n",
      "1 5 10 10 5 1 \n"
     ]
    }
   ],
   "source": [
    "#pascal traignle RIDHWAN KHAN\n",
    "row=(int(input()))\n",
    "list1=[]\n",
    "for i in range (row):\n",
    "    temp_list=[]\n",
    "    for j in range(i+1):\n",
    "        if j==0 or j==i:\n",
    "            temp_list.append(int(1))\n",
    "        else:\n",
    "            temp_list.append(list1[i-1][j-1]+list1[i-1][j])    #              1\n",
    "    list1.append(temp_list)                                            \n",
    "print(list1)\n",
    "\n",
    "for i in range (len(list1)):\n",
    "    la=list1[i]\n",
    "    for j in range(len(la)):\n",
    "        print(la[j],end=\" \")\n",
    "    print()\n"
   ]
  },
  {
   "cell_type": "code",
   "execution_count": 5,
   "metadata": {},
   "outputs": [
    {
     "name": "stdout",
     "output_type": "stream",
     "text": [
      "*****\n",
      "*   *\n",
      "*   *\n",
      "*   *\n",
      "*   *\n",
      "*****\n"
     ]
    }
   ],
   "source": [
    "n=int(input())\n",
    "for i in range(n+1):\n",
    "    # for j in range (6):\n",
    "    if i==0 or i==n:\n",
    "        print('*'*n,end=\"\")\n",
    "    \n",
    "    else:\n",
    "        print('*'+\" \"*(n-2)+'*',end=\"\")\n",
    "    print(\"\")\n",
    "    "
   ]
  }
 ],
 "metadata": {
  "kernelspec": {
   "display_name": "Python 3.10.4 64-bit",
   "language": "python",
   "name": "python3"
  },
  "language_info": {
   "codemirror_mode": {
    "name": "ipython",
    "version": 3
   },
   "file_extension": ".py",
   "mimetype": "text/x-python",
   "name": "python",
   "nbconvert_exporter": "python",
   "pygments_lexer": "ipython3",
   "version": "3.10.4"
  },
  "orig_nbformat": 4,
  "vscode": {
   "interpreter": {
    "hash": "b7299c1dbb38e985e3d1bc79bcd0468964fdcf53abee7d787a89c910fa60a91c"
   }
  }
 },
 "nbformat": 4,
 "nbformat_minor": 2
}
