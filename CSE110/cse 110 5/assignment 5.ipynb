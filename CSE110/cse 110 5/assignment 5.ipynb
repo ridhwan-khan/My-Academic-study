{
 "cells": [
  {
   "cell_type": "code",
   "execution_count": null,
   "metadata": {},
   "outputs": [
    {
     "name": "stdout",
     "output_type": "stream",
     "text": [
      "400\n"
     ]
    }
   ],
   "source": [
    "#01\n",
    "a_tuple = (\"The Institute\", (\"Best Mystery & Thriller\", \"The Silent Patient\", 68821), 75717, [1, 2, 3, 400, 5, 6, 7], (\"Best Fiction\", \"The Testaments\", 98291))\n",
    "print(a_tuple[3][3])"
   ]
  },
  {
   "cell_type": "code",
   "execution_count": null,
   "metadata": {},
   "outputs": [],
   "source": []
  },
  {
   "cell_type": "code",
   "execution_count": null,
   "metadata": {},
   "outputs": [
    {
     "name": "stdout",
     "output_type": "stream",
     "text": [
      "(2, 3, 4)\n"
     ]
    }
   ],
   "source": [
    "#02\n",
    "tuple1=(1,2,3,4,5,6)\n",
    "tuple1=tuple1[1:-2]\n",
    "print(tuple1)"
   ]
  },
  {
   "cell_type": "code",
   "execution_count": null,
   "metadata": {},
   "outputs": [
    {
     "name": "stdout",
     "output_type": "stream",
     "text": [
      "Size of the tuple is:  4\n",
      "('Best Mystery & Thriller', 'The Silent Patient', 68, 821)\n",
      "('Best Horror', 'The Institute', 75, 717)\n",
      "('Best History & Biography', 'The five', 31, 783)\n",
      "('Best Fiction', 'The Testaments', 98, 291)\n"
     ]
    }
   ],
   "source": [
    "#03\n",
    "book_info = ( (\"Best Mystery & Thriller\",\"The Silent Patient\",68,821), (\"Best Horror\",\"The Institute\",75,717), (\"Best History & Biography\",\"The five\",31,783 ), (\"Best Fiction\",\"The Testaments\",98,291) )\n",
    "print('Size of the tuple is: ',len(book_info))\n",
    "for tup in book_info:\n",
    "    print(tup)"
   ]
  },
  {
   "cell_type": "code",
   "execution_count": 30,
   "metadata": {},
   "outputs": [
    {
     "name": "stdout",
     "output_type": "stream",
     "text": [
      "The Silent Patient,won the,'Best Mystery & Thriller',category with,68821,votes\n",
      "The Institute,won the,'Best Horror',category with,75717,votes\n",
      "The five,won the,'Best History & Biography',category with,31783,votes\n",
      "The Testaments,won the,'Best Fiction',category with,98291,votes\n"
     ]
    }
   ],
   "source": [
    "#04\n",
    "book_info = ( (\"Best Mystery & Thriller\",\"The Silent Patient\",68821), (\"Best Horror\",\"The Institute\",75717), (\"Best History & Biography\",\"The five\",31783 ), (\"Best Fiction\",\"The Testaments\",98291) )\n",
    "#i1,i2,i3,i4=book_info \n",
    "#a,b,c=i1 \n",
    "for details in book_info:\n",
    "    a,b,c=details\n",
    "    # print(details[1],'won the',\"'\"+details[0]+\"'\",'category with',details[2],'votes')\n",
    "    # print('using format function')\n",
    "    # print(details)\n",
    "    print(\"{},won the,'{}',category with,{},votes\".format(b,a,c))\n",
    "    # print()\n",
    "    "
   ]
  },
  {
   "cell_type": "code",
   "execution_count": 1,
   "metadata": {},
   "outputs": [
    {
     "name": "stdout",
     "output_type": "stream",
     "text": [
      "2 appears 2 times in the tuple\n"
     ]
    }
   ],
   "source": [
    "#task 05\n",
    "Given_tuple=(10, 8, 5, 2, 10, 15, 10, 8, 5, 8, 8, 2)\n",
    "num=int(input('input a number to check'))\n",
    "num_count=0\n",
    "for number in Given_tuple:\n",
    "    if number==num:\n",
    "        num_count+=1\n",
    "print(num,'appears',num_count,'times in the tuple')\n"
   ]
  },
  {
   "cell_type": "code",
   "execution_count": 2,
   "metadata": {},
   "outputs": [
    {
     "name": "stdout",
     "output_type": "stream",
     "text": [
      "('h', 'g', 'f', 'e', 'd', 'c', 'b')\n"
     ]
    }
   ],
   "source": [
    "#task 06\n",
    "Given_tuple1=('a', 'b', 'c', 'd', 'e', 'f', 'g', 'h')\n",
    "temp_list=[]\n",
    "\n",
    "for elements in range(len(Given_tuple1)-1,0,-1):\n",
    "    temp_list.append(Given_tuple1[elements])\n",
    "\n",
    "Given_tuple1=tuple(temp_list) \n",
    "print(Given_tuple1)"
   ]
  },
  {
   "cell_type": "code",
   "execution_count": 3,
   "metadata": {},
   "outputs": [
    {
     "name": "stdout",
     "output_type": "stream",
     "text": [
      "('h', 'g', 'f', 'e', 'd', 'c', 'b', 'a')\n"
     ]
    }
   ],
   "source": [
    "Given_tuple1=('a', 'b', 'c', 'd', 'e', 'f', 'g', 'h')\n",
    "Given_tuple1=Given_tuple1[::-1]\n",
    "print(Given_tuple1)"
   ]
  },
  {
   "cell_type": "code",
   "execution_count": null,
   "metadata": {},
   "outputs": [
    {
     "name": "stdout",
     "output_type": "stream",
     "text": [
      "7\n",
      "6\n",
      "5\n",
      "4\n",
      "3\n",
      "2\n",
      "1\n"
     ]
    }
   ],
   "source": [
    "#test\n",
    "a=['a', 'b', 'c', 'd', 'e', 'f', 'g', 'h']\n",
    "for i in range(7,0,-1):\n",
    "    print(i)"
   ]
  },
  {
   "cell_type": "code",
   "execution_count": 19,
   "metadata": {},
   "outputs": [
    {
     "name": "stdout",
     "output_type": "stream",
     "text": [
      "{'Harry': 15, 'Draco': 8, 'Nevil': 19, 'Ginie': 18, 'Luna': 14}\n"
     ]
    }
   ],
   "source": [
    "#task 07\n",
    "d1= {'Harry':15, 'Draco':8, 'Nevil':19}\n",
    "d2= {'Ginie':18, 'Luna': 14}\n",
    "d3={}\n",
    "d3.update(d1)\n",
    "d3.update(d2)\n",
    "print(d3)\n",
    "\n"
   ]
  },
  {
   "cell_type": "code",
   "execution_count": null,
   "metadata": {},
   "outputs": [
    {
     "name": "stdout",
     "output_type": "stream",
     "text": [
      "<class 'int'>\n"
     ]
    }
   ],
   "source": [
    "# $tuple unpacking  check \n",
    "example_tup = (3, 2, 1)\n",
    "a, b, c = example_tup\n",
    "print(type(a))"
   ]
  },
  {
   "cell_type": "code",
   "execution_count": 2,
   "metadata": {},
   "outputs": [
    {
     "name": "stdout",
     "output_type": "stream",
     "text": [
      "[\"'ridhwan': 100\", \" 'sharmi': 200\", \" 'shawkat': 300\"]\n",
      "[\"'ridhwan'\", ' 100']\n",
      "key 'ridhwan'\n",
      "{'ridhwan': 100}\n",
      "[\" 'sharmi'\", ' 200']\n",
      "key 'sharmi'\n",
      "{'ridhwan': 100, 'sharmi': 200}\n",
      "[\" 'shawkat'\", ' 300']\n",
      "key 'shawkat'\n",
      "{'ridhwan': 100, 'sharmi': 200, 'shawkat': 300}\n",
      "600\n",
      "200\n"
     ]
    }
   ],
   "source": [
    "#task 08 on processing\n",
    "#{'Jon': 100, 'Dan':200, 'Rob':300} #input\n",
    "custom_dictionary={}\n",
    "dict_string=input('input dictionary')\n",
    "dict_string=dict_string.strip('{}').split(',') \n",
    "print(dict_string)\n",
    "sum=0\n",
    "#corner bracket eliminate kore split diye individual element banaisi list er \n",
    "key=''\n",
    "value=int()\n",
    "for k in dict_string:\n",
    "    # k=k.strip('\"')\n",
    "   \n",
    "    x=k.split(':') \n",
    "    print(x)\n",
    "    \n",
    "    key=x[0].strip()\n",
    "    print('key',key)\n",
    "   \n",
    "    value=int(x[1])\n",
    "    ##\n",
    "    custom_dictionary[key[1:-1]]=value\n",
    "    print(custom_dictionary)\n",
    "\n",
    "# print(custom_dictionary)\n",
    "count=0\n",
    "for num in custom_dictionary.values():\n",
    "    sum+=num\n",
    "    count+=1\n",
    "avrg=sum/count\n",
    "print(sum)\n",
    "print(int(avrg))"
   ]
  },
  {
   "cell_type": "code",
   "execution_count": 6,
   "metadata": {},
   "outputs": [
    {
     "name": "stdout",
     "output_type": "stream",
     "text": [
      "{'ridhwan': 100, 'sharmi': 200, 'shawkat': 300}\n",
      "Average: 200\n",
      "{'ridhwan': 100, 'sharmi': 200, 'shawkat': 300}\n"
     ]
    }
   ],
   "source": [
    "n=int((input('enter a value ')))\n",
    "d={}\n",
    "addition=0\n",
    "count=0\n",
    "for i in range(n):\n",
    "    data= input().split(\" \")\n",
    "    d[data[0]]=int(data[1])\n",
    "    addition+= int(data[1])\n",
    "    count+=1\n",
    "print(d)\n",
    "print(\"Average:\",int(addition/count))\n",
    "# print(d)"
   ]
  },
  {
   "cell_type": "code",
   "execution_count": 23,
   "metadata": {},
   "outputs": [
    {
     "name": "stdout",
     "output_type": "stream",
     "text": [
      "average 177\n"
     ]
    }
   ],
   "source": [
    "n=int(input('enter a value'))\n",
    "d={}\n",
    "addition=0\n",
    "\n",
    "for i in range(n):\n",
    "    keys=input()\n",
    "    values=int(input())\n",
    "    d[keys]=values\n",
    "    addition+=values\n",
    "print(\"average\",int(addition/n))"
   ]
  },
  {
   "cell_type": "code",
   "execution_count": 32,
   "metadata": {},
   "outputs": [
    {
     "name": "stdout",
     "output_type": "stream",
     "text": [
      "{'Alden Cantrell': 200, 'Pierre Cox': 190}\n"
     ]
    }
   ],
   "source": [
    "#task 09 \n",
    "exam_marks = {'Cierra Vega': 175, 'Alden Cantrell': 200, 'Kierra Gentry': 165, 'Pierre Cox': 190}\n",
    "num=int(input('new dictionary will be created with the values greater than this (inclusive'))\n",
    "new_dict={}\n",
    "for (key,number) in exam_marks.items():\n",
    "    if number>=num:\n",
    "        new_dict[key]=number\n",
    "    # print(key,number)\n",
    "print(new_dict)   \n"
   ]
  },
  {
   "cell_type": "code",
   "execution_count": 6,
   "metadata": {},
   "outputs": [
    {
     "name": "stdout",
     "output_type": "stream",
     "text": [
      "The highest selling book genre is 'mystery' and the number of books asold are 15\n"
     ]
    }
   ],
   "source": [
    "#task 10 check format method\n",
    "dict1={'sci fi': 12, 'mystery': 15, 'horror': 8, 'mythology': 10, 'young_adult': 4, 'adventure':14}\n",
    "max=0\n",
    "book=''\n",
    "\n",
    "for v in dict1:\n",
    "    if max<=dict1[v]:\n",
    "        max=dict1[v]\n",
    "        book=v\n",
    "# print(book)\n",
    "# print(max)\n",
    "print(\"The highest selling book genre is '{}' and the number of books sold are {}\".format(book,max))\n",
    "\n",
    "        \n",
    "    \n",
    "# print(dict1.items())"
   ]
  },
  {
   "cell_type": "code",
   "execution_count": 3,
   "metadata": {},
   "outputs": [
    {
     "name": "stdout",
     "output_type": "stream",
     "text": [
      "{'P': 2, 'y': 2, 't': 2, 'h': 2, 'o': 3, 'n': 4, 'p': 2, 'r': 3, 'g': 3, 'a': 2, 'm': 3, 'i': 3, 's': 2, 'f': 2, 'u': 2}\n"
     ]
    }
   ],
   "source": [
    "#task 11\n",
    "given=\"Python programming is fun\"\n",
    "d11={}\n",
    "for letters in given:\n",
    "    if letters!=' ':\n",
    "    \n",
    "        d11[letters]=d11.get(letters,1)+1\n",
    "print(d11)"
   ]
  },
  {
   "cell_type": "code",
   "execution_count": 5,
   "metadata": {},
   "outputs": [
    {
     "name": "stdout",
     "output_type": "stream",
     "text": [
      "{'p': 2, 'y': 1, 't': 1, 'h': 1, 'o': 2, 'n': 3, 'r': 2, 'g': 2, 'a': 1, 'm': 2, 'i': 2, 's': 1, 'f': 1, 'u': 1}\n"
     ]
    }
   ],
   "source": [
    "#task 11 (frequency means how many times that value exists)\n",
    "given=\"Python programming is fun\"\n",
    "d11={}\n",
    "for i in given.lower():\n",
    "    if i !=' ':\n",
    "        if i not in d11:\n",
    "            d11[i]=1\n",
    "        else:\n",
    "            d11[i]+=1\n",
    "print(d11)\n"
   ]
  },
  {
   "cell_type": "code",
   "execution_count": 44,
   "metadata": {},
   "outputs": [
    {
     "name": "stdout",
     "output_type": "stream",
     "text": [
      "9\n"
     ]
    }
   ],
   "source": [
    "#task 12\n",
    "dict_11 = {'A': [1, 2, 3], 'b': ['1', '2'], \"c\": [4, 5, 6, 7]}\n",
    "count=0\n",
    "for v in dict_11.values():\n",
    "    for v2 in v:\n",
    "        count+=1\n",
    "print(count)"
   ]
  },
  {
   "cell_type": "code",
   "execution_count": 8,
   "metadata": {},
   "outputs": [
    {
     "name": "stdout",
     "output_type": "stream",
     "text": [
      "{'a': [1, 3, 2], 'b': [2, 1], 'c': [1]}\n"
     ]
    }
   ],
   "source": [
    "#task13\n",
    "list_1 = [(\"a\", 1), (\"b\", 2), (\"a\", 3), (\"b\", 1), (\"a\", 2), (\"c\", 1)] \n",
    "converted_dict={}\n",
    "list_2=[]\n",
    "#make it as a dictionary\n",
    "# for i1 in list_1:\n",
    "    # print(i1)\n",
    "    # list_2.append(list(i1))\n",
    "for k in list_1:\n",
    "    if k[0] not in converted_dict:\n",
    "        converted_dict[k[0]]=[k[1]]\n",
    "    else:    \n",
    "        converted_dict[k[0]]+=[k[1]]\n",
    "print(converted_dict)\n",
    "# print(list_2)\n",
    "#there's a more efficient way to do this "
   ]
  },
  {
   "cell_type": "code",
   "execution_count": 2,
   "metadata": {},
   "outputs": [
    {
     "name": "stdout",
     "output_type": "stream",
     "text": [
      "['The', 'secret', 'of', 'getting', 'ahead', 'is', 'getting', 'started.', \"Let's\", 'get', 'started.']\n",
      "['The', 'secret', 'of', 'getting', 'ahead', 'is', 'getting', 'started', \"Let's\", 'get', 'started']\n",
      "{'+': ['The', 'ahead'], '*': ['secret', 'getting', 'is', 'getting'], '#': ['of', 'started', \"Let's\", 'started'], '=': ['get']}\n"
     ]
    }
   ],
   "source": [
    "#task20  \n",
    "given1=\"The secret of getting ahead is getting started. Let's get started. \"\n",
    "special_characters=['-','+','=','#','*','%']\n",
    "mod= given1.strip().split(' ')\n",
    "print(mod)\n",
    "for idx in range(len(mod)):\n",
    "    mod[idx] = mod[idx].strip('.')\n",
    "d20 ={}\n",
    "print(mod)\n",
    "\n",
    "\n",
    "\n",
    "\n",
    "for words in mod :\n",
    "    sum=0\n",
    "\n",
    "    for i in words:\n",
    "        sum+=ord(i)\n",
    "    ind_dict=sum%len(special_characters)\n",
    "    key = special_characters[ind_dict]\n",
    "    if key not in d20:\n",
    "        d20[key]=[words]\n",
    "    else:\n",
    "        d20[key] += [words]\n",
    "print(d20)\n",
    "    "
   ]
  },
  {
   "cell_type": "code",
   "execution_count": 1,
   "metadata": {},
   "outputs": [
    {
     "ename": "AttributeError",
     "evalue": "'list' object has no attribute 'strip'",
     "output_type": "error",
     "traceback": [
      "\u001b[1;31m---------------------------------------------------------------------------\u001b[0m",
      "\u001b[1;31mAttributeError\u001b[0m                            Traceback (most recent call last)",
      "\u001b[1;32md:\\WORK ASSIGNMENTS etc\\cse 110 5\\assignment 5.ipynb Cell 21\u001b[0m in \u001b[0;36m<cell line: 2>\u001b[1;34m()\u001b[0m\n\u001b[0;32m      <a href='vscode-notebook-cell:/d%3A/WORK%20ASSIGNMENTS%20etc/cse%20110%205/assignment%205.ipynb#X26sZmlsZQ%3D%3D?line=0'>1</a>\u001b[0m given11\u001b[39m=\u001b[39m\u001b[39m\"\u001b[39m\u001b[39mThe secret of getting ahead is getting started. Let\u001b[39m\u001b[39m'\u001b[39m\u001b[39ms get started. \u001b[39m\u001b[39m\"\u001b[39m\n\u001b[1;32m----> <a href='vscode-notebook-cell:/d%3A/WORK%20ASSIGNMENTS%20etc/cse%20110%205/assignment%205.ipynb#X26sZmlsZQ%3D%3D?line=1'>2</a>\u001b[0m mod\u001b[39m=\u001b[39m given11\u001b[39m.\u001b[39;49msplit(\u001b[39m'\u001b[39;49m\u001b[39m \u001b[39;49m\u001b[39m'\u001b[39;49m)\u001b[39m.\u001b[39;49mstrip()\n\u001b[0;32m      <a href='vscode-notebook-cell:/d%3A/WORK%20ASSIGNMENTS%20etc/cse%20110%205/assignment%205.ipynb#X26sZmlsZQ%3D%3D?line=2'>3</a>\u001b[0m \u001b[39mprint\u001b[39m(mod)\n",
      "\u001b[1;31mAttributeError\u001b[0m: 'list' object has no attribute 'strip'"
     ]
    }
   ],
   "source": [
    "given11=\"The secret of getting ahead is getting started. Let's get started. \"\n",
    "mod= given11.split(' ').strip()\n",
    "print(mod)"
   ]
  },
  {
   "cell_type": "code",
   "execution_count": 3,
   "metadata": {},
   "outputs": [
    {
     "name": "stdout",
     "output_type": "stream",
     "text": [
      "['fgh', 'abcd', 'ijkl']\n"
     ]
    }
   ],
   "source": [
    "a=['abcd','ijkl','fgh']\n",
    "a.sort(key=len)\n",
    "print(a)"
   ]
  },
  {
   "cell_type": "code",
   "execution_count": 12,
   "metadata": {},
   "outputs": [
    {
     "name": "stdout",
     "output_type": "stream",
     "text": [
      "ridhwan\n"
     ]
    }
   ],
   "source": [
    "s='if az'\n",
    "for i in range(1,len(s),-2):\n",
    "    print(i)\n",
    "print('ridhwan')"
   ]
  },
  {
   "cell_type": "code",
   "execution_count": null,
   "metadata": {},
   "outputs": [],
   "source": []
  }
 ],
 "metadata": {
  "kernelspec": {
   "display_name": "Python 3.10.8 64-bit (microsoft store)",
   "language": "python",
   "name": "python3"
  },
  "language_info": {
   "codemirror_mode": {
    "name": "ipython",
    "version": 3
   },
   "file_extension": ".py",
   "mimetype": "text/x-python",
   "name": "python",
   "nbconvert_exporter": "python",
   "pygments_lexer": "ipython3",
   "version": "3.10.8"
  },
  "orig_nbformat": 4,
  "vscode": {
   "interpreter": {
    "hash": "6cc679d7446db4fa14803821519a5548df9198ce215b6848aba08f68267a5b7d"
   }
  }
 },
 "nbformat": 4,
 "nbformat_minor": 2
}
