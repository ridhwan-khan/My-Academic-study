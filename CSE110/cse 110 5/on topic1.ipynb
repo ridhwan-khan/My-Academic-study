{
 "cells": [
  {
   "cell_type": "code",
   "execution_count": 2,
   "metadata": {},
   "outputs": [
    {
     "name": "stdout",
     "output_type": "stream",
     "text": [
      "Hello,Ridhwan !\n"
     ]
    },
    {
     "ename": "TypeError",
     "evalue": "greet_user() takes 1 positional argument but 2 were given",
     "output_type": "error",
     "traceback": [
      "\u001b[1;31m---------------------------------------------------------------------------\u001b[0m",
      "\u001b[1;31mTypeError\u001b[0m                                 Traceback (most recent call last)",
      "\u001b[1;32mUntitled-1.ipynb Cell 1\u001b[0m in \u001b[0;36m<module>\u001b[1;34m\u001b[0m\n\u001b[0;32m      <a href='vscode-notebook-cell:Untitled-1.ipynb?jupyter-notebook#W0sdW50aXRsZWQ%3D?line=2'>3</a>\u001b[0m     \u001b[39mprint\u001b[39m(\u001b[39mf\u001b[39m\u001b[39m'\u001b[39m\u001b[39mHello,\u001b[39m\u001b[39m{\u001b[39;00musername\u001b[39m.\u001b[39mtitle()\u001b[39m}\u001b[39;00m\u001b[39m !\u001b[39m\u001b[39m'\u001b[39m)\n\u001b[0;32m      <a href='vscode-notebook-cell:Untitled-1.ipynb?jupyter-notebook#W0sdW50aXRsZWQ%3D?line=3'>4</a>\u001b[0m greet_user(\u001b[39m'\u001b[39m\u001b[39mridhwan\u001b[39m\u001b[39m'\u001b[39m)\n\u001b[1;32m----> <a href='vscode-notebook-cell:Untitled-1.ipynb?jupyter-notebook#W0sdW50aXRsZWQ%3D?line=5'>6</a>\u001b[0m greet_user(\u001b[39m'\u001b[39;49m\u001b[39mridhwan\u001b[39;49m\u001b[39m'\u001b[39;49m,\u001b[39m'\u001b[39;49m\u001b[39m rahman khan\u001b[39;49m\u001b[39m'\u001b[39;49m)\n",
      "\u001b[1;31mTypeError\u001b[0m: greet_user() takes 1 positional argument but 2 were given"
     ]
    }
   ],
   "source": [
    "def greet_user(username):\n",
    "    \"\"\"Display  a simple greeting.\"\"\"\n",
    "    print(f'Hello,{username.title()} !')\n",
    "greet_user('ridhwan')\n",
    "\n",
    "greet_user('ridhwan',' rahman khan')"
   ]
  },
  {
   "cell_type": "code",
   "execution_count": 3,
   "metadata": {},
   "outputs": [
    {
     "name": "stdout",
     "output_type": "stream",
     "text": [
      "\n",
      "I have a cat\n",
      "My cat's name is Tom.\n"
     ]
    }
   ],
   "source": [
    "def describe_pet(pet_name,animal_type):\n",
    "    #'''Display information about a pe.'''\n",
    "    print(f'\\nI have a {animal_type}')\n",
    "    print(f\"My {animal_type}'s name is {pet_name.title()}.\")\n",
    "\n",
    "describe_pet (animal_type='cat', pet_name='TOM')"
   ]
  },
  {
   "cell_type": "code",
   "execution_count": 6,
   "metadata": {},
   "outputs": [
    {
     "name": "stdout",
     "output_type": "stream",
     "text": [
      "\n",
      "I have a cat\n",
      "My cat's name is Tom.\n"
     ]
    }
   ],
   "source": [
    "def describe_pet(pet_name,animal_type):\n",
    "    #'''Display information about a pe.'''\n",
    "    print(f'\\nI have a {animal_type}')\n",
    "    print(f\"My {animal_type}'s name is {pet_name.title()}.\")\n",
    "\n",
    "describe_pet ('tom','cat')"
   ]
  },
  {
   "cell_type": "code",
   "execution_count": 13,
   "metadata": {},
   "outputs": [
    {
     "name": "stdout",
     "output_type": "stream",
     "text": [
      "shawkat None manus\n",
      "ridhwan 16 homo sapience\n",
      "ridhwan 42 homo sapience\n"
     ]
    }
   ],
   "source": [
    "def default (name='ridhwan',age=16,type1='homo sapience'):\n",
    "    print(name,age,type1)\n",
    "default('shawkat',None,'manus')\n",
    "default()\n",
    "default(age=42)"
   ]
  },
  {
   "cell_type": "code",
   "execution_count": 16,
   "metadata": {},
   "outputs": [
    {
     "name": "stdout",
     "output_type": "stream",
     "text": [
      "ghas 16 homo sapience\n"
     ]
    }
   ],
   "source": [
    "def default1 (name,age=16,type1='homo sapience'):\n",
    "    print(name,age,type1)\n",
    "default1('ghas')"
   ]
  },
  {
   "cell_type": "code",
   "execution_count": 20,
   "metadata": {},
   "outputs": [
    {
     "ename": "SyntaxError",
     "evalue": "non-default argument follows default argument (<ipython-input-20-bae3b536340c>, line 1)",
     "output_type": "error",
     "traceback": [
      "\u001b[1;36m  Input \u001b[1;32mIn [20]\u001b[1;36m\u001b[0m\n\u001b[1;33m    def default2 (name='ridhwan',age=16,type1):\u001b[0m\n\u001b[1;37m                  ^\u001b[0m\n\u001b[1;31mSyntaxError\u001b[0m\u001b[1;31m:\u001b[0m non-default argument follows default argument\n"
     ]
    }
   ],
   "source": [
    "def default2 (name='ridhwan',age=16,type1):\n",
    "    print(name,age,type1)\n",
    "default2(type1='ridhwan')\n",
    "default()"
   ]
  },
  {
   "cell_type": "code",
   "execution_count": 3,
   "metadata": {},
   "outputs": [
    {
     "name": "stdout",
     "output_type": "stream",
     "text": [
      "97\n",
      "122\n",
      "49\n",
      "57\n"
     ]
    },
    {
     "data": {
      "text/plain": [
       "True"
      ]
     },
     "execution_count": 3,
     "metadata": {},
     "output_type": "execute_result"
    }
   ],
   "source": [
    "a=4\n",
    "# ord('1')<=a<=ord('9')\n",
    "print(ord('a'))\n",
    "print(ord('z'))\n",
    "print(ord('1'))\n",
    "print(ord('9'))\n",
    "49<= ord('2')<=57"
   ]
  },
  {
   "cell_type": "code",
   "execution_count": 23,
   "metadata": {},
   "outputs": [
    {
     "name": "stdout",
     "output_type": "stream",
     "text": [
      "r\n",
      "i\n",
      "d\n",
      "j\n",
      "w\n",
      "a\n"
     ]
    }
   ],
   "source": [
    "a='ridjwa'\n",
    "for i in range(len(a)):\n",
    "    print(a[i])"
   ]
  },
  {
   "cell_type": "code",
   "execution_count": 5,
   "metadata": {},
   "outputs": [
    {
     "name": "stdout",
     "output_type": "stream",
     "text": [
      "SRBD\n"
     ]
    }
   ],
   "source": [
    "#Ridhwan khan -- 16.08  22 -- SRBD contest or something er problem BRACU GC\n",
    "encrypted_message='haLum Sorry AlMsunG vugi chugi jinis  '\n",
    "encrypted ='samsung'\n",
    "message=''\n",
    "for i in encrypted_message.lower():\n",
    "    if 97<=ord(i)<=122:\n",
    "        if i in encrypted:\n",
    "            message+=i\n",
    "# encrypted: #s a m s u n g\n",
    "# message: #a u m s a m s u n g\n",
    "if encrypted in message:\n",
    "    print('SRBD')   \n",
    "else:\n",
    "    print('GHOST')     \n",
    "# print(message)        \n",
    "     "
   ]
  },
  {
   "cell_type": "code",
   "execution_count": 17,
   "metadata": {},
   "outputs": [
    {
     "name": "stdout",
     "output_type": "stream",
     "text": [
      "{'first': 'RIDHWAN', 'last': 'khan', 'age': 27}\n",
      "{'first': 'RIDHWAN', 'last': 'khan'}\n",
      "{'first': 'RIDHWAN', 'last': 'khan'}\n"
     ]
    }
   ],
   "source": [
    "def build_person(first_name,last_name,age=None):\n",
    "    '''Return a dictionary of information about a person'''\n",
    "    person= {'first':first_name,'last':last_name}\n",
    "    if age:\n",
    "        person['age']=age\n",
    "    return person\n",
    "\n",
    "musician= build_person('RIDHWAN','khan',27)\n",
    "musician2= build_person('RIDHWAN','khan')\n",
    "musician3= build_person('RIDHWAN','khan',)\n",
    "print(musician)\n",
    "print(musician2)\n",
    "print(musician3)"
   ]
  },
  {
   "cell_type": "code",
   "execution_count": 6,
   "metadata": {},
   "outputs": [
    {
     "name": "stdout",
     "output_type": "stream",
     "text": [
      "{'Year': '2007', 'Area': 'Texas', 'Registration fee': 116850}\n",
      "{'Year': '2098', 'Area': 'California', 'Registration fee': 116850}\n",
      "{'Year': '2014', 'Area': 'Arizona', 'Registration fee': 94050}\n",
      "{'Year': '2000', 'Area': 'Arizona', 'Registration fee': 0}\n"
     ]
    }
   ],
   "source": [
    "'''CSE SECTION 4 QUIZ AFTER MID  '''\n",
    "cars=('TX07123','CL98123','AR14099','AR000000')\n",
    "result={'Year':'','Area':'','Registration fee':''}\n",
    "for i in range(len(cars)):\n",
    "    year=''\n",
    "    reg_fee=0\n",
    "    # print(cars[i][:2])  \n",
    "    if cars[i][:2]=='TX':\n",
    "        result['Area']='Texas'\n",
    "    elif cars[i][:2]=='AR':\n",
    "        result['Area']='Arizona'\n",
    "    else:    #ridhwan khan\n",
    "        result['Area']='California'\n",
    "    year='20'+cars[i][2:4] \n",
    "    result['Year']=year \n",
    "    reg_fee=  int(cars[i][4:] )*950\n",
    "    result['Registration fee']=reg_fee\n",
    "    print(result)"
   ]
  },
  {
   "cell_type": "code",
   "execution_count": 3,
   "metadata": {},
   "outputs": [
    {
     "ename": "TypeError",
     "evalue": "'NoneType' object is not iterable",
     "output_type": "error",
     "traceback": [
      "\u001b[1;31m---------------------------------------------------------------------------\u001b[0m",
      "\u001b[1;31mTypeError\u001b[0m                                 Traceback (most recent call last)",
      "\u001b[1;32m~\\AppData\\Local\\Temp/ipykernel_22348/4070183733.py\u001b[0m in \u001b[0;36m<module>\u001b[1;34m\u001b[0m\n\u001b[0;32m      7\u001b[0m     \u001b[1;32mif\u001b[0m \u001b[1;32mTrue\u001b[0m \u001b[1;32min\u001b[0m \u001b[0mi\u001b[0m\u001b[1;33m:\u001b[0m\u001b[1;33m\u001b[0m\u001b[1;33m\u001b[0m\u001b[0m\n\u001b[0;32m      8\u001b[0m         \u001b[0mj\u001b[0m\u001b[1;33m=\u001b[0m\u001b[0mlist\u001b[0m\u001b[1;33m(\u001b[0m\u001b[0mi\u001b[0m\u001b[1;33m)\u001b[0m\u001b[1;33m.\u001b[0m\u001b[0mremove\u001b[0m\u001b[1;33m(\u001b[0m\u001b[1;32mTrue\u001b[0m\u001b[1;33m)\u001b[0m\u001b[1;33m\u001b[0m\u001b[1;33m\u001b[0m\u001b[0m\n\u001b[1;32m----> 9\u001b[1;33m         \u001b[0mresult1\u001b[0m\u001b[1;33m+=\u001b[0m\u001b[1;33m[\u001b[0m\u001b[0mlist\u001b[0m\u001b[1;33m(\u001b[0m\u001b[0mj\u001b[0m\u001b[1;33m)\u001b[0m\u001b[1;33m]\u001b[0m\u001b[1;33m\u001b[0m\u001b[1;33m\u001b[0m\u001b[0m\n\u001b[0m\u001b[0;32m     10\u001b[0m     \u001b[1;32melse\u001b[0m\u001b[1;33m:\u001b[0m\u001b[1;33m\u001b[0m\u001b[1;33m\u001b[0m\u001b[0m\n\u001b[0;32m     11\u001b[0m         \u001b[0mj\u001b[0m\u001b[1;33m=\u001b[0m\u001b[0mlist\u001b[0m\u001b[1;33m(\u001b[0m\u001b[0mi\u001b[0m\u001b[1;33m)\u001b[0m\u001b[1;33m.\u001b[0m\u001b[0mremove\u001b[0m\u001b[1;33m(\u001b[0m\u001b[1;32mFalse\u001b[0m\u001b[1;33m)\u001b[0m\u001b[1;33m\u001b[0m\u001b[1;33m\u001b[0m\u001b[0m\n",
      "\u001b[1;31mTypeError\u001b[0m: 'NoneType' object is not iterable"
     ]
    }
   ],
   "source": [
    "##other section cse quiz after mid \n",
    "given=(('Rafi',12321,True),(22301143,'Ridhwan',True),(False,'Amira tanjum',223045495),('Disha',False,232399))\n",
    "result1=[]\n",
    "result2=[]\n",
    "for i in given:\n",
    "    \n",
    "    # print(i)\n",
    "    if True in i:\n",
    "        j=list(i).remove(True)\n",
    "        result1+=[list(j)]\n",
    "    else:\n",
    "        j=list(i).remove(False)\n",
    "        result2+=[list(j)]\n",
    "print(result1)\n",
    "print(result2)\n",
    "\n",
    "# dict={'student name':'','Non students':''}\n",
    "# for k in range(len(result1)):\n",
    "#     for r in result1[k]:   \n",
    "#         if type(r)==bool:\n",
    "#             result1[k].remove(r)\n",
    "        \n",
    "#             print(result1[k])\n",
    "# print(result1)"
   ]
  },
  {
   "cell_type": "code",
   "execution_count": 3,
   "metadata": {},
   "outputs": [
    {
     "name": "stdout",
     "output_type": "stream",
     "text": [
      "{'student': (('Rafi', 12321), ('Ridhwan', 22301143)), 'Non student': (('Amira tanjum', 223045495), ('Disha', 232399))}\n"
     ]
    }
   ],
   "source": [
    "\n",
    "given=(('Rafi',12321,True),(22301143,'Ridhwan',True),(False,'Amira tanjum',223045495),('Disha',False,232399))\n",
    "result1=[]\n",
    "result2=[]\n",
    "for i in given:\n",
    "    # k=[]\n",
    "    for j in i:\n",
    "        k=[]\n",
    "        if j == True:\n",
    "            k=list(i)\n",
    "            k.remove(j)\n",
    "            if type(k[0])==int:\n",
    "                k[0],k[1]=k[1],k[0]\n",
    "                result1.append(tuple(k))\n",
    "            else:\n",
    "                result1.append(tuple((k)))                \n",
    "        elif j== False:\n",
    "            k=list(i)\n",
    "            k.remove(j)\n",
    "            if type(k[0])==int:\n",
    "                k[0],k[1]=k[1],k[0]\n",
    "            result2.append(tuple(k))   \n",
    "result1=tuple(result1)\n",
    "result2=tuple(result2)  \n",
    "\n",
    "dict_result={} \n",
    "dict_result['student']=result1\n",
    "dict_result['Non student']=result2\n",
    "print(dict_result)"
   ]
  },
  {
   "cell_type": "code",
   "execution_count": 1,
   "metadata": {},
   "outputs": [
    {
     "name": "stdout",
     "output_type": "stream",
     "text": [
      "[1, 2, 3]\n"
     ]
    }
   ],
   "source": [
    "k=[1,2,3]\n",
    "l=(1,2,3)\n",
    "# k+=l\n",
    "j=[]\n",
    "j+=tuple(k)\n",
    "print(j)"
   ]
  }
 ],
 "metadata": {
  "kernelspec": {
   "display_name": "Python 3.9.7 ('base')",
   "language": "python",
   "name": "python3"
  },
  "language_info": {
   "codemirror_mode": {
    "name": "ipython",
    "version": 3
   },
   "file_extension": ".py",
   "mimetype": "text/x-python",
   "name": "python",
   "nbconvert_exporter": "python",
   "pygments_lexer": "ipython3",
   "version": "3.9.7"
  },
  "orig_nbformat": 4,
  "vscode": {
   "interpreter": {
    "hash": "25d2fdca2609e94d9870819ebc84215797e81d9ba6db6f31b2b9677e97c0badd"
   }
  }
 },
 "nbformat": 4,
 "nbformat_minor": 2
}
