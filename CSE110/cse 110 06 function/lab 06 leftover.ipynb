{
 "cells": [
  {
   "cell_type": "markdown",
   "metadata": {},
   "source": [
    "22301143 Ridhwan khan section 04"
   ]
  },
  {
   "cell_type": "code",
   "execution_count": 1,
   "metadata": {},
   "outputs": [
    {
     "name": "stdout",
     "output_type": "stream",
     "text": [
      "11 years, 10 months, 15 days\n"
     ]
    }
   ],
   "source": [
    "#task 06\n",
    "days=int(input('enter the number of days'))\n",
    "def calculator(days):\n",
    "    year= days//365\n",
    "    rem_days1=days%365\n",
    "    month=rem_days1//30\n",
    "    rem_days= rem_days1-(month*30)\n",
    "    print(f'{year} years, {month} months, {rem_days} days')\n",
    "calculator(days)"
   ]
  },
  {
   "cell_type": "code",
   "execution_count": 13,
   "metadata": {},
   "outputs": [
    {
     "name": "stdout",
     "output_type": "stream",
     "text": [
      "123454321"
     ]
    }
   ],
   "source": [
    "#task07\n",
    "def show_palindrome(number):\n",
    "    count=1\n",
    "    for i in range (1,number*2):\n",
    "        if i <=number: \n",
    "            print(i,end='')\n",
    "        else:\n",
    "            \n",
    "            print(number-count,end='' )\n",
    "            count+=1 \n",
    "number=int(input('ENTER A NUMBER FOR PALINDROME: '))\n",
    "show_palindrome(number) \n"
   ]
  },
  {
   "cell_type": "code",
   "execution_count": 21,
   "metadata": {},
   "outputs": [
    {
     "name": "stdout",
     "output_type": "stream",
     "text": [
      "1\n",
      "121\n",
      "12321\n",
      "1234321\n",
      "123454321\n"
     ]
    }
   ],
   "source": [
    "#task 08 confusion here ....Am i supposed to change the previous function \n",
    "def show_plindromic_triangle(number):\n",
    "    for i in range(1,number+1):\n",
    "        show_palindrome(i)\n",
    "        print()\n",
    "       \n",
    "num= int(input('enter your palindromic triangle row number : '))\n",
    "show_plindromic_triangle(num)"
   ]
  },
  {
   "cell_type": "code",
   "execution_count": 30,
   "metadata": {},
   "outputs": [
    {
     "name": "stdout",
     "output_type": "stream",
     "text": [
      "        1 \n",
      "      1 2 1 \n",
      "    1 2 3 2 1 \n",
      "  1 2 3 4 3 2 1 \n",
      "1 2 3 4 5 4 3 2 1 \n"
     ]
    }
   ],
   "source": [
    "#task 08 different approach editing the show palindrome \n",
    "def show_palindrome(number):\n",
    "    count=1\n",
    "    for i in range (1,number*2):\n",
    "        if i <=number: \n",
    "            print(i,end=' ')\n",
    "        \n",
    "        else:\n",
    "            print(number-count,end=' ' )\n",
    "            count+=1 \n",
    "\n",
    "def show_plindromic_triangle(number):\n",
    "    for i in range(1,number+1):\n",
    "        print('  '*(number-i),end='')\n",
    "        show_palindrome(i)\n",
    "        print()\n",
    "       \n",
    "num= int(input('enter your palindromic triangle row number : '))\n",
    "show_plindromic_triangle(num)\n"
   ]
  },
  {
   "cell_type": "code",
   "execution_count": 39,
   "metadata": {},
   "outputs": [
    {
     "name": "stdout",
     "output_type": "stream",
     "text": [
      "(3.141592653589793, 6.283185307179586)\n",
      "The Area of the circle is 3.141592653589793 and the circumferance is 6.283185307179586\n"
     ]
    }
   ],
   "source": [
    "#task 09 \n",
    "from math import  pi \n",
    "def  area_circumference_generator(radius):\n",
    "    # list_1=[]\n",
    "    \n",
    "    area=radius**2*(pi)\n",
    "    circumferance= 2*pi*radius\n",
    "    # list_1.extend([area,circumferance])\n",
    "    return area,circumferance\n",
    "radius= int(input('enter the value of radius'))\n",
    "a,c= area_circumference_generator(radius)    \n",
    "print(area_circumference_generator(radius))\n",
    "print(f'The Area of the circle is {a} and the circumferance is {c}')"
   ]
  },
  {
   "cell_type": "code",
   "execution_count": 57,
   "metadata": {},
   "outputs": [
    {
     "name": "stdout",
     "output_type": "stream",
     "text": [
      "{1: 1, 2: 4, 3: 9}\n"
     ]
    }
   ],
   "source": [
    "#task 10\n",
    "def make_square (tup):\n",
    "    dict_make_square={}\n",
    "    start,end=tup\n",
    "    for i in range (start,end+1):\n",
    "        dict_make_square[i]=i**2\n",
    "    return dict_make_square\n",
    "value=(input('enter values with spaces ')).split()\n",
    "func_val=tuple(int(val) for val in value)\n",
    "store=make_square(func_val)\n",
    "print(store)\n",
    "# print(func_val)"
   ]
  },
  {
   "cell_type": "code",
   "execution_count": 49,
   "metadata": {},
   "outputs": [
    {
     "name": "stdout",
     "output_type": "stream",
     "text": [
      "('1', '2', '3')\n"
     ]
    }
   ],
   "source": [
    "# a=tuple(input())\n",
    "# print(a)\n",
    "# print(type(a))\n",
    "value=tuple((input('input your tuple')))\n",
    "print(value)"
   ]
  },
  {
   "cell_type": "code",
   "execution_count": 1,
   "metadata": {},
   "outputs": [
    {
     "name": "stdout",
     "output_type": "stream",
     "text": [
      "Removed 2\n"
     ]
    },
    {
     "data": {
      "text/plain": [
       "[1, 2, 3, 3, 4, 5, 8, 8]"
      ]
     },
     "execution_count": 1,
     "metadata": {},
     "output_type": "execute_result"
    }
   ],
   "source": [
    "def function_name(list1):\n",
    "    list2=[]\n",
    "    for x in list1:\n",
    "        if x not in list2:\n",
    "            list2.append(x)\n",
    "        elif x in list2 and list2.count(x)<2:\n",
    "            list2.append(x)\n",
    "    removed=len(list1)-len(list2)\n",
    "    print('Removed',removed)\n",
    "    return list2\n",
    "\n",
    "function_name([1, 2, 3, 3, 3, 3, 4, 5, 8, 8])"
   ]
  },
  {
   "cell_type": "code",
   "execution_count": 1,
   "metadata": {},
   "outputs": [
    {
     "name": "stdout",
     "output_type": "stream",
     "text": [
      "4\n"
     ]
    }
   ],
   "source": [
    "a=[1, 2, 3, 3, 3, 3, 4, 5, 8, 8]\n",
    "print(a.count(3))\n"
   ]
  },
  {
   "cell_type": "code",
   "execution_count": 21,
   "metadata": {},
   "outputs": [
    {
     "name": "stdout",
     "output_type": "stream",
     "text": [
      "750\n"
     ]
    }
   ],
   "source": [
    "#task 15 \n",
    "def calculate_grocery(grocery_list,location='Dhanmondi'):\n",
    "    grocery={\"Rice\":105,\"Potato\":20,\"Chicken\": 250,\"Beef\": 510,\"Oil\":85}\n",
    "    \n",
    "    sum=0\n",
    "    for i in grocery_list:\n",
    "        sum+=grocery[i]\n",
    "    if location=='Dhanmondi':\n",
    "        sum+=30\n",
    "    else:\n",
    "        sum+=70\n",
    "    return sum    \n",
    "grocery_list=input('list of your grocery: ').split(', ')\n",
    "location=input('location: ')\n",
    "print(calculate_grocery(grocery_list,location))\n",
    "\n",
    "    \n",
    "     \n",
    "     \n",
    "     "
   ]
  },
  {
   "cell_type": "code",
   "execution_count": 13,
   "metadata": {},
   "outputs": [
    {
     "name": "stdout",
     "output_type": "stream",
     "text": [
      "['rice', 'ridhwan', 'khan']\n"
     ]
    }
   ],
   "source": [
    "\n",
    "grocery_list=input('list of your grocery: ').split(', ')\n",
    "print(grocery_list)"
   ]
  },
  {
   "cell_type": "code",
   "execution_count": 1,
   "metadata": {},
   "outputs": [
    {
     "name": "stdout",
     "output_type": "stream",
     "text": [
      "h\n",
      "e\n",
      "l\n",
      "l\n",
      "o\n"
     ]
    }
   ],
   "source": [
    "a='hello'\n",
    "for i in a:\n",
    "    print(i)"
   ]
  },
  {
   "cell_type": "code",
   "execution_count": 4,
   "metadata": {},
   "outputs": [
    {
     "name": "stdout",
     "output_type": "stream",
     "text": [
      "10.2\n"
     ]
    }
   ],
   "source": [
    "a=5.1\n",
    "b=2\n",
    "c=a*b\n",
    "print(c)"
   ]
  },
  {
   "cell_type": "code",
   "execution_count": 2,
   "metadata": {},
   "outputs": [
    {
     "data": {
      "text/plain": [
       "0.25"
      ]
     },
     "execution_count": 2,
     "metadata": {},
     "output_type": "execute_result"
    }
   ],
   "source": [
    "10%3.25\n"
   ]
  }
 ],
 "metadata": {
  "kernelspec": {
   "display_name": "Python 3.10.4 64-bit",
   "language": "python",
   "name": "python3"
  },
  "language_info": {
   "codemirror_mode": {
    "name": "ipython",
    "version": 3
   },
   "file_extension": ".py",
   "mimetype": "text/x-python",
   "name": "python",
   "nbconvert_exporter": "python",
   "pygments_lexer": "ipython3",
   "version": "3.10.4"
  },
  "orig_nbformat": 4,
  "vscode": {
   "interpreter": {
    "hash": "b7299c1dbb38e985e3d1bc79bcd0468964fdcf53abee7d787a89c910fa60a91c"
   }
  }
 },
 "nbformat": 4,
 "nbformat_minor": 2
}
