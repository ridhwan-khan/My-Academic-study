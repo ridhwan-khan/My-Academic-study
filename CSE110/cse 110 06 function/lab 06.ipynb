{
 "cells": [
  {
   "cell_type": "code",
   "execution_count": 3,
   "metadata": {},
   "outputs": [
    {
     "name": "stdout",
     "output_type": "stream",
     "text": [
      "Odd\n"
     ]
    }
   ],
   "source": [
    "#task 01 \n",
    "def even_checker(number): \n",
    "    if number%2==0:\n",
    "        print('Even')\n",
    "    else:\n",
    "        print('Odd')\n",
    "n=int(input('check if the number is even  or odd'))\n",
    "even_checker(n)"
   ]
  },
  {
   "cell_type": "code",
   "execution_count": 2,
   "metadata": {},
   "outputs": [
    {
     "name": "stdout",
     "output_type": "stream",
     "text": [
      "0 1 "
     ]
    }
   ],
   "source": [
    "#task02 \n",
    "def fibonacci( limit ):\n",
    "    n1=0\n",
    "    n2=1\n",
    "    if limit==1:\n",
    "        print(n1,end=' ') \n",
    "    else:\n",
    "        print(n1,n2,end=' ')\n",
    "    for i in range(2,limit):\n",
    "        c=n1+n2 \n",
    "        n1=n2 \n",
    "        n2=c   #without c the formation is not going right\n",
    "        # n2=n1+n2 #1+1 =2\n",
    "        if c<=limit:\n",
    "            print(c,end=' ')\n",
    "        else:\n",
    "            break\n",
    "lim=int(input('fibonacci limit'))\n",
    "fibonacci(lim)\n",
    "        \n",
    "        "
   ]
  },
  {
   "cell_type": "code",
   "execution_count": 27,
   "metadata": {},
   "outputs": [
    {
     "name": "stdout",
     "output_type": "stream",
     "text": [
      "<class 'str'>\n",
      "Ridhwan ,KHAN , {'age': '21', 'Unversity': 'BRACU'}\n"
     ]
    }
   ],
   "source": [
    "#BOOK\n",
    "def build_profile(first,last,**user_info):\n",
    "    '''build a dictionary containing everything we know about a user''' \n",
    "    # return first,last,user_info\n",
    "    return f\"{first} ,{last} , {user_info}\"\n",
    "a=build_profile('Ridhwan','KHAN',age='21',Unversity='BRACU')\n",
    "print(type(a))\n",
    "print(a)"
   ]
  },
  {
   "cell_type": "code",
   "execution_count": 16,
   "metadata": {},
   "outputs": [
    {
     "name": "stdout",
     "output_type": "stream",
     "text": [
      "Ridhwan KHAN {'age': '21', 'Unversity': 'BRACU'}\n"
     ]
    }
   ],
   "source": [
    "#BOOK\n",
    "def build_profile(first,last,**user_info):\n",
    "    '''build a dictionary containing everything we know about a user''' \n",
    "    print( first,last,user_info)\n",
    "a=build_profile('Ridhwan','KHAN',age='21',Unversity='BRACU')\n"
   ]
  },
  {
   "cell_type": "code",
   "execution_count": 18,
   "metadata": {},
   "outputs": [
    {
     "name": "stdout",
     "output_type": "stream",
     "text": [
      "{'age': '21', 'Unversity': 'BRACU', 'first_name': 'Ridhwan', 'last_name': 'KHAN'}\n"
     ]
    }
   ],
   "source": [
    "#BOOK\n",
    "def build_profile(first,last,**user_info):\n",
    "    '''build a dictionary containing everything we know about a user''' \n",
    "    user_info['first_name']=first\n",
    "    user_info['last_name']=last\n",
    "    return user_info\n",
    "a=build_profile('Ridhwan','KHAN',age='21',Unversity='BRACU')\n",
    "print(a)"
   ]
  },
  {
   "cell_type": "code",
   "execution_count": 37,
   "metadata": {},
   "outputs": [
    {
     "name": "stdout",
     "output_type": "stream",
     "text": [
      "FooMoo\n"
     ]
    }
   ],
   "source": [
    "#task 03\n",
    "def foo_moo (number):\n",
    "    if number %2==0 and number %3==0 :\n",
    "        return \"FooMoo\"\n",
    "    elif number %2==0:\n",
    "        return \"FOO\"\n",
    "    elif number%3==0:\n",
    "        return \"Moo\"\n",
    "    else:\n",
    "        return \"Boo\"\n",
    "    \n",
    "result3=foo_moo(int(input('enter a number')))\n",
    "print(result3)"
   ]
  },
  {
   "cell_type": "code",
   "execution_count": 52,
   "metadata": {},
   "outputs": [
    {
     "name": "stdout",
     "output_type": "stream",
     "text": [
      "No. of uppercase characters : 5\n",
      "No. of lowercase characters : 6\n"
     ]
    }
   ],
   "source": [
    "#task 04\n",
    "def calculate_up_low_chr(sentence):\n",
    "    up=0\n",
    "    low=0\n",
    "    for i in sentence:\n",
    "        if ord('a')<=ord(i)<=ord('z') or ord('A')<=ord(i)<=ord('Z'):\n",
    "            if i ==i.lower():\n",
    "                low+=1  \n",
    "            else:\n",
    "                up+=1\n",
    "    print(f'No. of uppercase characters : {up}')\n",
    "    print(f'No. of lowercase characters : {low}')\n",
    "sentence=calculate_up_low_chr(input('enter a sentence : '))\n",
    "       "
   ]
  },
  {
   "cell_type": "code",
   "execution_count": 50,
   "metadata": {},
   "outputs": [
    {
     "data": {
      "text/plain": [
       "True"
      ]
     },
     "execution_count": 50,
     "metadata": {},
     "output_type": "execute_result"
    }
   ],
   "source": [
    "a='$'\n",
    "a==a.upper()"
   ]
  },
  {
   "cell_type": "code",
   "execution_count": 1,
   "metadata": {},
   "outputs": [
    {
     "name": "stdout",
     "output_type": "stream",
     "text": [
      "0\n"
     ]
    }
   ],
   "source": [
    "#task 05\n",
    "age=int(input('enter your age: '))\n",
    "salary=int(input('enter your salary: '))\n",
    "currentJob=input('enter your job designation: ')\n",
    "def calculate_tax(age,salary,currentJob):\n",
    "    if age<18 or currentJob.lower()== 'president' or salary<= 10000:\n",
    "        return 0\n",
    "    elif 10000<salary<20000 :\n",
    "        return salary*5/100\n",
    "    else: \n",
    "        return salary*10/100\n",
    "print(calculate_tax(age,salary,currentJob))"
   ]
  },
  {
   "cell_type": "code",
   "execution_count": null,
   "metadata": {},
   "outputs": [],
   "source": [
    "#task 06\n"
   ]
  }
 ],
 "metadata": {
  "kernelspec": {
   "display_name": "Python 3.9.7 ('base')",
   "language": "python",
   "name": "python3"
  },
  "language_info": {
   "codemirror_mode": {
    "name": "ipython",
    "version": 3
   },
   "file_extension": ".py",
   "mimetype": "text/x-python",
   "name": "python",
   "nbconvert_exporter": "python",
   "pygments_lexer": "ipython3",
   "version": "3.9.7"
  },
  "orig_nbformat": 4,
  "vscode": {
   "interpreter": {
    "hash": "25d2fdca2609e94d9870819ebc84215797e81d9ba6db6f31b2b9677e97c0badd"
   }
  }
 },
 "nbformat": 4,
 "nbformat_minor": 2
}
