{
 "cells": [
  {
   "cell_type": "code",
   "execution_count": 5,
   "id": "5ee3e753",
   "metadata": {},
   "outputs": [
    {
     "name": "stdout",
     "output_type": "stream",
     "text": [
      "input : 1324\n",
      "Digits\n"
     ]
    }
   ],
   "source": [
    "user_in=input(\"input : \")\n",
    "count_letters=0\n",
    "count_numeric=0\n",
    "for values in user_in.lower():\n",
    "    if ord(\"a\")<=ord(values)<=ord(\"z\"):\n",
    "        count_letters+=1\n",
    "    else:\n",
    "        count_numeric+=1\n",
    "\n",
    "if count_letters>0 and count_numeric>0:\n",
    "    print(\"MIXED\")\n",
    "elif count_letters>0:\n",
    "    print(\"WORD\")\n",
    "else:\n",
    "    print(\"Digits\")"
   ]
  }
 ],
 "metadata": {
  "kernelspec": {
   "display_name": "Python 3 (ipykernel)",
   "language": "python",
   "name": "python3"
  },
  "language_info": {
   "codemirror_mode": {
    "name": "ipython",
    "version": 3
   },
   "file_extension": ".py",
   "mimetype": "text/x-python",
   "name": "python",
   "nbconvert_exporter": "python",
   "pygments_lexer": "ipython3",
   "version": "3.10.4"
  }
 },
 "nbformat": 4,
 "nbformat_minor": 5
}
