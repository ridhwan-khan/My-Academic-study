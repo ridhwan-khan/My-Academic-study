{
 "cells": [
  {
   "cell_type": "markdown",
   "metadata": {},
   "source": [
    "HACKER RANK \n"
   ]
  },
  {
   "cell_type": "code",
   "execution_count": 10,
   "metadata": {},
   "outputs": [
    {
     "name": "stdout",
     "output_type": "stream",
     "text": [
      "[(1, 1), (0, 2), (0, 2), (0, 2), (0, 3), (1, 1), (1, 1)]\n",
      "{'1': 1, '2': 0, '3': 0}\n"
     ]
    }
   ],
   "source": [
    "#compress the string \n",
    "\n",
    "user =\"1222311\"\n",
    "temp = {}\n",
    "# for dig in user:\n",
    "    # temp[dig]= temp.get(dig,0)+1\n",
    "list1 = []\n",
    "for outer in user : #1\n",
    "    temp [outer]=0\n",
    "    for inner in user: #1\n",
    "        if outer == inner:  \n",
    "            temp[outer] +=1\n",
    "        else:\n",
    "            # print(((temp[outer], int(outer))))\n",
    "            list1.append((temp[outer], int(outer)))\n",
    "            break\n",
    "print( list1)\n",
    "\n",
    "print(temp)"
   ]
  },
  {
   "cell_type": "code",
   "execution_count": 2,
   "metadata": {},
   "outputs": [
    {
     "name": "stdout",
     "output_type": "stream",
     "text": [
      "{'a': 3, 'b': 2}\n"
     ]
    }
   ],
   "source": []
  }
 ],
 "metadata": {
  "kernelspec": {
   "display_name": "Python 3.10.8 64-bit (microsoft store)",
   "language": "python",
   "name": "python3"
  },
  "language_info": {
   "codemirror_mode": {
    "name": "ipython",
    "version": 3
   },
   "file_extension": ".py",
   "mimetype": "text/x-python",
   "name": "python",
   "nbconvert_exporter": "python",
   "pygments_lexer": "ipython3",
   "version": "3.10.8"
  },
  "orig_nbformat": 4,
  "vscode": {
   "interpreter": {
    "hash": "6cc679d7446db4fa14803821519a5548df9198ce215b6848aba08f68267a5b7d"
   }
  }
 },
 "nbformat": 4,
 "nbformat_minor": 2
}
