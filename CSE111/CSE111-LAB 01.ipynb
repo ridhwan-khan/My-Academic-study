{
 "cells": [
  {
   "cell_type": "code",
   "execution_count": 3,
   "metadata": {},
   "outputs": [
    {
     "name": "stdout",
     "output_type": "stream",
     "text": [
      "banana\n"
     ]
    }
   ],
   "source": [
    "    #STRING 01\n",
    "# 01\n",
    "user_in=input()\n",
    "lowerCount=0\n",
    "upperCount=0\n",
    "for letters in user_in:\n",
    "    if ord(\"a\")<=ord(letters)<=ord(\"z\"):\n",
    "        lowerCount+=1\n",
    "    else:\n",
    "        upperCount+=1\n",
    "\n",
    "if upperCount>lowerCount:\n",
    "    print(user_in.upper())\n",
    "else:\n",
    "    print(user_in.lower())\n",
    "        \n"
   ]
  },
  {
   "cell_type": "markdown",
   "metadata": {},
   "source": []
  },
  {
   "cell_type": "code",
   "execution_count": 14,
   "metadata": {},
   "outputs": [
    {
     "name": "stdout",
     "output_type": "stream",
     "text": [
      "WORD\n"
     ]
    }
   ],
   "source": [
    "#task 02 \n",
    "user_input=input()\n",
    "ltr_ct=0\n",
    "for letter in user_input:\n",
    "    if ord(\"1\")<=ord(letter)<=ord(\"9\"):\n",
    "        ltr_ct+=1\n",
    "if len(user_input)==ltr_ct:\n",
    "    print(\"NUMBER\")\n",
    "elif ltr_ct==0:\n",
    "    print(\"WORD\")\n",
    "else:\n",
    "    print(\"MIXED\")"
   ]
  },
  {
   "cell_type": "code",
   "execution_count": 17,
   "metadata": {},
   "outputs": [
    {
     "name": "stdout",
     "output_type": "stream",
     "text": [
      "glad\n"
     ]
    }
   ],
   "source": [
    "#task 03\n",
    "start=0\n",
    "stop=0\n",
    "USERinput=input()\n",
    "for k in range(len(USERinput)):\n",
    "    if USERinput[k] == USERinput[k].upper():    \n",
    "        if start==0:\n",
    "            start=k \n",
    "        else:\n",
    "            stop=k\n",
    "            break\n",
    "if start==0 or stop==0:\n",
    "    print(\"BLANK\")\n",
    "else:\n",
    "  \n",
    "    print(USERinput[start+1:stop])  "
   ]
  },
  {
   "cell_type": "code",
   "execution_count": 6,
   "metadata": {},
   "outputs": [
    {
     "name": "stdout",
     "output_type": "stream",
     "text": [
      "hrrhr\n"
     ]
    }
   ],
   "source": [
    "#String task 04\n",
    "user_input1=input(\"input 2 words with comma and space \")\n",
    "ind_splt=0\n",
    "for i in range(len(user_input1)):\n",
    "   if user_input1[i]==\",\":\n",
    "        ind_splt = i\n",
    "        break\n",
    "str1 = user_input1[:ind_splt]\n",
    "str2 = user_input1[ind_splt+2:]\n",
    "result = \"\"\n",
    "for ltr in str1:\n",
    "    if ltr in str2:\n",
    "        result+=ltr\n",
    "for ltr2 in str2:\n",
    "    if ltr2 in str1:\n",
    "        result+=ltr2\n",
    "if result!=\"\":\n",
    "    print(result)     \n",
    "else:\n",
    "    print(\"Nothing in common.\")"
   ]
  },
  {
   "cell_type": "code",
   "execution_count": 15,
   "metadata": {},
   "outputs": [
    {
     "name": "stdout",
     "output_type": "stream",
     "text": [
      "Digit is missing\n"
     ]
    }
   ],
   "source": [
    "# String task 05\n",
    "password_input=input(\"Input your password: \")\n",
    "low=0\n",
    "up=0\n",
    "store=\"_$#@\"\n",
    "spcChr=0\n",
    "digit=0\n",
    "for passletter in password_input:\n",
    "    if ord(\"a\")<=ord(passletter)<= ord(\"z\"):\n",
    "        low+=1\n",
    "    elif ord(\"A\")<=ord(passletter)<= ord(\"Z\"):\n",
    "        up+=1\n",
    "    elif ord(\"1\")<=ord(passletter)<= ord(\"9\"):\n",
    "        digit+=1\n",
    "    elif passletter in store:\n",
    "        spcChr+=1\n",
    "result=\"\"\n",
    "if low!=0 and up!=0 and spcChr != 0 and digit!= 0 :\n",
    "    print(\"OK\")\n",
    "else:\n",
    "    if low==0:\n",
    "        result+=\"Lowercase is missing, \"\n",
    "    if up==0 :\n",
    "        result+=\"Uppercase is missing, \"\n",
    "    if digit==0: \n",
    "        result+=\"Digit is missing, \"\n",
    "    if spcChr == 0:\n",
    "        result+=\"spcChr is missing, \"\n",
    "print(result[:-2])\n"
   ]
  },
  {
   "cell_type": "code",
   "execution_count": 26,
   "metadata": {},
   "outputs": [
    {
     "name": "stdout",
     "output_type": "stream",
     "text": [
      "burger HELLO bracu lab \n"
     ]
    }
   ],
   "source": [
    "a=100\n",
    "k=\"burger {ab} \".format(ab=\"Hello world\" if a==10 else \"HELLO bracu lab\" )\n",
    "print(k)"
   ]
  },
  {
   "cell_type": "code",
   "execution_count": 24,
   "metadata": {},
   "outputs": [
    {
     "name": "stdout",
     "output_type": "stream",
     "text": [
      "My name is John, I'm 36\n"
     ]
    }
   ],
   "source": [
    "a=10\n",
    "txt1 = \"My name is {fname}, I'm {age}\".format(fname = \"John\" if a==10 else \"Susan\", age = 36)\n",
    "print(txt1)"
   ]
  },
  {
   "cell_type": "code",
   "execution_count": 13,
   "metadata": {},
   "outputs": [
    {
     "name": "stdout",
     "output_type": "stream",
     "text": [
      "10 - 2 times\n",
      "20 - 2 times\n",
      "30 - 1 times\n",
      "50 - 1 times\n",
      "90 - 1 times\n"
     ]
    }
   ],
   "source": [
    "#List task 01 \n",
    "inp=input(\"input digits write STOP to stop: \")\n",
    "workingList=[]\n",
    "value=[]\n",
    "count=[]\n",
    "\n",
    "while inp!= \"STOP\":\n",
    "    \n",
    "    workingList.append(int(inp))\n",
    "    \n",
    "    if int(inp) not in value:\n",
    "        value.append(int(inp))\n",
    "    inp=input()\n",
    "\n",
    "for i in range(len(value)):\n",
    "    frequency=0\n",
    "    for k in workingList:\n",
    "        if k ==  value[i] :\n",
    "            frequency+=1    \n",
    "    count.append(frequency)\n",
    "        \n",
    "for r in range(len(value)):\n",
    "    print('{} - {} times'.format(value[r],count[r] ) ) "
   ]
  },
  {
   "cell_type": "code",
   "execution_count": 9,
   "metadata": {},
   "outputs": [
    {
     "name": "stdout",
     "output_type": "stream",
     "text": [
      "33\n",
      "[10, 11, 12]\n"
     ]
    }
   ],
   "source": [
    "#L TASK 02 \n",
    "n=int(input(\"number of list you want \"))\n",
    "max=0\n",
    "result=[]\n",
    "for iteration in range(n):\n",
    "    user=input(\"write the digits with space in between: \")\n",
    "    store=user.strip().split(\" \")\n",
    "    sum=0\n",
    "    for lst in store:  \n",
    "        sum+=int(lst)\n",
    "        \n",
    "    if sum >max:\n",
    "        max = sum\n",
    "        result=[int(x) for x in store]\n",
    "    \n",
    "print(max)\n",
    "print(result)"
   ]
  },
  {
   "cell_type": "code",
   "execution_count": 3,
   "metadata": {},
   "outputs": [
    {
     "name": "stdout",
     "output_type": "stream",
     "text": [
      "UB Jumper\n",
      "Not UB Jumper\n"
     ]
    }
   ],
   "source": [
    "#L task 03 \n",
    "user_input_L3=input(\"input numbers with a space in between \")\n",
    "while user_input_L3 != \"STOP\":\n",
    "    \n",
    "    storeL3 = user_input_L3.strip().split()\n",
    "    judge = True\n",
    "    for value in range(len(storeL3)-1):\n",
    "        if abs(int(storeL3[value]) - int(storeL3[value+1])) > (len(storeL3)-1) :\n",
    "            judge = False\n",
    "            break\n",
    "    if judge == True:\n",
    "        print(\"UB Jumper\")\n",
    "    else:\n",
    "        print(\"Not UB Jumper\")\n",
    "    user_input_L3=input(\"input numbers with a space in between \")\n",
    "    "
   ]
  },
  {
   "cell_type": "code",
   "execution_count": 13,
   "metadata": {},
   "outputs": [
    {
     "name": "stdout",
     "output_type": "stream",
     "text": [
      "0\n"
     ]
    }
   ],
   "source": [
    "#L task 04\n",
    "n,k = input(\"Number of players: \").split()\n",
    "participant = input(\"input player participation\").split()\n",
    "eligible = 0\n",
    "for participation in participant:\n",
    "    if int(participation) + int(k) <= 5:\n",
    "        eligible+=1\n",
    "\n",
    "team = eligible//3 \n",
    "print(team)       "
   ]
  },
  {
   "cell_type": "code",
   "execution_count": null,
   "metadata": {},
   "outputs": [],
   "source": [
    "#D &T (TASK 01)\n",
    "\n"
   ]
  },
  {
   "cell_type": "code",
   "execution_count": 8,
   "metadata": {},
   "outputs": [
    {
     "name": "stdout",
     "output_type": "stream",
     "text": [
      "alice@sheba.xyz\n"
     ]
    }
   ],
   "source": [
    "#Function \n",
    "#task 04\n",
    "#email,new,old\n",
    "#(‘alice@kaaj.com’, ‘sheba.xyz’, ‘kaaj.com’)\n",
    "\n",
    "def replace_domain(email,new=None,old=None):\n",
    "    store=0\n",
    "    for letterIn in range(len(email)):\n",
    "        if email[letterIn]== \"@\":\n",
    "            store=letterIn\n",
    "            break\n",
    "    \n",
    "    if old != None and  email[store+1:]==old:\n",
    "        email = email[ :store+1 ] + new\n",
    "    else:\n",
    "        pass \n",
    "    return email\n",
    "# a=input()[1:-1].split(\", \")\n",
    "# print(a[0])0\n",
    "# k=replace_domain(a[0],a[1],a[2])\n",
    "# print(a[1])\n",
    "k= replace_domain(\"alice@kaaj.com\" , \"sheba.xyz\" , \"kaaj.com\" ) \n",
    "print(k)               "
   ]
  },
  {
   "cell_type": "code",
   "execution_count": 6,
   "metadata": {},
   "outputs": [
    {
     "name": "stdout",
     "output_type": "stream",
     "text": [
      "['\"alice@kaaj.com\"', '\"sheba.xyz\"', '\"kaaj.com\" )']\n"
     ]
    }
   ],
   "source": [
    "a=input()[1:-1].split(\", \")\n",
    "print(a)\n"
   ]
  },
  {
   "cell_type": "code",
   "execution_count": 15,
   "metadata": {},
   "outputs": [
    {
     "name": "stdout",
     "output_type": "stream",
     "text": [
      "abanda\n"
     ]
    }
   ],
   "source": [
    "a=\"abc\"\n",
    "k=\"anda\"\n",
    "a=a[:2]+k\n",
    "print(a)"
   ]
  },
  {
   "cell_type": "code",
   "execution_count": 3,
   "metadata": {},
   "outputs": [
    {
     "name": "stdout",
     "output_type": "stream",
     "text": [
      "20\n"
     ]
    }
   ],
   "source": [
    "#F task 02 \n",
    "def calculate(minimum,maximum,divisor):\n",
    "    sum=0\n",
    "    for i in range (minimum,maximum):\n",
    "        if i%divisor == 0:\n",
    "            sum+=i\n",
    "    return sum\n",
    "result = calculate(int(input(\"Minimum value: \")),int(input(\"maximum valueL: \")), int(input(\"divisor: \")))\n",
    "print(result)"
   ]
  },
  {
   "cell_type": "code",
   "execution_count": 1,
   "metadata": {},
   "outputs": [
    {
     "name": "stdout",
     "output_type": "stream",
     "text": [
      "243.6\n"
     ]
    }
   ],
   "source": [
    "#F task 03 \n",
    "def foodpanda(meal,place=\"Mohakhali\"):\n",
    "    \n",
    "    item = {\"BBQ Chicken Cheese Burger\" : 250 , \"Beef Burger\" : 170, \"Naga Drums\" : 200 }\n",
    "    if place == \"Mohakhali\" or place==\"\":       ## *** I cant get the input here how to fix it  ## SHRR AFTER CLASS \n",
    "        delivery_charge = 40\n",
    "    else: \n",
    "        delivery_charge = 60 \n",
    "\n",
    "    tax= item[meal]*(8/100)\n",
    "    #ridhwan no copyright :) dhara 01010101\n",
    "        \n",
    "    total = item[meal] + delivery_charge + tax\n",
    "    return total\n",
    "\n",
    "meal = input(\"enter the name of the meal: \")\n",
    "place = input(\"if not mohakhali enter the location: \") \n",
    "print(place)\n",
    "if \n",
    "result= foodpanda(meal,place)\n",
    "print(result)"
   ]
  },
  {
   "cell_type": "code",
   "execution_count": 10,
   "metadata": {},
   "outputs": [
    {
     "name": "stdout",
     "output_type": "stream",
     "text": [
      "My favourIte anImal Is a dog. A dog has sharp teeth so that It can eat flesh very easIly. Do you know my pet dog’s name? I love my pet very much.\n"
     ]
    }
   ],
   "source": [
    "def correction ( sentence):\n",
    "    result=\"\"\n",
    "    result+= sentence[0].upper()\n",
    "    check_post = \".!?\"\n",
    "    cap=0\n",
    "    for i in range(1,len(sentence)):\n",
    "        if sentence[i] in check_post: #letter checking \n",
    "            cap = i\n",
    "            result+=sentence[i]\n",
    "        elif i== (cap+2) :  \n",
    "            result+=sentence[i].upper()\n",
    "            \n",
    "        elif sentence[i]=='i' and sentence[i+1]!=\"\":\n",
    "            result+=sentence[i].upper()\n",
    "            \n",
    "        else:\n",
    "            result+=sentence[i] \n",
    "    return result\n",
    "sentence = input()\n",
    "k=correction(sentence)\n",
    "print(k)             "
   ]
  },
  {
   "cell_type": "code",
   "execution_count": 6,
   "metadata": {},
   "outputs": [
    {
     "name": "stdout",
     "output_type": "stream",
     "text": [
      "['m', 'y', ' ', 'n', 'a', 'm', 'e', ' ', 'i', 's', ' ', 'k', 'h', 'a', 'n'] m@y@ @n@a@m@e@ @i@s@ @k@h@a@n\n"
     ]
    }
   ],
   "source": [
    "a=\"my name is khan\"\n",
    "x = list(a)\n",
    "c = \"@\".join(x)\n",
    "print(x, c)\n"
   ]
  },
  {
   "cell_type": "code",
   "execution_count": 3,
   "metadata": {},
   "outputs": [
    {
     "ename": "TypeError",
     "evalue": "unsupported operand type(s) for *: 'NoneType' and 'float'",
     "output_type": "error",
     "traceback": [
      "\u001b[1;31m---------------------------------------------------------------------------\u001b[0m",
      "\u001b[1;31mTypeError\u001b[0m                                 Traceback (most recent call last)",
      "\u001b[1;32md:\\WORK ASSIGNMENTS etc\\CSE111\\CSE111-LAB 01.ipynb Cell 20\u001b[0m in \u001b[0;36m<cell line: 10>\u001b[1;34m()\u001b[0m\n\u001b[0;32m     <a href='vscode-notebook-cell:/d%3A/WORK%20ASSIGNMENTS%20etc/CSE111/CSE111-LAB%2001.ipynb#X30sZmlsZQ%3D%3D?line=11'>12</a>\u001b[0m     \u001b[39mprint\u001b[39m(price(m,x))\n\u001b[0;32m     <a href='vscode-notebook-cell:/d%3A/WORK%20ASSIGNMENTS%20etc/CSE111/CSE111-LAB%2001.ipynb#X30sZmlsZQ%3D%3D?line=12'>13</a>\u001b[0m \u001b[39melse\u001b[39;00m :\n\u001b[1;32m---> <a href='vscode-notebook-cell:/d%3A/WORK%20ASSIGNMENTS%20etc/CSE111/CSE111-LAB%2001.ipynb#X30sZmlsZQ%3D%3D?line=13'>14</a>\u001b[0m     \u001b[39mprint\u001b[39m(price(n[\u001b[39m0\u001b[39;49m]))\n",
      "\u001b[1;32md:\\WORK ASSIGNMENTS etc\\CSE111\\CSE111-LAB 01.ipynb Cell 20\u001b[0m in \u001b[0;36mprice\u001b[1;34m(burger, location)\u001b[0m\n\u001b[0;32m      <a href='vscode-notebook-cell:/d%3A/WORK%20ASSIGNMENTS%20etc/CSE111/CSE111-LAB%2001.ipynb#X30sZmlsZQ%3D%3D?line=0'>1</a>\u001b[0m \u001b[39mdef\u001b[39;00m \u001b[39mprice\u001b[39m(burger,location\u001b[39m=\u001b[39m\u001b[39m'\u001b[39m\u001b[39m Mohakhali\u001b[39m\u001b[39m'\u001b[39m):\n\u001b[0;32m      <a href='vscode-notebook-cell:/d%3A/WORK%20ASSIGNMENTS%20etc/CSE111/CSE111-LAB%2001.ipynb#X30sZmlsZQ%3D%3D?line=1'>2</a>\u001b[0m     dict_1 \u001b[39m=\u001b[39m {\u001b[39m'\u001b[39m\u001b[39mBBQ Chicken Cheese Burger\u001b[39m\u001b[39m'\u001b[39m:\u001b[39m250\u001b[39m,\u001b[39m'\u001b[39m\u001b[39mBeef Burger\u001b[39m\u001b[39m'\u001b[39m:\u001b[39m170\u001b[39m,\u001b[39m'\u001b[39m\u001b[39mNaga Drums\u001b[39m\u001b[39m'\u001b[39m:\u001b[39m200\u001b[39m}\n\u001b[1;32m----> <a href='vscode-notebook-cell:/d%3A/WORK%20ASSIGNMENTS%20etc/CSE111/CSE111-LAB%2001.ipynb#X30sZmlsZQ%3D%3D?line=2'>3</a>\u001b[0m     \u001b[39msum\u001b[39m \u001b[39m=\u001b[39m dict_1\u001b[39m.\u001b[39mget(burger) \u001b[39m+\u001b[39m (dict_1\u001b[39m.\u001b[39;49mget(burger)\u001b[39m*\u001b[39;49m(\u001b[39m8\u001b[39;49m\u001b[39m/\u001b[39;49m\u001b[39m100\u001b[39;49m))\n\u001b[0;32m      <a href='vscode-notebook-cell:/d%3A/WORK%20ASSIGNMENTS%20etc/CSE111/CSE111-LAB%2001.ipynb#X30sZmlsZQ%3D%3D?line=3'>4</a>\u001b[0m     \u001b[39mif\u001b[39;00m location \u001b[39m==\u001b[39m \u001b[39m'\u001b[39m\u001b[39m Mohakhali\u001b[39m\u001b[39m'\u001b[39m:\n\u001b[0;32m      <a href='vscode-notebook-cell:/d%3A/WORK%20ASSIGNMENTS%20etc/CSE111/CSE111-LAB%2001.ipynb#X30sZmlsZQ%3D%3D?line=4'>5</a>\u001b[0m         \u001b[39msum\u001b[39m \u001b[39m+\u001b[39m\u001b[39m=\u001b[39m \u001b[39m40\u001b[39m\n",
      "\u001b[1;31mTypeError\u001b[0m: unsupported operand type(s) for *: 'NoneType' and 'float'"
     ]
    }
   ],
   "source": [
    "#azmain solution \n",
    "def price(burger,location=' Mohakhali'):\n",
    "    dict_1 = {'BBQ Chicken Cheese Burger':250,'Beef Burger':170,'Naga Drums':200}\n",
    "    sum = dict_1.get(burger) + (dict_1.get(burger)*(8/100))\n",
    "    if location == ' Mohakhali':\n",
    "        sum += 40\n",
    "    else :\n",
    "        sum += 60\n",
    "    return sum\n",
    "n = [i for i in input()[1:-1].replace(\"\", \"\").split(\",\")]\n",
    "if len(n) > 1 :\n",
    "    m,x = tuple(n)\n",
    "    print(price(m,x))\n",
    "else :\n",
    "    print(price(n[0]))"
   ]
  },
  {
   "cell_type": "code",
   "execution_count": null,
   "metadata": {},
   "outputs": [],
   "source": [
    "#t03 \n",
    "sample= {\"1\": \".,?!:\" , \"2\" : \"ABC\" , \"3\" :\"DEF\", \"4\" :\"GHI\" , '5' : \"JKL\" , \"6\" : \"MNO\" ,\"7\" : \"PQRS\" , \"8\" : \"TUV\" , \"9\" : \"WXYZ\" ,'0' : \" \" }\n",
    "user= \"Hello, World!\"\n",
    "for i in user:\n",
    "    "
   ]
  },
  {
   "cell_type": "markdown",
   "metadata": {},
   "source": [
    "task 11 13 sug for mid term  "
   ]
  }
 ],
 "metadata": {
  "kernelspec": {
   "display_name": "Python 3.10.8 64-bit (microsoft store)",
   "language": "python",
   "name": "python3"
  },
  "language_info": {
   "codemirror_mode": {
    "name": "ipython",
    "version": 3
   },
   "file_extension": ".py",
   "mimetype": "text/x-python",
   "name": "python",
   "nbconvert_exporter": "python",
   "pygments_lexer": "ipython3",
   "version": "3.10.8"
  },
  "orig_nbformat": 4,
  "vscode": {
   "interpreter": {
    "hash": "e0acaf148705ed9ed86cc5cad12259d7985e30670e5686e5f55604a9b3b84a55"
   }
  }
 },
 "nbformat": 4,
 "nbformat_minor": 2
}
