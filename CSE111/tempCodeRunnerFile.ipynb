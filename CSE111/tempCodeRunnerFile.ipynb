 
inp=input("input digits write STOP to stop: ")
workingList=[]
value=[]
count=[]
while inp!= "STOP":
    workingList.append(int(inp))
    
    if inp not in value:
        value.append(inp)
    inp=input()
    
    
print(workingList)
print(value)