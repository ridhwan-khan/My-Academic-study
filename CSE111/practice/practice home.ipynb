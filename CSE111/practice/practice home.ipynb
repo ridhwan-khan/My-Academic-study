{
 "cells": [
  {
   "cell_type": "markdown",
   "metadata": {},
   "source": [
    "\n",
    "\n",
    "\n",
    "\n",
    "\n",
    "\n",
    "\n",
    "\n",
    "OOP in python\n"
   ]
  },
  {
   "cell_type": "code",
   "execution_count": 4,
   "metadata": {},
   "outputs": [
    {
     "name": "stdout",
     "output_type": "stream",
     "text": [
      "name:  tommy\n",
      "age:  2\n",
      "<class '__main__.Dog'>\n",
      "<class 'str'>\n",
      "tommy is now sitting \n",
      "tommy rolled over!!\n"
     ]
    }
   ],
   "source": [
    "class Dog:\n",
    "    def __init__(self , name , age):\n",
    "        self.dogname=name\n",
    "        self.age=age\n",
    "    def sit(self):\n",
    "        print(f\"{self.dogname} is now sitting \"  )\n",
    "    def roll_over(self):\n",
    "        \"\"\"simulate rolling over in response to a command\"\"\"\n",
    "        print(f\"{self.dogname} rolled over!!\")\n",
    "\n",
    "myDog=Dog(\"tommy\",2)\n",
    "print(\"name: \",myDog.dogname)\n",
    "print('age: ',myDog.age)\n",
    "print(type(myDog))\n",
    "print(type(myDog.dogname))\n",
    "myDog.sit()\n",
    "myDog.roll_over()"
   ]
  },
  {
   "cell_type": "code",
   "execution_count": 29,
   "metadata": {},
   "outputs": [
    {
     "name": "stdout",
     "output_type": "stream",
     "text": [
      "before __init__  this executes automatically by default. \n",
      "2030 Tesla Model'S\n",
      "This car has a 75-kwh battery.\n",
      "Help on ElectricalCar in module __main__ object:\n",
      "\n",
      "class ElectricalCar(Car)\n",
      " |  ElectricalCar(make, model, year)\n",
      " |  \n",
      " |  Represent aspect of a car, specific to electric vehicle.\n",
      " |  \n",
      " |  Method resolution order:\n",
      " |      ElectricalCar\n",
      " |      Car\n",
      " |      builtins.object\n",
      " |  \n",
      " |  Methods defined here:\n",
      " |  \n",
      " |  __init__(self, make, model, year)\n",
      " |      Initialize attributes of the parent class\n",
      " |  \n",
      " |  ----------------------------------------------------------------------\n",
      " |  Methods inherited from Car:\n",
      " |  \n",
      " |  get_descriptive_name(self)\n",
      " |  \n",
      " |  increment_odometer(self, miles)\n",
      " |  \n",
      " |  read_odometer(self)\n",
      " |  \n",
      " |  update_odometer(self, milage)\n",
      " |  \n",
      " |  ----------------------------------------------------------------------\n",
      " |  Data descriptors inherited from Car:\n",
      " |  \n",
      " |  __dict__\n",
      " |      dictionary for instance variables (if defined)\n",
      " |  \n",
      " |  __weakref__\n",
      " |      list of weak references to the object (if defined)\n",
      "\n",
      "None\n"
     ]
    }
   ],
   "source": [
    "class Car:\n",
    "    print(\"before __init__  this executes automatically by default. \")\n",
    "    \n",
    "    def __init__(self,make ,model,year):\n",
    "        self.make=make\n",
    "        self.model=model\n",
    "        self.year=year\n",
    "        self.odometer_reading=10\n",
    "    \n",
    "    def get_descriptive_name(self):\n",
    "        long_name= f\"{self.year} {self.make} {self.model}\"\n",
    "        return long_name.title()\n",
    "    \n",
    "    def read_odometer(self):\n",
    "        print(f\"This car has {self.odometer_reading} miles on it.\")\n",
    "    \n",
    "    def update_odometer(self,milage):\n",
    "        if milage>self.odometer_reading:\n",
    "            self.odometer_reading= milage\n",
    "        else:\n",
    "            print(\"You can't roll back an odometer!\")\n",
    "            \n",
    "    def increment_odometer(self,miles):\n",
    "        self.odometer_reading+=miles \n",
    "        \n",
    "class Battery:\n",
    "    \"\"\"A simple attempt to model a battery for an electric car\"\"\"\n",
    "    def __init__(self,battery_size=75):\n",
    "        self.battery_size=battery_size\n",
    "        \n",
    "    def describe_battery(self):\n",
    "        print(f\"This car has a {self.battery_size}-kwh battery.\")\n",
    "        \n",
    "        \n",
    "class ElectricalCar(Car):\n",
    "    \"\"\"Represent aspect of a car, specific to electric vehicle.\"\"\"\n",
    "    def __init__(self, make, model, year):\n",
    "        \"\"\"Initialize attributes of the parent class\"\"\"\n",
    "        super().__init__(make,model,year)\n",
    "        \n",
    "        self.batterylife=Battery()\n",
    "    \n",
    "my_tesla= ElectricalCar(\"Tesla\",\"model's\",2030)\n",
    "print(my_tesla.get_descriptive_name())     \n",
    "my_tesla.batterylife.describe_battery()\n",
    "print(help(my_tesla))\n",
    "                   \n",
    "\n",
    "# my_new_car= Car(\"Audi\", \"A4 \",\"2019\")\n",
    "\n",
    "# print(my_new_car.get_descriptive_name())\n",
    "# my_new_car.update_odometer(9)\n",
    "# # my_new_car.odometer_reading=9\n",
    "# my_new_car.read_odometer()\n"
   ]
  },
  {
   "cell_type": "markdown",
   "metadata": {},
   "source": [
    "self is parameter in Instance Method and user can use another parameter name in place of it. But it is advisable to use self because it increases the readability of code, and it is also a good programming practice."
   ]
  },
  {
   "cell_type": "code",
   "execution_count": 5,
   "metadata": {},
   "outputs": [
    {
     "name": "stdout",
     "output_type": "stream",
     "text": [
      "we have used another parameter name in place of self\n"
     ]
    }
   ],
   "source": [
    "# Write Python3 code here\n",
    " \n",
    "class this_is_class:\n",
    "    def __init__(in_place_of_self):\n",
    "        print(\"we have used another \"\n",
    "        \"parameter name in place of self\")\n",
    "         \n",
    "object = this_is_class()"
   ]
  },
  {
   "cell_type": "code",
   "execution_count": 12,
   "metadata": {},
   "outputs": [
    {
     "name": "stdout",
     "output_type": "stream",
     "text": [
      "6\n",
      "3\n"
     ]
    }
   ],
   "source": [
    "from multipledispatch import dispatch\n",
    "class Calculator:\n",
    "    @dispatch(int,int)\n",
    "    def  sum(self,a,b):\n",
    "        self.a=a\n",
    "        self.b=b\n",
    "        print(a+b)\n",
    "  \n",
    "    @dispatch (int,int,int) \n",
    "    def sum(self,a,b,c):\n",
    "        self.a=a\n",
    "        self.b=b\n",
    "        self.c=c\n",
    "      \n",
    "        print(a+b+c)\n",
    "        \n",
    "        \n",
    "store=Calculator()\n",
    "store2=Calculator()\n",
    "store2.sum(1,2,3)\n",
    "store.sum(1,2)\n"
   ]
  },
  {
   "cell_type": "code",
   "execution_count": 7,
   "metadata": {},
   "outputs": [
    {
     "name": "stdout",
     "output_type": "stream",
     "text": [
      "58 69\n",
      "6\n"
     ]
    }
   ],
   "source": [
    "class student:\n",
    "    def __init__(self,m1,m2):\n",
    "        self.m1=m1\n",
    "        self.m2=m2\n",
    "    \n",
    "    def __add__(self,other):\n",
    "        \n",
    "        m1= self.m1+other.m1\n",
    "        m2= self.m2+other.m2\n",
    "        s3= student(m1,m2)\n",
    "        return s3\n",
    "    \n",
    "    def __str__(self):\n",
    "        return \"{} {}\".format(self.m1, self.m2)\n",
    "        \n",
    "s1=student(58,69)\n",
    "s2=student(60,65)\n",
    "#so we neeed to overload method as + do not \n",
    "#know how to add this data type\n",
    "sum=s1+s2   # --> student.__add__(s1,s2) where self is s1 other is s2\n",
    "print(s1.__str__())\n",
    "k=6\n",
    "print(k.__str__())"
   ]
  },
  {
   "cell_type": "code",
   "execution_count": 6,
   "metadata": {},
   "outputs": [
    {
     "name": "stdout",
     "output_type": "stream",
     "text": [
      "sakib:  10\n",
      "tamim:  4\n",
      "team_run: 14\n"
     ]
    }
   ],
   "source": [
    "class Player:\n",
    "    team_run= 0  #static variable \n",
    "    def __init__(self,run):\n",
    "        self.run=run           #instance variable\n",
    "   \n",
    "        \n",
    "    def hit_four(self):\n",
    "        self.run+=4\n",
    "        Player.team_run+=4\n",
    "    def hit_six(self):\n",
    "        self.run+=6\n",
    "        Player.team_run+=6\n",
    "        \n",
    "#=====================================================\n",
    "\n",
    "\n",
    "sakib= Player(0)\n",
    "tamim= Player(0)\n",
    "\n",
    "tamim.hit_four()\n",
    "sakib.hit_four()\n",
    "sakib.hit_six()\n",
    "\n",
    "print(\"sakib: \",sakib.run)\n",
    "print(\"tamim: \",tamim.run)\n",
    "print(\"team_run:\",Player.team_run)"
   ]
  },
  {
   "cell_type": "code",
   "execution_count": 4,
   "metadata": {},
   "outputs": [
    {
     "name": "stdout",
     "output_type": "stream",
     "text": [
      "ridhwan khan\n"
     ]
    }
   ],
   "source": [
    "a=\"ridhwan\"\n",
    "a+= \" khan\"\n",
    "# a.append(\"murgi\") works in cpp  not in python\n",
    "print(a)"
   ]
  },
  {
   "cell_type": "code",
   "execution_count": 2,
   "metadata": {},
   "outputs": [
    {
     "name": "stdout",
     "output_type": "stream",
     "text": [
      "class method called\n",
      "Name:  Ridhwan ID:  22301143 University: SUST\n",
      "Name:  Amira ID:  22890809908908 University: SUST\n",
      "Name:  Tawhid sir ID:  1690890890 University: SUST\n"
     ]
    }
   ],
   "source": [
    "from multipledispatch import dispatch\n",
    "class Student:\n",
    "    uni_name=\"BRACU\"\n",
    "    @dispatch(str,int)\n",
    "    def __init__(self,name,Id):\n",
    "        self.name=name\n",
    "        self.__id=Id\n",
    "    @dispatch(str)\n",
    "    def __init__(self,name_Id):\n",
    "            self.name,self.__id=name_Id.split(\"-\")\n",
    "        \n",
    "    \n",
    "    def details(self):\n",
    "        print(\"Name: \",self.name,\"ID: \",self.__id,\"University:\",\n",
    "             Student.uni_name)\n",
    "        \n",
    "    @classmethod\n",
    "    def up_uni_name(cls,university):\n",
    "        cls.uni_name=university\n",
    "        print(\"class method called\")\n",
    "# Student.up_uni_name(\"DU\")        \n",
    "s1=Student(\"Ridhwan\",22301143)\n",
    "s2=Student(\"Amira\",22890809908908)\n",
    "# s1.up_uni_name(\"DU\") #both becomes DU as it's changed with cls reference not for the instance\n",
    "#not a good practice always write the class name.clsmethod()\n",
    "Student.up_uni_name(\"SUST\")\n",
    "s1.details()\n",
    "\n",
    "s2.details()\n",
    "s3=Student(\"Tawhid sir-1690890890\")\n",
    "s3.details()\n",
    "\n",
    "            "
   ]
  },
  {
   "cell_type": "code",
   "execution_count": 11,
   "metadata": {},
   "outputs": [
    {
     "name": "stdout",
     "output_type": "stream",
     "text": [
      "100 100\n"
     ]
    }
   ],
   "source": [
    "a=2\n",
    "b=a=100  #b=100 a=b a=100\n",
    "print(a,b)\n",
    "# (c=a) = 500 in c++ this works from left to right \n",
    "# print(a,c)"
   ]
  },
  {
   "cell_type": "code",
   "execution_count": 12,
   "metadata": {},
   "outputs": [
    {
     "ename": "SyntaxError",
     "evalue": "invalid syntax (2069157366.py, line 3)",
     "output_type": "error",
     "traceback": [
      "\u001b[1;36m  Cell \u001b[1;32mIn [12], line 3\u001b[1;36m\u001b[0m\n\u001b[1;33m    if !(a==b):\u001b[0m\n\u001b[1;37m       ^\u001b[0m\n\u001b[1;31mSyntaxError\u001b[0m\u001b[1;31m:\u001b[0m invalid syntax\n"
     ]
    }
   ],
   "source": [
    "a=10\n",
    "b=5\n",
    "if !(a==b):\n",
    "    print(\"not worked\") #so it doesn't work the same as the not operator in c ++\n",
    "else:\n",
    "    print(\"out of not \")"
   ]
  },
  {
   "cell_type": "code",
   "execution_count": 46,
   "metadata": {},
   "outputs": [
    {
     "name": "stdout",
     "output_type": "stream",
     "text": [
      "PART 1: \n",
      "Name of president: Aladeen\n",
      "Designation: President Prime minister Admiral General\n",
      "Number of wife: 100\n",
      "Is he or she a ditactor True\n",
      "PART 2: \n",
      "Name of president: Donald Trump\n",
      "Designation: President\n",
      "Number of wife: 1\n",
      "Is he or she a ditactor False\n"
     ]
    }
   ],
   "source": [
    "class Wadiya:\n",
    "    def __init__(self):\n",
    "        self.name=\"Aladeen\"\n",
    "        self.designation=\"President Prime minister Admiral General\"\n",
    "        self.num_of_wife=100\n",
    "        self.dictactor=True\n",
    "        \n",
    "wadiya=Wadiya()\n",
    "print(\"PART 1: \")\n",
    "print(\"Name of president: {}\".format (wadiya.name))\n",
    "print(\"Designation: {}\".format(wadiya.designation))\n",
    "print(\"Number of wife: {}\".format(wadiya.num_of_wife))\n",
    "print(f\"Is he or she a ditactor {wadiya.dictactor}\")\n",
    "print(\"PART 2: \")\n",
    "wadiya.name=\"Donald Trump\"\n",
    "wadiya.designation=\"President\"\n",
    "wadiya.num_of_wife=1\n",
    "wadiya.dictactor=False\n",
    "\n",
    "print(\"Name of president: {}\".format (wadiya.name))\n",
    "print(\"Designation: {}\".format(wadiya.designation))\n",
    "print(\"Number of wife: {}\".format(wadiya.num_of_wife))\n",
    "print(f\"Is he or she a ditactor {wadiya.dictactor}\")"
   ]
  },
  {
   "cell_type": "code",
   "execution_count": 61,
   "metadata": {},
   "outputs": [
    {
     "name": "stdout",
     "output_type": "stream",
     "text": [
      "Name of president: Aladeen\n",
      "Designation: President Prime minister Admiral General\n",
      "Number of wife: 100\n",
      "Is he or she a ditactor: True\n",
      "================================\n",
      "Name of president: ridhwan\n",
      "Designation: president\n",
      "Number of wife: 4\n",
      "Is he or she a ditactor: False\n"
     ]
    }
   ],
   "source": [
    "class Wadiya:\n",
    "    def __init__(self):\n",
    "        self.name=\"Aladeen\"\n",
    "        self.designation=\"President Prime minister Admiral General\"\n",
    "        self.num_of_wife=100\n",
    "        self.dictactor=True\n",
    "    def result(self):\n",
    "        print(\"Name of president: {}\".format (self.name))\n",
    "        print(\"Designation: {}\".format(self.designation))\n",
    "        print(\"Number of wife: {}\".format(self.num_of_wife))\n",
    "        print(f\"Is he or she a ditactor: {self.dictactor}\")\n",
    "    def up_info(self,name,designation,num_of_wife,dictactor):\n",
    "        self.name=name\n",
    "        self.designation=designation\n",
    "        self.num_of_wife=num_of_wife\n",
    "        self.dictactor=dictactor\n",
    "        \n",
    "wadiya=Wadiya()\n",
    "wadiya.result()\n",
    "print(\"================================\")\n",
    "wadiya.up_info(\"ridhwan\",\"president\",4,False)\n",
    "\n",
    "wadiya.result()"
   ]
  },
  {
   "cell_type": "code",
   "execution_count": 8,
   "metadata": {},
   "outputs": [
    {
     "name": "stdout",
     "output_type": "stream",
     "text": [
      "fjfj$"
     ]
    }
   ],
   "source": [
    "i=input()\n",
    "print(i,sep='#',end='$')"
   ]
  },
  {
   "cell_type": "code",
   "execution_count": null,
   "metadata": {},
   "outputs": [],
   "source": []
  },
  {
   "cell_type": "code",
   "execution_count": 7,
   "metadata": {},
   "outputs": [
    {
     "name": "stdout",
     "output_type": "stream",
     "text": [
      "potol 10\n",
      "vendi 20\n",
      "ghee 30\n",
      "rosun 40\n",
      "ada 50\n"
     ]
    }
   ],
   "source": [
    "l1=['potol','vendi','ghee','rosun','ada']\n",
    "l2=[10,20,30,40,50]\n",
    "\n",
    "for i in range((5)):\n",
    "    print(l1[i] , l2[i])\n",
    "    # print(i)"
   ]
  },
  {
   "cell_type": "code",
   "execution_count": null,
   "metadata": {},
   "outputs": [],
   "source": []
  }
 ],
 "metadata": {
  "kernelspec": {
   "display_name": "Python 3 (ipykernel)",
   "language": "python",
   "name": "python3"
  },
  "language_info": {
   "codemirror_mode": {
    "name": "ipython",
    "version": 3
   },
   "file_extension": ".py",
   "mimetype": "text/x-python",
   "name": "python",
   "nbconvert_exporter": "python",
   "pygments_lexer": "ipython3",
   "version": "3.9.12"
  },
  "vscode": {
   "interpreter": {
    "hash": "25d2fdca2609e94d9870819ebc84215797e81d9ba6db6f31b2b9677e97c0badd"
   }
  }
 },
 "nbformat": 4,
 "nbformat_minor": 2
}
