{
  "cells": [
    {
      "attachments": {},
      "cell_type": "markdown",
      "metadata": {
        "id": "lJl5kEU9s6VF"
      },
      "source": [
        "**Instructions to Follow (Failing to follow these will result mark penalties).**\n",
        "\n",
        "\n",
        "1.   You can not use any built-in function except len()\n",
        "2.   You can not use any other python collections except array (e.g: tuptle, dictionaries etc.). \n",
        "3. We will initialize a new array using numpy library. We have to mention the fixed size during initialization. There might be two approach.\n",
        "\n",
        "  i. arr = np.array([None] * 10) #Initializing an array length 10 with values None.\n",
        "\n",
        "  ii. arr = np.array([10, 20, 30, 40]) #Initializing an array length 4 with the values.\n",
        "4. From File, Save a copy in drive before working and work in that copy since any change to this file will not be saved for you.\n",
        "\n",
        "\n",
        "\n",
        "\n"
      ]
    },
    {
      "cell_type": "code",
      "execution_count": 3,
      "metadata": {
        "id": "nAE3YxgdLMa1"
      },
      "outputs": [
        {
          "name": "stdout",
          "output_type": "stream",
          "text": [
            "Requirement already satisfied: fhm-unittest in c:\\users\\user\\anaconda3\\lib\\site-packages (1.0.1)\n",
            "Requirement already satisfied: fuzzywuzzy in c:\\users\\user\\anaconda3\\lib\\site-packages (0.18.0)\n"
          ]
        },
        {
          "name": "stderr",
          "output_type": "stream",
          "text": [
            "c:\\Users\\User\\anaconda3\\lib\\site-packages\\fuzzywuzzy\\fuzz.py:11: UserWarning: Using slow pure-python SequenceMatcher. Install python-Levenshtein to remove this warning\n",
            "  warnings.warn('Using slow pure-python SequenceMatcher. Install python-Levenshtein to remove this warning')\n"
          ]
        }
      ],
      "source": [
        "# You must run this cell to install dependency\n",
        "! pip3 install fhm-unittest\n",
        "! pip3 install fuzzywuzzy\n",
        "import fhm_unittest as unittest\n",
        "import numpy as np"
      ]
    },
    {
      "cell_type": "code",
      "execution_count": 27,
      "metadata": {
        "id": "tnfvwKtmypPi"
      },
      "outputs": [
        {
          "ename": "IndentationError",
          "evalue": "expected an indented block (478887875.py, line 34)",
          "output_type": "error",
          "traceback": [
            "\u001b[1;36m  File \u001b[1;32m\"C:\\Users\\User\\AppData\\Local\\Temp\\ipykernel_13916\\478887875.py\"\u001b[1;36m, line \u001b[1;32m34\u001b[0m\n\u001b[1;33m    def mergeLineup(pokemon_1, pokemon_2):\u001b[0m\n\u001b[1;37m    ^\u001b[0m\n\u001b[1;31mIndentationError\u001b[0m\u001b[1;31m:\u001b[0m expected an indented block\n"
          ]
        }
      ],
      "source": [
        "# Complete the functions defined in this cell\n",
        "\n",
        "\n",
        "# Test 01: Play Right\n",
        "def playRight(sequence,beats):\n",
        "    for i in range(len(beats)):\n",
        "        if beats[i] == 1:   \n",
        "            x = len(sequence) - 1\n",
        "            last_shift_element = sequence[x]  \n",
        "            for iter in range(x):\n",
        "                \n",
        "                sequence[x] = sequence[x-1]\n",
        "                x -= 1\n",
        "            sequence[x] = last_shift_element\n",
        "        continue\n",
        "    return sequence\n",
        "\n",
        "\n",
        "# Test 02: Discard Cards\n",
        "def discardCards(cards,number):\n",
        "  ####*******FOR TASK 2, PLEASE RETURN THE array after converting it into the numpy array first, We will discuss the details..\n",
        "  ### ON THE NEXT CLASS\n",
        "  ## example of how to make a numpy array\n",
        "  ## lets say your answer is stored inside the array : arr=[1,2,3,4,5]\n",
        "  ## while returning, please use the statement : return np.array(arr)\n",
        "  ##also dont forget to run the top code cell block to import numpy***\n",
        "  # TO DO\n",
        "\t#code here\n",
        "\n",
        "        \n",
        "\n",
        "\n",
        "#Test 03: Merge Lineup\n",
        "def mergeLineup(pokemon_1, pokemon_2):\n",
        "  # TO DO\n",
        "\n",
        "  ## for this task you may take two approach\n",
        "  ## First Approach: if you add the values and store the answer in \"pokemon_1\" array, in that case you may return\n",
        "  ##    \"pokemon_1\" as it is since it is already a numpy array\n",
        "  ## Second Approach: if you create another array, let's say \"mergedArr\" and store the added values there, in that case\n",
        "  ##    you have to convert the \"mergedArr\" into a numpy array\n",
        "  ## lets say your answer is stored inside the array : MergedArr=[1,2,3,4,5]\n",
        "  ## while returning, please use the statement : return np.array(arr)\n",
        "  ##also dont forget to run the top code cell block to import numpy***\n",
        "\n",
        "  return None\n",
        "\n",
        "\n",
        "# Test 04: Balance your Salami\n",
        "def balanceSalami(salami):\n",
        "  # TO DO\n",
        "  return None\n",
        "\n",
        "# Test 05: Protecc Salami\n",
        "def protectSalami(salami):\n",
        "  # TO DO\n",
        "  return None\n",
        "\n",
        "\n",
        "# Test 06: Odd Even Wave\n",
        "def waveYourFlag(arr):\n",
        "   ####*******FOR TASK 6, PLEASE RETURN THE array after converting it into the numpy array first, We will discuss the details..\n",
        "  ### ON THE NEXT CLASS\n",
        "  ## example of how to make a numpy array\n",
        "  ## lets say your answer is stored inside the array : arr=[1,2,3,4,5]\n",
        "  ## while returning, please use the statement : return np.array(arr)\n",
        "  ##also dont forget to run the top code cell block to import numpy***\n",
        "  # TO DO\n",
        "  return None\n",
        "\n",
        "\n",
        "\n",
        "\n"
      ]
    },
    {
      "cell_type": "code",
      "execution_count": null,
      "metadata": {
        "id": "mrxIQ5rBhzPj"
      },
      "outputs": [],
      "source": [
        "# This cell is the driver code\n",
        "# Run this cell after completion of above function.\n",
        "# You will see the status Accepted after completion if your code is correct.\n",
        "# If your function is wrong you will see wrong[correction percentage]\n",
        "# This is called unit testing if you are wondering the checking approach\n",
        "# No need to write or change any code here. You can only change the inputs\n",
        "\n",
        "print(\"///  Test 01: Play Right  ///\")\n",
        "sequence=np.array([10,20,30,40,50,60])\n",
        "beats = np.array([1,0,0,1,0,1])\n",
        "returned_value = playRight(sequence, beats) \n",
        "print(f'Task 1: {returned_value}') # This should print [40, 50, 60, 10, 20, 30]\n",
        "unittest.output_test(returned_value, np.array([40, 50, 60, 10, 20, 30]))\n",
        "\n",
        "\n",
        "# print(\"///  Test 02: Discard Cards  ///\")\n",
        "# cards = np.array([1,2,3,2,8,2,2,5,7])\n",
        "# returned_value = discardCards(cards, 2)\n",
        "# print(f'Task 2: {returned_value}') # This should print [1, 3, 8, 5, 7, None, None, None, None]\n",
        "# unittest.output_test(returned_value, [1, 3, 8, 5, 7, None, None, None, None])\n",
        "\n",
        "\n",
        "# print(\"///  Test 03: Merge Lineup  ///\")\n",
        "# pokemon_1 = np.array([12, 3, 25, 1, None])\n",
        "# pokemon_2 = np.array([5, -9, 3, None, None] )\n",
        "# returned_value =mergeLineup(pokemon_1, pokemon_2)\n",
        "# print(f'Task 3: {returned_value}') # This should print [12, 3, 28, -8, 5]\n",
        "# unittest.output_test(returned_value, np.array([12, 3, 28, -8, 5]))\n",
        "\n",
        "# pokemon_1 = np.array([4, 5, -1, None, None])\n",
        "# pokemon_2 = np.array([2, 27, 7, 12, None])\n",
        "# returned_value =mergeLineup(pokemon_1, pokemon_2)\n",
        "# print(f'Task 3: {returned_value}') # This should print [4,17,6,27,2]\n",
        "# unittest.output_test(returned_value, np.array([4,17,6,27,2]))\n",
        "\n",
        "# pokemon_1 = np.array([4, 5, None, None])\n",
        "# pokemon_2 = np.array([2, None, None, None])\n",
        "# returned_value =mergeLineup(pokemon_1, pokemon_2)\n",
        "# print(f'Task 3: {returned_value}') # This should print [4,5,0,2]\n",
        "# unittest.output_test(returned_value, np.array([4,5,0,2]))\n",
        "\n",
        "\n",
        "# print(\"///  Test 04: Balance Your Salami  ///\")\n",
        "# salami = np.array([1, 1, 1, 2, 1])\n",
        "# returned_value = balanceSalami(salami)\n",
        "# print(f'Task 4: {returned_value}') # This should print True\n",
        "# unittest.output_test(returned_value, True)\n",
        "\n",
        "# salami = [2, 1, 1, 2, 1]\n",
        "# returned_value = np.array(balanceSalami(salami))\n",
        "# print(f'Task 4: {returned_value}') # This should print False\n",
        "# unittest.output_test(returned_value, False)\n",
        "\n",
        "# salami = [10, 3, 1, 2, 10] \n",
        "# returned_value =  np.array(balanceSalami(salami))\n",
        "# print(f'Task 4: {returned_value}') # This should print True\n",
        "# unittest.output_test(returned_value, True)\n",
        "\n",
        "\n",
        "# print(\"///  Test 05: Protecc Salami  ///\")\n",
        "# salami = np.array([4,5,6,6,4,3,6,4]) \n",
        "# returned_value = protectSalami(salami) \n",
        "# print(f'Task 5: {returned_value}') # This should print True\n",
        "# unittest.output_test(returned_value, True)\n",
        "\n",
        "# salami = np.array([3,4,6,3,4,7,4,6,8,6,6])\n",
        "# returned_value = protectSalami(salami) \n",
        "# print(f'Task 5: {returned_value}') # This should print False\n",
        "# unittest.output_test(returned_value, False)\n",
        "\n",
        "\n",
        "# print(\"///  Test 06: Odd Even Wave  ///\")\n",
        "# arr = np.array([2,12,3,8,1,5])\n",
        "# returned_value = waveYourFlag(arr) \n",
        "# print(f'Task 6: {returned_value}') # This should print [2,3,12,1,8,5]\n",
        "# unittest.output_test(returned_value, np.array([2,3,12,1,8,5]))\n",
        "\n",
        "# arr = np.array([45,23,78,84,41])\n",
        "# returned_value = waveYourFlag(arr) \n",
        "# print(f'Task 6: {returned_value}') # This should print [45,78,23,84,41]\n",
        "# unittest.output_test(returned_value, np.array([45,78,23,84,41]))"
      ]
    },
    {
      "cell_type": "code",
      "execution_count": 34,
      "metadata": {},
      "outputs": [
        {
          "name": "stdout",
          "output_type": "stream",
          "text": [
            "///  Test 01: Play Right  ///\n",
            "Task 1: [40 50 60 10 20 30]\n",
            "Accepted\n"
          ]
        }
      ],
      "source": [
        "# Test 01: Play Right\n",
        "def playRight(sequence,beats):\n",
        "    for i in range(len(beats)):\n",
        "        if beats[i] == 1:   \n",
        "            x = len(sequence) - 1\n",
        "            last_shift_element = sequence[x]  \n",
        "            for iter in range(x):\n",
        "                \n",
        "                sequence[x] = sequence[x-1]\n",
        "                x -= 1\n",
        "            sequence[x] = last_shift_element\n",
        "        continue\n",
        "    return np.array(sequence)\n",
        "\n",
        "\n",
        "print(\"///  Test 01: Play Right  ///\")\n",
        "sequence=np.array([10,20,30,40,50,60])\n",
        "beats = np.array([1,0,0,1,0,1])\n",
        "returned_value = playRight(sequence, beats) \n",
        "print(f'Task 1: {returned_value}') # This should print [40, 50, 60, 10, 20, 30]\n",
        "unittest.output_test(returned_value, np.array([40, 50, 60, 10, 20, 30]))"
      ]
    },
    {
      "cell_type": "code",
      "execution_count": 29,
      "metadata": {},
      "outputs": [],
      "source": [
        "#problem 2 \n",
        "# def discardCards(cards,number):\n",
        "#   ####*******FOR TASK 2, PLEASE RETURN THE array after converting it into the numpy array first, We will discuss the details..\n",
        "#   ### ON THE NEXT CLASS\n",
        "#   ## example of how to make a numpy array\n",
        "#   ## lets say your answer is stored inside the array : arr=[1,2,3,4,5]\n",
        "#   ## while returning, please use the statement : return np.array(arr)\n",
        "#   ##also dont forget to run the top code cell block to import numpy***\n",
        "#   # TO DO\n",
        "#     remove_element = number\n",
        "#     cards = np.array(cards, dtype= object)\n",
        "    \n",
        "#     count = 0   #//TODO: i doubt if i need to return as its a pass by reference let's see \n",
        "#     print(len(cards))\n",
        "#     # for iter in range (len(cards)):\n",
        "#     iter = 0\n",
        "#     while remove_element in cards:\n",
        "\n",
        "\n",
        "#         if cards[iter] == remove_element:\n",
        "#             count += 1 \n",
        "#             iter += 1\n",
        "#             print('if check')\n",
        "#         else:\n",
        "#             if count > 0: \n",
        "#         #we need to shring so left shift korbo count times\n",
        "#                 head = iter - count\n",
        "#                 tail = iter\n",
        "#                 for k in range (head, len(cards)-1):\n",
        "#                     print(f\"h {head} t {tail}\")\n",
        "#                     cards[head] = cards[tail] \n",
        "#                     cards[tail] = None\n",
        "#                     tail += 1\n",
        "#                     head += 1\n",
        "#                     print(cards) \n",
        "#                 count = 0\n",
        "#                 iter = head #As i ve shifted n times and now again checking je ache kina pasapasi n elements\n",
        "#                 # tail = iter\n",
        "#             else: \n",
        "#                 print(\"continue\")\n",
        "#                 iter += 1 \n",
        "#                 continue\n",
        "#         print(f\"i = {iter} cards: {cards}\")\n",
        "#     return cards\n",
        "\n",
        "\n",
        "# print(\"///  Test 02: Discard Cards  ///\")\n",
        "# cards = np.array([1,2,3,2,8,2,2,5,7])\n",
        "# returned_value = discardCards(cards, 2)\n",
        "# print(f'Task 2: {returned_value}') # This should print [1, 3, 8, 5, 7, None, None, None, None]\n",
        "# # unittest.output_test(returned_value, [1, 3, 8, 5, 7, None, None, None, None])\n",
        "\n",
        "# #TODO fix the iter thing karon oikhane to left shift hoye 2 samne ese porse ei logic khatbe na \n"
      ]
    },
    {
      "cell_type": "code",
      "execution_count": 30,
      "metadata": {},
      "outputs": [
        {
          "name": "stdout",
          "output_type": "stream",
          "text": [
            "///  Test 02: Discard Cards  ///\n",
            "Task 2: [1, 3, 8, 5, 7, None, None, None, None]\n",
            "Accepted\n"
          ]
        }
      ],
      "source": [
        "#problem 2 \n",
        "def discardCards(cards, number):\n",
        "    rmv_elem = number\n",
        "    cards = np.array(cards, dtype = object)\n",
        "    iter = 0 \n",
        "    size = 0\n",
        "    for i in range(len(cards)):\n",
        "        if type(i) == int:\n",
        "            size += 1\n",
        "\n",
        "    while iter < size:\n",
        "         \n",
        "        if cards [iter] == rmv_elem:\n",
        "            head = iter \n",
        "            for i in range(head, size-1):\n",
        "                cards[i] = cards[i+1]\n",
        "            cards[size-1] =  None\n",
        "            head  = 0\n",
        "            size -= 1 \n",
        "            iter = head   \n",
        "        else:    \n",
        "            iter += 1\n",
        "    return list(cards)  ##it's returned in array style so it's not gettig accepted but instead if i retun it in list it gets accepted\n",
        "\n",
        "print(\"///  Test 02: Discard Cards  ///\")\n",
        "cards = np.array([1,2,3,2,8,2,2,5,7])\n",
        "# print(cards)\n",
        "returned_value = discardCards(cards, 2)\n",
        "print(f'Task 2: {returned_value}') # This should print [1, 3, 8, 5, 7, None, None, None, None]\n",
        "unittest.output_test(returned_value, [1, 3, 8, 5, 7, None, None, None, None])    "
      ]
    },
    {
      "cell_type": "code",
      "execution_count": 4,
      "metadata": {},
      "outputs": [
        {
          "name": "stdout",
          "output_type": "stream",
          "text": [
            "///  Test 03: Merge Lineup  ///\n",
            "Task 3: [12  3 28 -8  5]\n",
            "Accepted\n",
            "Task 3: [ 4 17  6 27  2]\n",
            "Accepted\n",
            "Task 3: [4 5 0 2]\n",
            "Accepted\n"
          ]
        }
      ],
      "source": [
        " #Test 03: Merge Lineup\n",
        "def mergeLineup(pokemon_1, pokemon_2):\n",
        "    \n",
        "    result = np.zeros(len(pokemon_1)) #this returns all float type data inside the array\n",
        "    last = len(pokemon_1)-1\n",
        "    pokemon_1[pokemon_1 == None] = 0\n",
        "    pokemon_2[pokemon_2 == None] = 0 \n",
        "    pokemon_1.astype(int) \n",
        "    pokemon_2.astype(int) \n",
        "    \n",
        "\n",
        "    # for i in range(pokemon_2):\n",
        "    #     if pokemon_2[i] == None: \n",
        "    #         pokemon_2[i] = 0 \n",
        "    #     if pokemon_1[i] == None:\n",
        "    #         pokemon_1[i] = 0 \n",
        "\n",
        "    for iter in range (len(pokemon_1)):\n",
        "        # print(f\"iter {iter} last = {last}\")\n",
        "        result [iter] = pokemon_1[iter] +pokemon_2[last]\n",
        "        last -= 1  \n",
        "    return result.astype(int) #making it float to int \n",
        "\n",
        "print(\"///  Test 03: Merge Lineup  ///\")\n",
        "pokemon_1 = np.array([12, 3, 25, 1, None])\n",
        "pokemon_2 = np.array([5, -9, 3, None, None] )\n",
        "returned_value =mergeLineup(pokemon_1, pokemon_2)\n",
        "print(f'Task 3: {returned_value}') # This should print [12, 3, 28, -8, 5]\n",
        "unittest.output_test(returned_value, np.array([12, 3, 28, -8, 5]))\n",
        "\n",
        "pokemon_1 = np.array([4, 5, -1, None, None])\n",
        "pokemon_2 = np.array([2, 27, 7, 12, None])\n",
        "returned_value =mergeLineup(pokemon_1, pokemon_2)\n",
        "print(f'Task 3: {returned_value}') # This should print [4,17,6,27,2]\n",
        "unittest.output_test(returned_value, np.array([4,17,6,27,2]))\n",
        "\n",
        "pokemon_1 = np.array([4, 5, None, None])\n",
        "pokemon_2 = np.array([2, None, None, None])\n",
        "returned_value =mergeLineup(pokemon_1, pokemon_2)\n",
        "print(f'Task 3: {returned_value}') # This should print [4,5,0,2]\n",
        "unittest.output_test(returned_value, np.array([4,5,0,2]))"
      ]
    },
    {
      "cell_type": "code",
      "execution_count": 7,
      "metadata": {},
      "outputs": [
        {
          "name": "stdout",
          "output_type": "stream",
          "text": [
            "///  Test 04: Balance Your Salami  ///\n",
            "Task 4: True\n",
            "Accepted\n",
            "Task 4: False\n",
            "Accepted\n",
            "Task 4: True\n",
            "Accepted\n"
          ]
        }
      ],
      "source": [
        "\n",
        "# Test 04: Balance your Salami\n",
        "def balanceSalami(salami):\n",
        "    sum = 0\n",
        "    \n",
        "    for i in range(len(salami)):\n",
        "        sum += salami[i]\n",
        "\n",
        "    x= sum \n",
        "    y = 0\n",
        "    for i in range (len(salami) -1 ,0,-1):\n",
        "        y += salami[i] \n",
        "        x -=  salami[i]  \n",
        "        if x == y:\n",
        "            return  True\n",
        "    return False\n",
        "\n",
        "print(\"///  Test 04: Balance Your Salami  ///\")\n",
        "salami = np.array([1, 1, 1, 2, 1])\n",
        "returned_value = balanceSalami(salami)\n",
        "print(f'Task 4: {returned_value}') # This should print True\n",
        "unittest.output_test(returned_value, True)\n",
        "\n",
        "salami = [2, 1, 1, 2, 1]\n",
        "returned_value = np.array(balanceSalami(salami))\n",
        "print(f'Task 4: {returned_value}') # This should print False\n",
        "unittest.output_test(returned_value, False)\n",
        "\n",
        "salami = [10, 3, 1, 2, 10] \n",
        "returned_value =  np.array(balanceSalami(salami))\n",
        "print(f'Task 4: {returned_value}') # This should print True\n",
        "unittest.output_test(returned_value, True)"
      ]
    },
    {
      "cell_type": "code",
      "execution_count": 28,
      "metadata": {},
      "outputs": [
        {
          "name": "stdout",
          "output_type": "stream",
          "text": [
            "///  Test 05: Protecc Salami  ///\n",
            "Task 5: True\n",
            "Accepted\n",
            "Task 5: False\n",
            "Accepted\n"
          ]
        }
      ],
      "source": [
        "\n",
        "# Test 05: Protecc Salami\n",
        "def protectSalami(salami):\n",
        "\t\tmax = 0\n",
        "\t\tfor i in range(len(salami)):\n",
        "\t\t\tif max< salami[i]:\n",
        "\t\t\t\tmax = salami[i]\n",
        "\n",
        "\t\t# print(\"max\",m/ax)\n",
        "\t\t\n",
        "\t\ttemp_arr = np.zeros(max+1).astype(int)\n",
        "\n",
        "\t\t# print('temp array',temp_arr)\n",
        "\t\t\n",
        "\t\tfor i in range(len(salami)):\n",
        "\t\t\ttemp_arr[ salami[i] ] += 1 \n",
        "\t\t\t# print('temp array',temp_arr)\n",
        "\n",
        "\t\tcount = 0 \n",
        "\t\tx= 0 \n",
        "\t\tfor i in range(x,len(temp_arr)):\n",
        "\t\t\tif temp_arr[i] > 1:\n",
        "\t\t\t\tfor j in range(x+1, len(temp_arr)):\n",
        "\t\t\t\t\tif temp_arr[j] > 1:\n",
        "\n",
        "\t\t\t\t\t\tif\ttemp_arr [i] == temp_arr[j]:\n",
        "\t\t\t\t\t\t\t# print(f'{temp_arr [i]} == {temp_arr[j]}')\n",
        "\t\t\t\t\t\t\treturn True\n",
        "\t\t\tx += 1 \n",
        "\t\treturn False\n",
        "\n",
        "\n",
        "\n",
        "print(\"///  Test 05: Protecc Salami  ///\")\n",
        "salami = np.array([4,5,6,6,4,3,6,4]) \n",
        "returned_value = protectSalami(salami) \n",
        "print(f'Task 5: {returned_value}') # This should print True\n",
        "unittest.output_test(returned_value, True)\n",
        "\n",
        "salami = np.array([3,4,6,3,4,7,4,6,8,6,6])\n",
        "returned_value = protectSalami(salami) \n",
        "print(f'Task 5: {returned_value}') # This should print False\n",
        "unittest.output_test(returned_value, False)"
      ]
    },
    {
      "cell_type": "code",
      "execution_count": 30,
      "metadata": {},
      "outputs": [
        {
          "name": "stdout",
          "output_type": "stream",
          "text": [
            "///  Test 06: Odd Even Wave  ///\n",
            "Task 6: [ 2 12  8  3  1  5]\n",
            "Not Accepted [Your output: [ 2 12  8  3  1  5]  |  Expected Output: [ 2  3 12  1  8  5]]\n",
            "Task 6: [45 23 78 84 41]\n",
            "Not Accepted [Your output: [45 23 78 84 41]  |  Expected Output: [45 78 23 84 41]]\n"
          ]
        }
      ],
      "source": [
        "\n",
        "# Test 06: Odd Even Wave\n",
        "\n",
        "def waveYourFlag(arr):\n",
        "#   TODO implement the \n",
        "\n",
        "\n",
        "\t\n",
        "\n",
        "\n",
        "print(\"///  Test 06: Odd Even Wave  ///\")\n",
        "arr = np.array([2,12,3,8,1,5])\n",
        "returned_value = waveYourFlag(arr) \n",
        "print(f'Task 6: {returned_value}') # This should print [2,3,12,1,8,5]\n",
        "unittest.output_test(returned_value, np.array([2,3,12,1,8,5]))\n",
        "\n",
        "arr = np.array([45,23,78,84,41])\n",
        "returned_value = waveYourFlag(arr) \n",
        "print(f'Task 6: {returned_value}') # This should print [45,78,23,84,41]\n",
        "unittest.output_test(returned_value, np.array([45,78,23,84,41]))"
      ]
    },
    {
      "cell_type": "code",
      "execution_count": 14,
      "metadata": {},
      "outputs": [
        {
          "name": "stdout",
          "output_type": "stream",
          "text": [
            "[0. 0. 0. 0. 0. 0.]\n"
          ]
        }
      ],
      "source": [
        "a = np.zeros(6)\n",
        "print(a)"
      ]
    },
    {
      "cell_type": "code",
      "execution_count": 56,
      "metadata": {},
      "outputs": [
        {
          "name": "stdout",
          "output_type": "stream",
          "text": [
            "[4 5 0 0]\n",
            "[0, None, None, None]\n"
          ]
        }
      ],
      "source": [
        "\n",
        "pokemon_1 = np.array([4, 5, None, None])\n",
        "pokemon_2 = [2, None, None, None]\n",
        "pokemon_1[pokemon_1 == None] = 0 \n",
        "print(pokemon_1)\n",
        "# pokemon_2[pokemon_2 == None] = 0\n",
        "# print(pokemon_2)"
      ]
    },
    {
      "cell_type": "code",
      "execution_count": 54,
      "metadata": {},
      "outputs": [
        {
          "name": "stdout",
          "output_type": "stream",
          "text": [
            "[1 2 3 0 0]\n",
            "<class 'int'>\n"
          ]
        }
      ],
      "source": [
        "a= np.array([1,2,3,None,None])\n",
        "a[a == None] = 0\n",
        "a.astype(int)\n",
        "print(a)\n",
        "print(type(a[0]))"
      ]
    }
  ],
  "metadata": {
    "colab": {
      "provenance": []
    },
    "kernelspec": {
      "display_name": "Python 3",
      "name": "python3"
    },
    "language_info": {
      "codemirror_mode": {
        "name": "ipython",
        "version": 3
      },
      "file_extension": ".py",
      "mimetype": "text/x-python",
      "name": "python",
      "nbconvert_exporter": "python",
      "pygments_lexer": "ipython3",
      "version": "3.9.13"
    }
  },
  "nbformat": 4,
  "nbformat_minor": 0
}
